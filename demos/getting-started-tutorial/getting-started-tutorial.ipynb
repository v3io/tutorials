{
 "cells": [
  {
   "cell_type": "markdown",
   "metadata": {},
   "source": [
    "<a id=\"top\"></a>\n",
    "# Iguazio Tutorial: Getting Started\n",
    "\n",
    "This tutorial is designed to provide an overview of Iguazio's Data Science platform capabilities. <br>\n",
    "In this tutorial we would go over a basic ML workflow comprised of the following steps:\n",
    "1. [Create project & Set Configurations](#step1)\n",
    "2. [Data Acquisition](#step2)\n",
    "3. [Data Exploration](#step3)\n",
    "4. [Run model training at scale](#step4)\n",
    "5. [Model testing](#step5)\n",
    "6. [Create a Fully Automated ML Pipeline](#step6)\n",
    "\n",
    "By the end of this tutorial you will learn how to:\n",
    "1. Create a new project\n",
    "2. Create functions and track experiments while running them \n",
    "3. Store artifacts to be used and managed in a central database\n",
    "4. Leverage the Iguazio functions marketplace \n",
    "5. Create an automated pipeline\n",
    "6. Run your code on a distributed cluster without any DevOps\n",
    "7. Create a scalable endpoint for model serving\n",
    "\n",
    "\n",
    "For this example we will use the [Iris flower data set](https://en.wikipedia.org/wiki/Iris_flower_data_set). This is a well-known dataset that is widely used for basic tutorials, such as this. The dataset contains a set of 150 records under five attributes - petal length, petal width, sepal length, sepal width and species. Our model will classify the species based on the other four attributes."
   ]
  },
  {
   "cell_type": "markdown",
   "metadata": {},
   "source": [
    "<a id=\"step1\"></a>\n",
    "# Step 1: Create Project & Set Configurations"
   ]
  },
  {
   "cell_type": "markdown",
   "metadata": {},
   "source": [
    "## Create a New Project\n",
    "Projects are used to package multiple functions, workflows, and artifacts. We usually store project code and definitions in a Git archive.\n",
    "\n",
    "Set the base `project` directory in the same folder as this notebook. All the projects deliverables reside under the project directory.\n",
    "\n",
    "The project folder is structured as follows:\n",
    "- `project.yaml` containing the project definitions\n",
    "- Additional generated python code\n",
    "\n",
    "After setting the `project_path` and the `project_name`, call `new_project` to create the project"
   ]
  },
  {
   "cell_type": "code",
   "execution_count": 1,
   "metadata": {},
   "outputs": [
    {
     "name": "stdout",
     "output_type": "stream",
     "text": [
      "Project path: /User/demos/getting-started-tutorial/conf\n"
     ]
    }
   ],
   "source": [
    "from os import path\n",
    "from mlrun import new_project\n",
    "project_path = path.abspath('conf')\n",
    "project_name = 'getting-started-iris'\n",
    "project = new_project(project_name, project_path, init_git=True)\n",
    "\n",
    "print(f'Project path: {project_path}')"
   ]
  },
  {
   "cell_type": "markdown",
   "metadata": {},
   "source": [
    "## MLRun configuration\n",
    "\n",
    "MLRun is a generic and convenient mechanism for data scientists and software developers to describe and run tasks related to machine learning (ML) in various, scalable runtime environments and ML pipelines while automatically tracking executed code, metadata, inputs, and outputs. MLRun integrates with the Nuclio serverless project and with Kubeflow Pipelines.\n",
    "\n",
    "> **Note**:\n",
    ">\n",
    "> As a pre-requisite, the MLRun service must be installed in the cluster. For more information, reach out to support@iguazio.com"
   ]
  },
  {
   "cell_type": "markdown",
   "metadata": {},
   "source": [
    "Now we'll set the artifact path. artifacts from each run are stored in the `artifact_path` which can be set globally through environment var (`MLRUN_ARTIFACT_PATH`) or through the config, if it's not already set we can create a directory and use it in our runs. Using `{{run.uid}}` in the path will allow us to create a unique directory per run, but we are not using this option in this demo. When we use pipelines, we can use the `{{workflow.uid}}` template option to create a directory for each iteration. When running jobs as standalone jobs the data and artifacts will be saved under the `jobs` folder under the `project name` directory. Later in the notebook we will create a full pipeline, in this case the artifacts will be stored in the `pipeline` directory.\n",
    "\n",
    "Within the artifacts directory you will find 3 folders:\n",
    "- `data` to store any information, such as dataframes\n",
    "- `plots` to store images, figures, and plotlines\n",
    "- `models` to store any trained models"
   ]
  },
  {
   "cell_type": "code",
   "execution_count": 2,
   "metadata": {},
   "outputs": [
    {
     "name": "stdout",
     "output_type": "stream",
     "text": [
      "Artifacts path: /User/demos/getting-started-tutorial/jobs\n",
      "MLRun DB path: http://10.194.195.75:8080\n"
     ]
    }
   ],
   "source": [
    "from mlrun import run_local, NewTask, mlconf, import_function, mount_v3io\n",
    "artifact_path = path.abspath('jobs') # specify artifacts target location\n",
    "mlconf.dbpath = mlconf.dbpath or 'http://mlrun-api:8080'\n",
    "\n",
    "print(f'Artifacts path: {artifact_path}\\nMLRun DB path: {mlconf.dbpath}')"
   ]
  },
  {
   "cell_type": "markdown",
   "metadata": {},
   "source": [
    "## Specify nuclio imports\n",
    "You will see throughout this notebook nuclio commands and comments related to the code generation. Nuclio is used for annotating the notebook in order to automate the function generation."
   ]
  },
  {
   "cell_type": "code",
   "execution_count": 3,
   "metadata": {},
   "outputs": [],
   "source": [
    "import nuclio"
   ]
  },
  {
   "cell_type": "code",
   "execution_count": 4,
   "metadata": {},
   "outputs": [],
   "source": [
    "# nuclio: start-code"
   ]
  },
  {
   "cell_type": "markdown",
   "metadata": {},
   "source": [
    "**Specify function dependencies and configuration**"
   ]
  },
  {
   "cell_type": "code",
   "execution_count": 5,
   "metadata": {},
   "outputs": [
    {
     "name": "stdout",
     "output_type": "stream",
     "text": [
      "%nuclio: setting spec.image to 'mlrun/ml-models'\n",
      "%nuclio: setting kind to 'job'\n"
     ]
    }
   ],
   "source": [
    "%nuclio config spec.image = \"mlrun/ml-models\"\n",
    "%nuclio config kind = \"job\""
   ]
  },
  {
   "cell_type": "markdown",
   "metadata": {},
   "source": [
    "<a id=\"step2\"></a>\n",
    "# Step 2: Data Acquisition\n",
    "We will download the data from AWS S3 bucket into Iguazio file system and store it as an MLRun dataset"
   ]
  },
  {
   "cell_type": "markdown",
   "metadata": {},
   "source": [
    "Set the source data URL."
   ]
  },
  {
   "cell_type": "code",
   "execution_count": 6,
   "metadata": {},
   "outputs": [],
   "source": [
    "# nuclio: ignore\n",
    "source_url = 'http://iguazio-sample-data.s3.amazonaws.com/iris_dataset.csv'"
   ]
  },
  {
   "cell_type": "code",
   "execution_count": 7,
   "metadata": {},
   "outputs": [],
   "source": [
    "from os import path\n",
    "import pandas as pd\n",
    "\n",
    "def get_data(context, source_url, format='csv'):\n",
    "\n",
    "    iris_dataset = pd.read_csv(str(source_url))\n",
    "    \n",
    "    target_path=path.join(context.artifact_path, 'data')\n",
    "    # We can print out data to our logger\n",
    "    context.logger.info('saving iris dataframe to {}'.format(target_path))\n",
    "    \n",
    "    # Store the dataset in the artifact database\n",
    "    context.log_dataset('iris_dataset', df=iris_dataset, format=format, index=False, artifact_path=target_path)"
   ]
  },
  {
   "cell_type": "markdown",
   "metadata": {},
   "source": [
    "The following end-code annotation tells ```nuclio``` to stop parsing the notebook from this cell. _**Please do not remove this cell**_:"
   ]
  },
  {
   "cell_type": "code",
   "execution_count": 8,
   "metadata": {},
   "outputs": [],
   "source": [
    "# nuclio: end-code\n",
    "# marks the end of a code section"
   ]
  },
  {
   "cell_type": "markdown",
   "metadata": {},
   "source": [
    "<a id='test-locally'></a>\n",
    "## Run the function locally\n",
    "\n",
    "The functions above can be tested locally. Parameters, inputs, and outputs can be specified in the API or the `Task` object.<br>\n",
    "When using `run_local()` the function inputs and outputs are automatically recorded by MLRun experiment and data tracking DB.\n",
    "\n",
    "In each run we can specify the function, inputs, parameters/hyper-parameters, etc... For more details, see the `mlrun_basics` notebook."
   ]
  },
  {
   "cell_type": "code",
   "execution_count": 9,
   "metadata": {},
   "outputs": [
    {
     "name": "stdout",
     "output_type": "stream",
     "text": [
      "[mlrun] 2020-04-19 10:56:45,860 starting run get_data-get_data uid=1c81ed4c53294eec8c7c7e8e4db33254  -> http://10.194.195.75:8080\n",
      "[mlrun] 2020-04-19 10:56:46,305 saving iris dataframe to /User/demos/getting-started-tutorial/jobs/data\n",
      "[mlrun] 2020-04-19 10:56:46,369 log artifact iris_dataset at /User/demos/getting-started-tutorial/jobs/data/iris_dataset.csv, size: 2776, db: Y\n",
      "\n"
     ]
    },
    {
     "data": {
      "text/html": [
       "<style> \n",
       ".dictlist {\n",
       "  background-color: #b3edff; \n",
       "  text-align: center; \n",
       "  margin: 4px; \n",
       "  border-radius: 3px; padding: 0px 3px 1px 3px; display: inline-block;}\n",
       ".artifact {\n",
       "  cursor: pointer; \n",
       "  background-color: #ffe6cc; \n",
       "  text-align: left; \n",
       "  margin: 4px; border-radius: 3px; padding: 0px 3px 1px 3px; display: inline-block;\n",
       "}\n",
       "div.block.hidden {\n",
       "  display: none;\n",
       "}\n",
       ".clickable {\n",
       "  cursor: pointer;\n",
       "}\n",
       ".ellipsis {\n",
       "  display: inline-block;\n",
       "  max-width: 60px;\n",
       "  white-space: nowrap;\n",
       "  overflow: hidden;\n",
       "  text-overflow: ellipsis;\n",
       "}\n",
       ".master-wrapper {\n",
       "  display: flex;\n",
       "  flex-flow: row nowrap;\n",
       "  justify-content: flex-start;\n",
       "  align-items: stretch;\n",
       "}\n",
       ".master-tbl {\n",
       "  flex: 3\n",
       "}\n",
       ".master-wrapper > div {\n",
       "  margin: 4px;\n",
       "  padding: 10px;\n",
       "}\n",
       "iframe.fileview {\n",
       "  border: 0 none;\n",
       "  height: 100%;\n",
       "  width: 100%;\n",
       "  white-space: pre-wrap;\n",
       "}\n",
       ".pane-header-title {\n",
       "  width: 80%;\n",
       "  font-weight: 500;\n",
       "}\n",
       ".pane-header {\n",
       "  line-height: 1;\n",
       "  background-color: #ffe6cc;\n",
       "  padding: 3px;\n",
       "}\n",
       ".pane-header .close {\n",
       "  font-size: 20px;\n",
       "  font-weight: 700;\n",
       "  float: right;\n",
       "  margin-top: -5px;\n",
       "}\n",
       ".master-wrapper .right-pane {\n",
       "  border: 1px inset silver;\n",
       "  width: 40%;\n",
       "  min-height: 300px;\n",
       "  flex: 3\n",
       "  min-width: 500px;\n",
       "}\n",
       ".master-wrapper * {\n",
       "  box-sizing: border-box;\n",
       "}\n",
       "</style><script>\n",
       "function copyToClipboard(fld) {\n",
       "    if (document.queryCommandSupported && document.queryCommandSupported('copy')) {\n",
       "        var textarea = document.createElement('textarea');\n",
       "        textarea.textContent = fld.innerHTML;\n",
       "        textarea.style.position = 'fixed';\n",
       "        document.body.appendChild(textarea);\n",
       "        textarea.select();\n",
       "\n",
       "        try {\n",
       "            return document.execCommand('copy'); // Security exception may be thrown by some browsers.\n",
       "        } catch (ex) {\n",
       "\n",
       "        } finally {\n",
       "            document.body.removeChild(textarea);\n",
       "        }\n",
       "    }\n",
       "}\n",
       "function expandPanel(el) {\n",
       "  const panelName = \"#\" + el.getAttribute('paneName');\n",
       "  console.log(el.title);\n",
       "\n",
       "  document.querySelector(panelName + \"-title\").innerHTML = el.title\n",
       "  iframe = document.querySelector(panelName + \"-body\");\n",
       "  \n",
       "  const tblcss = `<style> body { font-family: Arial, Helvetica, sans-serif;}\n",
       "    #csv { margin-bottom: 15px; }\n",
       "    #csv table { border-collapse: collapse;}\n",
       "    #csv table td { padding: 4px 8px; border: 1px solid silver;} </style>`;\n",
       "\n",
       "  function csvToHtmlTable(str) {\n",
       "    return '<div id=\"csv\"><table><tr><td>' +  str.replace(/[\\n\\r]+$/g, '').replace(/[\\n\\r]+/g, '</td></tr><tr><td>')\n",
       "      .replace(/,/g, '</td><td>') + '</td></tr></table></div>';\n",
       "  }\n",
       "  \n",
       "  function reqListener () {\n",
       "    if (el.title.endsWith(\".csv\")) {\n",
       "      iframe.setAttribute(\"srcdoc\", tblcss + csvToHtmlTable(this.responseText));\n",
       "    } else {\n",
       "      iframe.setAttribute(\"srcdoc\", this.responseText);\n",
       "    }  \n",
       "    console.log(this.responseText);\n",
       "  }\n",
       "\n",
       "  const oReq = new XMLHttpRequest();\n",
       "  oReq.addEventListener(\"load\", reqListener);\n",
       "  oReq.open(\"GET\", el.title);\n",
       "  oReq.send();\n",
       "  \n",
       "  \n",
       "  //iframe.src = el.title;\n",
       "  const resultPane = document.querySelector(panelName + \"-pane\");\n",
       "  if (resultPane.classList.contains(\"hidden\")) {\n",
       "    resultPane.classList.remove(\"hidden\");\n",
       "  }\n",
       "}\n",
       "function closePanel(el) {\n",
       "  const panelName = \"#\" + el.getAttribute('paneName')\n",
       "  const resultPane = document.querySelector(panelName + \"-pane\");\n",
       "  if (!resultPane.classList.contains(\"hidden\")) {\n",
       "    resultPane.classList.add(\"hidden\");\n",
       "  }\n",
       "}\n",
       "\n",
       "</script>\n",
       "<div class=\"master-wrapper\">\n",
       "  <div class=\"block master-tbl\"><div>\n",
       "<style scoped>\n",
       "    .dataframe tbody tr th:only-of-type {\n",
       "        vertical-align: middle;\n",
       "    }\n",
       "\n",
       "    .dataframe tbody tr th {\n",
       "        vertical-align: top;\n",
       "    }\n",
       "\n",
       "    .dataframe thead th {\n",
       "        text-align: right;\n",
       "    }\n",
       "</style>\n",
       "<table border=\"1\" class=\"dataframe\">\n",
       "  <thead>\n",
       "    <tr style=\"text-align: right;\">\n",
       "      <th>uid</th>\n",
       "      <th>iter</th>\n",
       "      <th>start</th>\n",
       "      <th>state</th>\n",
       "      <th>name</th>\n",
       "      <th>labels</th>\n",
       "      <th>inputs</th>\n",
       "      <th>parameters</th>\n",
       "      <th>results</th>\n",
       "      <th>artifacts</th>\n",
       "    </tr>\n",
       "  </thead>\n",
       "  <tbody>\n",
       "    <tr>\n",
       "      <td><div title=\"1c81ed4c53294eec8c7c7e8e4db33254\">...b33254</div></td>\n",
       "      <td>0</td>\n",
       "      <td>Apr 19 10:56:45</td>\n",
       "      <td>completed</td>\n",
       "      <td>get_data-get_data</td>\n",
       "      <td><div class=\"dictlist\">kind=handler</div><div class=\"dictlist\">owner=admin</div><div class=\"dictlist\">host=jupyter-gilad-65449df545-p489s</div></td>\n",
       "      <td><div title=\"http://iguazio-sample-data.s3.amazonaws.com/iris_dataset.csv\">source_url</div></td>\n",
       "      <td></td>\n",
       "      <td></td>\n",
       "      <td><div class=\"artifact\" onclick=\"expandPanel(this)\" paneName=\"result5f137bdd\" title=\"/files/demos/getting-started-tutorial/jobs/data/iris_dataset.csv\">iris_dataset</div></td>\n",
       "    </tr>\n",
       "  </tbody>\n",
       "</table>\n",
       "</div></div>\n",
       "  <div id=\"result5f137bdd-pane\" class=\"right-pane block hidden\">\n",
       "    <div class=\"pane-header\">\n",
       "      <span id=\"result5f137bdd-title\" class=\"pane-header-title\">Title</span>\n",
       "      <span onclick=\"closePanel(this)\" paneName=\"result5f137bdd\" class=\"close clickable\">&times;</span>\n",
       "    </div>\n",
       "    <iframe class=\"fileview\" id=\"result5f137bdd-body\"></iframe>\n",
       "  </div>\n",
       "</div>\n"
      ],
      "text/plain": [
       "<IPython.core.display.HTML object>"
      ]
     },
     "metadata": {},
     "output_type": "display_data"
    },
    {
     "name": "stdout",
     "output_type": "stream",
     "text": [
      "to track results use .show() or .logs() or in CLI: \n",
      "!mlrun get run 1c81ed4c53294eec8c7c7e8e4db33254 --project getting-started-iris , !mlrun logs 1c81ed4c53294eec8c7c7e8e4db33254 --project getting-started-iris\n",
      "[mlrun] 2020-04-19 10:56:46,439 run executed, status=completed\n"
     ]
    }
   ],
   "source": [
    "# run the function locally\n",
    "get_data_run = run_local(name='get_data',\n",
    "                         handler=get_data,\n",
    "                         inputs={'source_url': source_url},\n",
    "                         project=project_name, artifact_path=artifact_path) "
   ]
  },
  {
   "cell_type": "markdown",
   "metadata": {},
   "source": [
    "### Review the output\n",
    "\n",
    "In the output you should be able to see the state of the execution, all the inputs and parameters as well as results and artifacts. If you click the on the artifact `iris_dataset` you will be get a quick glance of this dataset as displayed below\n",
    "![getting_started-get_data-details](./assets/getting_started-get_data-details.png)"
   ]
  },
  {
   "cell_type": "markdown",
   "metadata": {},
   "source": [
    "You can go to the MLRun UI and view the job status, getting information about the job, view the inputs, the artifacts, results, and log. Click on the `jobs` link of the current project, to see all the jobs and their status:\n",
    "\n",
    "> Note\n",
    ">\n",
    "> To access the MLRun UI, you need to open a separate tab. The URL is usually your current app server on port `30088`.\n",
    ">\n",
    "> For example, if the current Jupyter URL is `jupyter.default-tenant.app.iguazeng.com`, then the MLRun URL would typically be `http://default-tenant.app.iguazeng.com:30088`\n",
    "\n",
    "<br>\n",
    "\n",
    "View the jobs under your project:\n",
    "![ui-jobs-monitor](./assets/getting_started-ui-jobs-monitor.png)\n",
    "\n",
    "<br><br>\n",
    "Click on the job name to see its details:\n",
    "\n",
    "![get-iris-data-ui-jobs](./assets/getting_started-get_data-ui-jobs.png)\n",
    "\n",
    "View the artifacts dataset under the artifacts tab\n",
    "\n",
    "![get-iris-data-ui-artifacts](./assets/getting_started-get_data-ui-artifacts.png)"
   ]
  },
  {
   "cell_type": "markdown",
   "metadata": {},
   "source": [
    "## Run the function on the cluster\n",
    "\n",
    "One of the key benefits of Iguazio platform is the ability to easily run any code on a distributed cluster to get better performance. In order to do that, we need to convert our notebook code to a function that can run on the cluster and for that we have a built-in function called `code_to_function`. <br>\n",
    "The ability to create a function that can run on a cluster would also be useful once we'll create the automated pipeline.<br>\n",
    "Let's run the `code_to_function`"
   ]
  },
  {
   "cell_type": "code",
   "execution_count": 10,
   "metadata": {},
   "outputs": [
    {
     "data": {
      "text/plain": [
       "<mlrun.projects.project.MlrunProject at 0x7fc6860a71d0>"
      ]
     },
     "execution_count": 10,
     "metadata": {},
     "output_type": "execute_result"
    }
   ],
   "source": [
    "from mlrun import code_to_function\n",
    "gen_func = code_to_function(name='get-data')\n",
    "project.set_function(gen_func)"
   ]
  },
  {
   "cell_type": "markdown",
   "metadata": {},
   "source": [
    "Now the funciton is ready and we can run it on the cluster. instead of `run_local`, we'll just use `run`.<br>"
   ]
  },
  {
   "cell_type": "code",
   "execution_count": 11,
   "metadata": {},
   "outputs": [
    {
     "name": "stdout",
     "output_type": "stream",
     "text": [
      "[mlrun] 2020-04-19 10:56:49,436 starting run get_data uid=efd37fc6f2984215bd2842e24ff41649  -> http://10.194.195.75:8080\n",
      "[mlrun] 2020-04-19 10:56:49,520 Job is running in the background, pod: get-data-2pm2n\n",
      "[mlrun] 2020-04-19 10:57:02,467 saving iris dataframe to /User/demos/getting-started-tutorial/jobs/data\n",
      "[mlrun] 2020-04-19 10:57:02,517 log artifact iris_dataset at /User/demos/getting-started-tutorial/jobs/data/iris_dataset.csv, size: 2776, db: Y\n",
      "\n",
      "[mlrun] 2020-04-19 10:57:02,540 run executed, status=completed\n",
      "final state: succeeded\n"
     ]
    },
    {
     "data": {
      "text/html": [
       "<style> \n",
       ".dictlist {\n",
       "  background-color: #b3edff; \n",
       "  text-align: center; \n",
       "  margin: 4px; \n",
       "  border-radius: 3px; padding: 0px 3px 1px 3px; display: inline-block;}\n",
       ".artifact {\n",
       "  cursor: pointer; \n",
       "  background-color: #ffe6cc; \n",
       "  text-align: left; \n",
       "  margin: 4px; border-radius: 3px; padding: 0px 3px 1px 3px; display: inline-block;\n",
       "}\n",
       "div.block.hidden {\n",
       "  display: none;\n",
       "}\n",
       ".clickable {\n",
       "  cursor: pointer;\n",
       "}\n",
       ".ellipsis {\n",
       "  display: inline-block;\n",
       "  max-width: 60px;\n",
       "  white-space: nowrap;\n",
       "  overflow: hidden;\n",
       "  text-overflow: ellipsis;\n",
       "}\n",
       ".master-wrapper {\n",
       "  display: flex;\n",
       "  flex-flow: row nowrap;\n",
       "  justify-content: flex-start;\n",
       "  align-items: stretch;\n",
       "}\n",
       ".master-tbl {\n",
       "  flex: 3\n",
       "}\n",
       ".master-wrapper > div {\n",
       "  margin: 4px;\n",
       "  padding: 10px;\n",
       "}\n",
       "iframe.fileview {\n",
       "  border: 0 none;\n",
       "  height: 100%;\n",
       "  width: 100%;\n",
       "  white-space: pre-wrap;\n",
       "}\n",
       ".pane-header-title {\n",
       "  width: 80%;\n",
       "  font-weight: 500;\n",
       "}\n",
       ".pane-header {\n",
       "  line-height: 1;\n",
       "  background-color: #ffe6cc;\n",
       "  padding: 3px;\n",
       "}\n",
       ".pane-header .close {\n",
       "  font-size: 20px;\n",
       "  font-weight: 700;\n",
       "  float: right;\n",
       "  margin-top: -5px;\n",
       "}\n",
       ".master-wrapper .right-pane {\n",
       "  border: 1px inset silver;\n",
       "  width: 40%;\n",
       "  min-height: 300px;\n",
       "  flex: 3\n",
       "  min-width: 500px;\n",
       "}\n",
       ".master-wrapper * {\n",
       "  box-sizing: border-box;\n",
       "}\n",
       "</style><script>\n",
       "function copyToClipboard(fld) {\n",
       "    if (document.queryCommandSupported && document.queryCommandSupported('copy')) {\n",
       "        var textarea = document.createElement('textarea');\n",
       "        textarea.textContent = fld.innerHTML;\n",
       "        textarea.style.position = 'fixed';\n",
       "        document.body.appendChild(textarea);\n",
       "        textarea.select();\n",
       "\n",
       "        try {\n",
       "            return document.execCommand('copy'); // Security exception may be thrown by some browsers.\n",
       "        } catch (ex) {\n",
       "\n",
       "        } finally {\n",
       "            document.body.removeChild(textarea);\n",
       "        }\n",
       "    }\n",
       "}\n",
       "function expandPanel(el) {\n",
       "  const panelName = \"#\" + el.getAttribute('paneName');\n",
       "  console.log(el.title);\n",
       "\n",
       "  document.querySelector(panelName + \"-title\").innerHTML = el.title\n",
       "  iframe = document.querySelector(panelName + \"-body\");\n",
       "  \n",
       "  const tblcss = `<style> body { font-family: Arial, Helvetica, sans-serif;}\n",
       "    #csv { margin-bottom: 15px; }\n",
       "    #csv table { border-collapse: collapse;}\n",
       "    #csv table td { padding: 4px 8px; border: 1px solid silver;} </style>`;\n",
       "\n",
       "  function csvToHtmlTable(str) {\n",
       "    return '<div id=\"csv\"><table><tr><td>' +  str.replace(/[\\n\\r]+$/g, '').replace(/[\\n\\r]+/g, '</td></tr><tr><td>')\n",
       "      .replace(/,/g, '</td><td>') + '</td></tr></table></div>';\n",
       "  }\n",
       "  \n",
       "  function reqListener () {\n",
       "    if (el.title.endsWith(\".csv\")) {\n",
       "      iframe.setAttribute(\"srcdoc\", tblcss + csvToHtmlTable(this.responseText));\n",
       "    } else {\n",
       "      iframe.setAttribute(\"srcdoc\", this.responseText);\n",
       "    }  \n",
       "    console.log(this.responseText);\n",
       "  }\n",
       "\n",
       "  const oReq = new XMLHttpRequest();\n",
       "  oReq.addEventListener(\"load\", reqListener);\n",
       "  oReq.open(\"GET\", el.title);\n",
       "  oReq.send();\n",
       "  \n",
       "  \n",
       "  //iframe.src = el.title;\n",
       "  const resultPane = document.querySelector(panelName + \"-pane\");\n",
       "  if (resultPane.classList.contains(\"hidden\")) {\n",
       "    resultPane.classList.remove(\"hidden\");\n",
       "  }\n",
       "}\n",
       "function closePanel(el) {\n",
       "  const panelName = \"#\" + el.getAttribute('paneName')\n",
       "  const resultPane = document.querySelector(panelName + \"-pane\");\n",
       "  if (!resultPane.classList.contains(\"hidden\")) {\n",
       "    resultPane.classList.add(\"hidden\");\n",
       "  }\n",
       "}\n",
       "\n",
       "</script>\n",
       "<div class=\"master-wrapper\">\n",
       "  <div class=\"block master-tbl\"><div>\n",
       "<style scoped>\n",
       "    .dataframe tbody tr th:only-of-type {\n",
       "        vertical-align: middle;\n",
       "    }\n",
       "\n",
       "    .dataframe tbody tr th {\n",
       "        vertical-align: top;\n",
       "    }\n",
       "\n",
       "    .dataframe thead th {\n",
       "        text-align: right;\n",
       "    }\n",
       "</style>\n",
       "<table border=\"1\" class=\"dataframe\">\n",
       "  <thead>\n",
       "    <tr style=\"text-align: right;\">\n",
       "      <th>uid</th>\n",
       "      <th>iter</th>\n",
       "      <th>start</th>\n",
       "      <th>state</th>\n",
       "      <th>name</th>\n",
       "      <th>labels</th>\n",
       "      <th>inputs</th>\n",
       "      <th>parameters</th>\n",
       "      <th>results</th>\n",
       "      <th>artifacts</th>\n",
       "    </tr>\n",
       "  </thead>\n",
       "  <tbody>\n",
       "    <tr>\n",
       "      <td><div title=\"efd37fc6f2984215bd2842e24ff41649\">...f41649</div></td>\n",
       "      <td>0</td>\n",
       "      <td>Apr 19 10:57:01</td>\n",
       "      <td>completed</td>\n",
       "      <td>get_data</td>\n",
       "      <td><div class=\"dictlist\">host=get-data-2pm2n</div><div class=\"dictlist\">kind=job</div><div class=\"dictlist\">owner=admin</div><div class=\"dictlist\">v3io_user=adi</div></td>\n",
       "      <td><div title=\"http://iguazio-sample-data.s3.amazonaws.com/iris_dataset.csv\">source_url</div></td>\n",
       "      <td></td>\n",
       "      <td></td>\n",
       "      <td><div class=\"artifact\" onclick=\"expandPanel(this)\" paneName=\"result1d56fce2\" title=\"/files/demos/getting-started-tutorial/jobs/data/iris_dataset.csv\">iris_dataset</div></td>\n",
       "    </tr>\n",
       "  </tbody>\n",
       "</table>\n",
       "</div></div>\n",
       "  <div id=\"result1d56fce2-pane\" class=\"right-pane block hidden\">\n",
       "    <div class=\"pane-header\">\n",
       "      <span id=\"result1d56fce2-title\" class=\"pane-header-title\">Title</span>\n",
       "      <span onclick=\"closePanel(this)\" paneName=\"result1d56fce2\" class=\"close clickable\">&times;</span>\n",
       "    </div>\n",
       "    <iframe class=\"fileview\" id=\"result1d56fce2-body\"></iframe>\n",
       "  </div>\n",
       "</div>\n"
      ],
      "text/plain": [
       "<IPython.core.display.HTML object>"
      ]
     },
     "metadata": {},
     "output_type": "display_data"
    },
    {
     "name": "stdout",
     "output_type": "stream",
     "text": [
      "to track results use .show() or .logs() or in CLI: \n",
      "!mlrun get run efd37fc6f2984215bd2842e24ff41649 --project getting-started-iris , !mlrun logs efd37fc6f2984215bd2842e24ff41649 --project getting-started-iris\n",
      "[mlrun] 2020-04-19 10:57:08,826 run executed, status=completed\n"
     ]
    }
   ],
   "source": [
    "get_data_func = project.func('get-data').apply(mount_v3io())\n",
    "get_data_run = get_data_func.run(name='get_data',\n",
    "                                 handler='get_data',\n",
    "                                 inputs={'source_url': source_url},\n",
    "                                 artifact_path=artifact_path)"
   ]
  },
  {
   "cell_type": "markdown",
   "metadata": {},
   "source": [
    "<a id=step3></a>\n",
    "# Step 3: Data Exploration\n",
    "\n",
    "As we all know, data exploration is a big part of the data science work. Below is a simple example of how to extract statistics and gain some insight about our data. In this case, we'll just read the dataframe and print some basic statistics."
   ]
  },
  {
   "cell_type": "code",
   "execution_count": 12,
   "metadata": {},
   "outputs": [],
   "source": [
    "df = pd.read_csv(get_data_run.outputs['iris_dataset'])"
   ]
  },
  {
   "cell_type": "code",
   "execution_count": 13,
   "metadata": {},
   "outputs": [
    {
     "data": {
      "text/html": [
       "<div>\n",
       "<style scoped>\n",
       "    .dataframe tbody tr th:only-of-type {\n",
       "        vertical-align: middle;\n",
       "    }\n",
       "\n",
       "    .dataframe tbody tr th {\n",
       "        vertical-align: top;\n",
       "    }\n",
       "\n",
       "    .dataframe thead th {\n",
       "        text-align: right;\n",
       "    }\n",
       "</style>\n",
       "<table border=\"1\" class=\"dataframe\">\n",
       "  <thead>\n",
       "    <tr style=\"text-align: right;\">\n",
       "      <th></th>\n",
       "      <th>sepal length (cm)</th>\n",
       "      <th>sepal width (cm)</th>\n",
       "      <th>petal length (cm)</th>\n",
       "      <th>petal width (cm)</th>\n",
       "      <th>label</th>\n",
       "    </tr>\n",
       "  </thead>\n",
       "  <tbody>\n",
       "    <tr>\n",
       "      <th>0</th>\n",
       "      <td>5.1</td>\n",
       "      <td>3.5</td>\n",
       "      <td>1.4</td>\n",
       "      <td>0.2</td>\n",
       "      <td>0</td>\n",
       "    </tr>\n",
       "    <tr>\n",
       "      <th>1</th>\n",
       "      <td>4.9</td>\n",
       "      <td>3.0</td>\n",
       "      <td>1.4</td>\n",
       "      <td>0.2</td>\n",
       "      <td>0</td>\n",
       "    </tr>\n",
       "    <tr>\n",
       "      <th>2</th>\n",
       "      <td>4.7</td>\n",
       "      <td>3.2</td>\n",
       "      <td>1.3</td>\n",
       "      <td>0.2</td>\n",
       "      <td>0</td>\n",
       "    </tr>\n",
       "    <tr>\n",
       "      <th>3</th>\n",
       "      <td>4.6</td>\n",
       "      <td>3.1</td>\n",
       "      <td>1.5</td>\n",
       "      <td>0.2</td>\n",
       "      <td>0</td>\n",
       "    </tr>\n",
       "    <tr>\n",
       "      <th>4</th>\n",
       "      <td>5.0</td>\n",
       "      <td>3.6</td>\n",
       "      <td>1.4</td>\n",
       "      <td>0.2</td>\n",
       "      <td>0</td>\n",
       "    </tr>\n",
       "  </tbody>\n",
       "</table>\n",
       "</div>"
      ],
      "text/plain": [
       "   sepal length (cm)  sepal width (cm)  petal length (cm)  petal width (cm)  \\\n",
       "0                5.1               3.5                1.4               0.2   \n",
       "1                4.9               3.0                1.4               0.2   \n",
       "2                4.7               3.2                1.3               0.2   \n",
       "3                4.6               3.1                1.5               0.2   \n",
       "4                5.0               3.6                1.4               0.2   \n",
       "\n",
       "   label  \n",
       "0      0  \n",
       "1      0  \n",
       "2      0  \n",
       "3      0  \n",
       "4      0  "
      ]
     },
     "execution_count": 13,
     "metadata": {},
     "output_type": "execute_result"
    }
   ],
   "source": [
    "df.head()"
   ]
  },
  {
   "cell_type": "code",
   "execution_count": 14,
   "metadata": {},
   "outputs": [
    {
     "name": "stdout",
     "output_type": "stream",
     "text": [
      "Total number of rows: 150\n"
     ]
    }
   ],
   "source": [
    "print(f'Total number of rows: {len(df)}')"
   ]
  },
  {
   "cell_type": "code",
   "execution_count": 15,
   "metadata": {},
   "outputs": [
    {
     "data": {
      "text/html": [
       "<div>\n",
       "<style scoped>\n",
       "    .dataframe tbody tr th:only-of-type {\n",
       "        vertical-align: middle;\n",
       "    }\n",
       "\n",
       "    .dataframe tbody tr th {\n",
       "        vertical-align: top;\n",
       "    }\n",
       "\n",
       "    .dataframe thead tr th {\n",
       "        text-align: left;\n",
       "    }\n",
       "\n",
       "    .dataframe thead tr:last-of-type th {\n",
       "        text-align: right;\n",
       "    }\n",
       "</style>\n",
       "<table border=\"1\" class=\"dataframe\">\n",
       "  <thead>\n",
       "    <tr>\n",
       "      <th></th>\n",
       "      <th colspan=\"8\" halign=\"left\">sepal length (cm)</th>\n",
       "      <th colspan=\"2\" halign=\"left\">sepal width (cm)</th>\n",
       "      <th>...</th>\n",
       "      <th colspan=\"2\" halign=\"left\">petal length (cm)</th>\n",
       "      <th colspan=\"8\" halign=\"left\">petal width (cm)</th>\n",
       "    </tr>\n",
       "    <tr>\n",
       "      <th></th>\n",
       "      <th>count</th>\n",
       "      <th>mean</th>\n",
       "      <th>std</th>\n",
       "      <th>min</th>\n",
       "      <th>25%</th>\n",
       "      <th>50%</th>\n",
       "      <th>75%</th>\n",
       "      <th>max</th>\n",
       "      <th>count</th>\n",
       "      <th>mean</th>\n",
       "      <th>...</th>\n",
       "      <th>75%</th>\n",
       "      <th>max</th>\n",
       "      <th>count</th>\n",
       "      <th>mean</th>\n",
       "      <th>std</th>\n",
       "      <th>min</th>\n",
       "      <th>25%</th>\n",
       "      <th>50%</th>\n",
       "      <th>75%</th>\n",
       "      <th>max</th>\n",
       "    </tr>\n",
       "    <tr>\n",
       "      <th>label</th>\n",
       "      <th></th>\n",
       "      <th></th>\n",
       "      <th></th>\n",
       "      <th></th>\n",
       "      <th></th>\n",
       "      <th></th>\n",
       "      <th></th>\n",
       "      <th></th>\n",
       "      <th></th>\n",
       "      <th></th>\n",
       "      <th></th>\n",
       "      <th></th>\n",
       "      <th></th>\n",
       "      <th></th>\n",
       "      <th></th>\n",
       "      <th></th>\n",
       "      <th></th>\n",
       "      <th></th>\n",
       "      <th></th>\n",
       "      <th></th>\n",
       "      <th></th>\n",
       "    </tr>\n",
       "  </thead>\n",
       "  <tbody>\n",
       "    <tr>\n",
       "      <th>0</th>\n",
       "      <td>50.0</td>\n",
       "      <td>5.006</td>\n",
       "      <td>0.352490</td>\n",
       "      <td>4.3</td>\n",
       "      <td>4.800</td>\n",
       "      <td>5.0</td>\n",
       "      <td>5.2</td>\n",
       "      <td>5.8</td>\n",
       "      <td>50.0</td>\n",
       "      <td>3.428</td>\n",
       "      <td>...</td>\n",
       "      <td>1.575</td>\n",
       "      <td>1.9</td>\n",
       "      <td>50.0</td>\n",
       "      <td>0.246</td>\n",
       "      <td>0.105386</td>\n",
       "      <td>0.1</td>\n",
       "      <td>0.2</td>\n",
       "      <td>0.2</td>\n",
       "      <td>0.3</td>\n",
       "      <td>0.6</td>\n",
       "    </tr>\n",
       "    <tr>\n",
       "      <th>1</th>\n",
       "      <td>50.0</td>\n",
       "      <td>5.936</td>\n",
       "      <td>0.516171</td>\n",
       "      <td>4.9</td>\n",
       "      <td>5.600</td>\n",
       "      <td>5.9</td>\n",
       "      <td>6.3</td>\n",
       "      <td>7.0</td>\n",
       "      <td>50.0</td>\n",
       "      <td>2.770</td>\n",
       "      <td>...</td>\n",
       "      <td>4.600</td>\n",
       "      <td>5.1</td>\n",
       "      <td>50.0</td>\n",
       "      <td>1.326</td>\n",
       "      <td>0.197753</td>\n",
       "      <td>1.0</td>\n",
       "      <td>1.2</td>\n",
       "      <td>1.3</td>\n",
       "      <td>1.5</td>\n",
       "      <td>1.8</td>\n",
       "    </tr>\n",
       "    <tr>\n",
       "      <th>2</th>\n",
       "      <td>50.0</td>\n",
       "      <td>6.588</td>\n",
       "      <td>0.635880</td>\n",
       "      <td>4.9</td>\n",
       "      <td>6.225</td>\n",
       "      <td>6.5</td>\n",
       "      <td>6.9</td>\n",
       "      <td>7.9</td>\n",
       "      <td>50.0</td>\n",
       "      <td>2.974</td>\n",
       "      <td>...</td>\n",
       "      <td>5.875</td>\n",
       "      <td>6.9</td>\n",
       "      <td>50.0</td>\n",
       "      <td>2.026</td>\n",
       "      <td>0.274650</td>\n",
       "      <td>1.4</td>\n",
       "      <td>1.8</td>\n",
       "      <td>2.0</td>\n",
       "      <td>2.3</td>\n",
       "      <td>2.5</td>\n",
       "    </tr>\n",
       "  </tbody>\n",
       "</table>\n",
       "<p>3 rows × 32 columns</p>\n",
       "</div>"
      ],
      "text/plain": [
       "      sepal length (cm)                                              \\\n",
       "                  count   mean       std  min    25%  50%  75%  max   \n",
       "label                                                                 \n",
       "0                  50.0  5.006  0.352490  4.3  4.800  5.0  5.2  5.8   \n",
       "1                  50.0  5.936  0.516171  4.9  5.600  5.9  6.3  7.0   \n",
       "2                  50.0  6.588  0.635880  4.9  6.225  6.5  6.9  7.9   \n",
       "\n",
       "      sepal width (cm)         ... petal length (cm)      petal width (cm)  \\\n",
       "                 count   mean  ...               75%  max            count   \n",
       "label                          ...                                           \n",
       "0                 50.0  3.428  ...             1.575  1.9             50.0   \n",
       "1                 50.0  2.770  ...             4.600  5.1             50.0   \n",
       "2                 50.0  2.974  ...             5.875  6.9             50.0   \n",
       "\n",
       "                                                 \n",
       "        mean       std  min  25%  50%  75%  max  \n",
       "label                                            \n",
       "0      0.246  0.105386  0.1  0.2  0.2  0.3  0.6  \n",
       "1      1.326  0.197753  1.0  1.2  1.3  1.5  1.8  \n",
       "2      2.026  0.274650  1.4  1.8  2.0  2.3  2.5  \n",
       "\n",
       "[3 rows x 32 columns]"
      ]
     },
     "execution_count": 15,
     "metadata": {},
     "output_type": "execute_result"
    }
   ],
   "source": [
    "df.groupby(['label']).describe()"
   ]
  },
  {
   "cell_type": "markdown",
   "metadata": {},
   "source": [
    "## Visualize dataset features and statistics\n",
    "\n",
    "You can further explore the dataset by leveraging the **functions marketplace**. This marketplace is a centralized location for open source contributions of function components that are commonly used in machine learning development.\n",
    "> **Note**: the function marketplace location is configurable, by default it points to `mlrun/functions` git"
   ]
  },
  {
   "cell_type": "markdown",
   "metadata": {},
   "source": [
    "Let's load the function called `describe` from the function marketplace:"
   ]
  },
  {
   "cell_type": "code",
   "execution_count": 16,
   "metadata": {},
   "outputs": [],
   "source": [
    "project.set_function('hub://describe', 'describe')\n",
    "describe = project.func('describe').apply(mount_v3io())"
   ]
  },
  {
   "cell_type": "markdown",
   "metadata": {},
   "source": [
    "We can now run the `describe` function as a Kubernetes job, the dataset is the only input we need.\n",
    "\n",
    "If you'd like to, you can view the `describe` function code in the [**GitHub repository**](https://github.com/mlrun/functions/blob/master/describe/describe.ipynb).\n",
    "\n",
    "For an additional list of functions available at the marketplace, refer to the [**functions marketplace GitHub repository main page**](https://github.com/mlrun/functions).\n",
    "\n",
    "> **Note**:\n",
    "> \n",
    "> `mount_v3io()` connects our function to v3io shared file system and allow us to pass the data and get back the results (plots) directly to our notebook, we can choose other mount options to use NFS or object storage."
   ]
  },
  {
   "cell_type": "code",
   "execution_count": 17,
   "metadata": {},
   "outputs": [
    {
     "name": "stdout",
     "output_type": "stream",
     "text": [
      "[mlrun] 2020-04-19 10:57:09,402 starting run describe-summarize uid=2497c1cac5a7462a84139e01cd157df4  -> http://10.194.195.75:8080\n",
      "[mlrun] 2020-04-19 10:57:09,517 Job is running in the background, pod: describe-summarize-7s7gf\n",
      "/opt/conda/lib/python3.7/site-packages/sklearn/utils/deprecation.py:144: FutureWarning: The sklearn.metrics.classification module is  deprecated in version 0.22 and will be removed in version 0.24. The corresponding classes / functions should instead be imported from sklearn.metrics. Anything that cannot be imported from sklearn.metrics is now part of the private API.\n",
      "  warnings.warn(message, FutureWarning)\n",
      "findfont: Font family ['sans-serif'] not found. Falling back to DejaVu Sans.\n",
      "findfont: Font family ['sans-serif'] not found. Falling back to DejaVu Sans.\n",
      "findfont: Font family ['sans-serif'] not found. Falling back to DejaVu Sans.\n",
      "findfont: Font family ['sans-serif'] not found. Falling back to DejaVu Sans.\n",
      "[mlrun] 2020-04-19 10:57:28,668 log artifact histograms at /User/demos/getting-started-tutorial/jobs/plots/hist.html, size: 280685, db: Y\n",
      "[mlrun] 2020-04-19 10:57:29,273 log artifact imbalance at /User/demos/getting-started-tutorial/jobs/plots/imbalance.html, size: 11840, db: Y\n",
      "[mlrun] 2020-04-19 10:57:29,513 log artifact correlation at /User/demos/getting-started-tutorial/jobs/plots/corr.html, size: 33266, db: Y\n",
      "\n",
      "[mlrun] 2020-04-19 10:57:29,604 run executed, status=completed\n",
      "final state: succeeded\n"
     ]
    },
    {
     "data": {
      "text/html": [
       "<style> \n",
       ".dictlist {\n",
       "  background-color: #b3edff; \n",
       "  text-align: center; \n",
       "  margin: 4px; \n",
       "  border-radius: 3px; padding: 0px 3px 1px 3px; display: inline-block;}\n",
       ".artifact {\n",
       "  cursor: pointer; \n",
       "  background-color: #ffe6cc; \n",
       "  text-align: left; \n",
       "  margin: 4px; border-radius: 3px; padding: 0px 3px 1px 3px; display: inline-block;\n",
       "}\n",
       "div.block.hidden {\n",
       "  display: none;\n",
       "}\n",
       ".clickable {\n",
       "  cursor: pointer;\n",
       "}\n",
       ".ellipsis {\n",
       "  display: inline-block;\n",
       "  max-width: 60px;\n",
       "  white-space: nowrap;\n",
       "  overflow: hidden;\n",
       "  text-overflow: ellipsis;\n",
       "}\n",
       ".master-wrapper {\n",
       "  display: flex;\n",
       "  flex-flow: row nowrap;\n",
       "  justify-content: flex-start;\n",
       "  align-items: stretch;\n",
       "}\n",
       ".master-tbl {\n",
       "  flex: 3\n",
       "}\n",
       ".master-wrapper > div {\n",
       "  margin: 4px;\n",
       "  padding: 10px;\n",
       "}\n",
       "iframe.fileview {\n",
       "  border: 0 none;\n",
       "  height: 100%;\n",
       "  width: 100%;\n",
       "  white-space: pre-wrap;\n",
       "}\n",
       ".pane-header-title {\n",
       "  width: 80%;\n",
       "  font-weight: 500;\n",
       "}\n",
       ".pane-header {\n",
       "  line-height: 1;\n",
       "  background-color: #ffe6cc;\n",
       "  padding: 3px;\n",
       "}\n",
       ".pane-header .close {\n",
       "  font-size: 20px;\n",
       "  font-weight: 700;\n",
       "  float: right;\n",
       "  margin-top: -5px;\n",
       "}\n",
       ".master-wrapper .right-pane {\n",
       "  border: 1px inset silver;\n",
       "  width: 40%;\n",
       "  min-height: 300px;\n",
       "  flex: 3\n",
       "  min-width: 500px;\n",
       "}\n",
       ".master-wrapper * {\n",
       "  box-sizing: border-box;\n",
       "}\n",
       "</style><script>\n",
       "function copyToClipboard(fld) {\n",
       "    if (document.queryCommandSupported && document.queryCommandSupported('copy')) {\n",
       "        var textarea = document.createElement('textarea');\n",
       "        textarea.textContent = fld.innerHTML;\n",
       "        textarea.style.position = 'fixed';\n",
       "        document.body.appendChild(textarea);\n",
       "        textarea.select();\n",
       "\n",
       "        try {\n",
       "            return document.execCommand('copy'); // Security exception may be thrown by some browsers.\n",
       "        } catch (ex) {\n",
       "\n",
       "        } finally {\n",
       "            document.body.removeChild(textarea);\n",
       "        }\n",
       "    }\n",
       "}\n",
       "function expandPanel(el) {\n",
       "  const panelName = \"#\" + el.getAttribute('paneName');\n",
       "  console.log(el.title);\n",
       "\n",
       "  document.querySelector(panelName + \"-title\").innerHTML = el.title\n",
       "  iframe = document.querySelector(panelName + \"-body\");\n",
       "  \n",
       "  const tblcss = `<style> body { font-family: Arial, Helvetica, sans-serif;}\n",
       "    #csv { margin-bottom: 15px; }\n",
       "    #csv table { border-collapse: collapse;}\n",
       "    #csv table td { padding: 4px 8px; border: 1px solid silver;} </style>`;\n",
       "\n",
       "  function csvToHtmlTable(str) {\n",
       "    return '<div id=\"csv\"><table><tr><td>' +  str.replace(/[\\n\\r]+$/g, '').replace(/[\\n\\r]+/g, '</td></tr><tr><td>')\n",
       "      .replace(/,/g, '</td><td>') + '</td></tr></table></div>';\n",
       "  }\n",
       "  \n",
       "  function reqListener () {\n",
       "    if (el.title.endsWith(\".csv\")) {\n",
       "      iframe.setAttribute(\"srcdoc\", tblcss + csvToHtmlTable(this.responseText));\n",
       "    } else {\n",
       "      iframe.setAttribute(\"srcdoc\", this.responseText);\n",
       "    }  \n",
       "    console.log(this.responseText);\n",
       "  }\n",
       "\n",
       "  const oReq = new XMLHttpRequest();\n",
       "  oReq.addEventListener(\"load\", reqListener);\n",
       "  oReq.open(\"GET\", el.title);\n",
       "  oReq.send();\n",
       "  \n",
       "  \n",
       "  //iframe.src = el.title;\n",
       "  const resultPane = document.querySelector(panelName + \"-pane\");\n",
       "  if (resultPane.classList.contains(\"hidden\")) {\n",
       "    resultPane.classList.remove(\"hidden\");\n",
       "  }\n",
       "}\n",
       "function closePanel(el) {\n",
       "  const panelName = \"#\" + el.getAttribute('paneName')\n",
       "  const resultPane = document.querySelector(panelName + \"-pane\");\n",
       "  if (!resultPane.classList.contains(\"hidden\")) {\n",
       "    resultPane.classList.add(\"hidden\");\n",
       "  }\n",
       "}\n",
       "\n",
       "</script>\n",
       "<div class=\"master-wrapper\">\n",
       "  <div class=\"block master-tbl\"><div>\n",
       "<style scoped>\n",
       "    .dataframe tbody tr th:only-of-type {\n",
       "        vertical-align: middle;\n",
       "    }\n",
       "\n",
       "    .dataframe tbody tr th {\n",
       "        vertical-align: top;\n",
       "    }\n",
       "\n",
       "    .dataframe thead th {\n",
       "        text-align: right;\n",
       "    }\n",
       "</style>\n",
       "<table border=\"1\" class=\"dataframe\">\n",
       "  <thead>\n",
       "    <tr style=\"text-align: right;\">\n",
       "      <th>uid</th>\n",
       "      <th>iter</th>\n",
       "      <th>start</th>\n",
       "      <th>state</th>\n",
       "      <th>name</th>\n",
       "      <th>labels</th>\n",
       "      <th>inputs</th>\n",
       "      <th>parameters</th>\n",
       "      <th>results</th>\n",
       "      <th>artifacts</th>\n",
       "    </tr>\n",
       "  </thead>\n",
       "  <tbody>\n",
       "    <tr>\n",
       "      <td><div title=\"2497c1cac5a7462a84139e01cd157df4\">...157df4</div></td>\n",
       "      <td>0</td>\n",
       "      <td>Apr 19 10:57:24</td>\n",
       "      <td>completed</td>\n",
       "      <td>describe-summarize</td>\n",
       "      <td><div class=\"dictlist\">host=describe-summarize-7s7gf</div><div class=\"dictlist\">kind=job</div><div class=\"dictlist\">owner=admin</div><div class=\"dictlist\">v3io_user=adi</div></td>\n",
       "      <td><div class=\"artifact\" onclick=\"expandPanel(this)\" paneName=\"result729bf690\" title=\"/files/demos/getting-started-tutorial/jobs/data/iris_dataset.csv\">table</div></td>\n",
       "      <td><div class=\"dictlist\">label_column=label</div></td>\n",
       "      <td><div class=\"dictlist\">scale_pos_weight=1.00</div></td>\n",
       "      <td><div class=\"artifact\" onclick=\"expandPanel(this)\" paneName=\"result729bf690\" title=\"/files/demos/getting-started-tutorial/jobs/plots/hist.html\">histograms</div><div class=\"artifact\" onclick=\"expandPanel(this)\" paneName=\"result729bf690\" title=\"/files/demos/getting-started-tutorial/jobs/plots/imbalance.html\">imbalance</div><div class=\"artifact\" onclick=\"expandPanel(this)\" paneName=\"result729bf690\" title=\"/files/demos/getting-started-tutorial/jobs/plots/corr.html\">correlation</div></td>\n",
       "    </tr>\n",
       "  </tbody>\n",
       "</table>\n",
       "</div></div>\n",
       "  <div id=\"result729bf690-pane\" class=\"right-pane block hidden\">\n",
       "    <div class=\"pane-header\">\n",
       "      <span id=\"result729bf690-title\" class=\"pane-header-title\">Title</span>\n",
       "      <span onclick=\"closePanel(this)\" paneName=\"result729bf690\" class=\"close clickable\">&times;</span>\n",
       "    </div>\n",
       "    <iframe class=\"fileview\" id=\"result729bf690-body\"></iframe>\n",
       "  </div>\n",
       "</div>\n"
      ],
      "text/plain": [
       "<IPython.core.display.HTML object>"
      ]
     },
     "metadata": {},
     "output_type": "display_data"
    },
    {
     "name": "stdout",
     "output_type": "stream",
     "text": [
      "to track results use .show() or .logs() or in CLI: \n",
      "!mlrun get run 2497c1cac5a7462a84139e01cd157df4 --project getting-started-iris , !mlrun logs 2497c1cac5a7462a84139e01cd157df4 --project getting-started-iris\n",
      "[mlrun] 2020-04-19 10:57:31,858 run executed, status=completed\n"
     ]
    }
   ],
   "source": [
    "describe_run = describe.run(params={'label_column': 'label'}, \n",
    "                            inputs={\"table\": get_data_run.outputs['iris_dataset']}, \n",
    "                            artifact_path=artifact_path)"
   ]
  },
  {
   "cell_type": "markdown",
   "metadata": {},
   "source": [
    "The `describe` function generates 3 artifacts: `histograms`, `imbalance` and `correlation`. You can view the output either by clicking the artifact in the output above or in the UI or by opening the HTML files as depicted below:"
   ]
  },
  {
   "cell_type": "code",
   "execution_count": 18,
   "metadata": {},
   "outputs": [
    {
     "data": {
      "text/html": [
       "<h3>Histograms</h3>"
      ],
      "text/plain": [
       "<IPython.core.display.HTML object>"
      ]
     },
     "metadata": {},
     "output_type": "display_data"
    },
    {
     "data": {
      "text/html": [
       "<img title=\"histograms\" src=\"data:image/png;base64,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\">"
      ],
      "text/plain": [
       "<IPython.core.display.HTML object>"
      ]
     },
     "metadata": {},
     "output_type": "display_data"
    }
   ],
   "source": [
    "from IPython.display import display, HTML\n",
    "\n",
    "display(HTML('<h3>Histograms</h3>'), HTML(describe_run.outputs['histograms']))"
   ]
  },
  {
   "cell_type": "code",
   "execution_count": 19,
   "metadata": {},
   "outputs": [
    {
     "data": {
      "text/html": [
       "<h3>Imbalance<h3>"
      ],
      "text/plain": [
       "<IPython.core.display.HTML object>"
      ]
     },
     "metadata": {},
     "output_type": "display_data"
    },
    {
     "data": {
      "text/html": [
       "<img title=\"imbalance\" src=\"data:image/png;base64,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\">"
      ],
      "text/plain": [
       "<IPython.core.display.HTML object>"
      ]
     },
     "metadata": {},
     "output_type": "display_data"
    }
   ],
   "source": [
    "display(HTML('<h3>Imbalance<h3>'), HTML(filename=describe_run.outputs['imbalance']))"
   ]
  },
  {
   "cell_type": "code",
   "execution_count": 20,
   "metadata": {},
   "outputs": [
    {
     "data": {
      "text/html": [
       "<h3>Correlation Matrix<h3>"
      ],
      "text/plain": [
       "<IPython.core.display.HTML object>"
      ]
     },
     "metadata": {},
     "output_type": "display_data"
    },
    {
     "data": {
      "text/html": [
       "<img title=\"correlation\" src=\"data:image/png;base64,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\">"
      ],
      "text/plain": [
       "<IPython.core.display.HTML object>"
      ]
     },
     "metadata": {},
     "output_type": "display_data"
    }
   ],
   "source": [
    "display(HTML('<h3>Correlation Matrix<h3>'), HTML(filename=describe_run.outputs['correlation']))"
   ]
  },
  {
   "cell_type": "markdown",
   "metadata": {},
   "source": [
    "<a id=step4></a>\n",
    "# Step 4: Run model training at scale\n",
    "It's time to train the model, but which model type to choose from? The **function marketplace** has a function called `sklearn_classifier` which trains any scikit-learn model that you specify."
   ]
  },
  {
   "cell_type": "code",
   "execution_count": 21,
   "metadata": {},
   "outputs": [],
   "source": [
    "project.set_function('hub://sklearn_classifier', 'train')\n",
    "train = project.func('train').apply(mount_v3io())"
   ]
  },
  {
   "cell_type": "markdown",
   "metadata": {},
   "source": [
    "Specify the different models to train and evaluate. The model with the highest score would be selected"
   ]
  },
  {
   "cell_type": "code",
   "execution_count": 22,
   "metadata": {},
   "outputs": [],
   "source": [
    "models = [\"sklearn.ensemble.RandomForestClassifier\", \n",
    "          \"sklearn.linear_model.LogisticRegression\",\n",
    "          \"sklearn.ensemble.AdaBoostClassifier\"]"
   ]
  },
  {
   "cell_type": "markdown",
   "metadata": {},
   "source": [
    "Perform the model training. In this case our training dataset will be 90% of the data and the remaining 10% will be the test dataset.\n",
    "\n",
    "Notice that we have chosen to define `NewTask`. The advantage of tasks is that they are independent of the runtime. Hence, we can define tasks once and use them in different scenarios. In this example we define the training task basic input parameters, and then run the task with the list of models we would like to evaluate by using the `with_hyper_params` method."
   ]
  },
  {
   "cell_type": "code",
   "execution_count": 23,
   "metadata": {},
   "outputs": [
    {
     "name": "stdout",
     "output_type": "stream",
     "text": [
      "[mlrun] 2020-04-19 10:57:32,823 starting run train uid=ce41a791d6e241a798e1154df125f7ae  -> http://10.194.195.75:8080\n",
      "[mlrun] 2020-04-19 10:57:32,965 Job is running in the background, pod: train-ch5fr\n",
      "No handles with labels found to put in legend.\n",
      "/opt/conda/lib/python3.7/site-packages/sklearn/linear_model/_logistic.py:940: ConvergenceWarning: lbfgs failed to converge (status=1):\n",
      "STOP: TOTAL NO. of ITERATIONS REACHED LIMIT.\n",
      "\n",
      "Increase the number of iterations (max_iter) or scale the data as shown in:\n",
      "    https://scikit-learn.org/stable/modules/preprocessing.html\n",
      "Please also refer to the documentation for alternative solver options:\n",
      "    https://scikit-learn.org/stable/modules/linear_model.html#logistic-regression\n",
      "  extra_warning_msg=_LOGISTIC_SOLVER_CONVERGENCE_MSG)\n",
      "No handles with labels found to put in legend.\n",
      "No handles with labels found to put in legend.\n",
      "> --------------- Iteration: (1) ---------------\n",
      "[mlrun] 2020-04-19 10:57:46,093 log artifact test_set at /User/demos/getting-started-tutorial/jobs/1/test_set.parquet, size: 4278, db: Y\n",
      "[mlrun] 2020-04-19 10:57:46,512 log artifact model at /User/demos/getting-started-tutorial/jobs/1/models/model.pkl, size: 126682, db: Y\n",
      "[mlrun] 2020-04-19 10:57:46,730 log artifact roc at /User/demos/getting-started-tutorial/jobs/1/plots/train/roc.html, size: 31194, db: Y\n",
      "[mlrun] 2020-04-19 10:57:46,915 log artifact confusion at /User/demos/getting-started-tutorial/jobs/1/plots/train/confusion.html, size: 19980, db: Y\n",
      "\n",
      "> --------------- Iteration: (2) ---------------\n",
      "[mlrun] 2020-04-19 10:57:47,010 log artifact test_set at /User/demos/getting-started-tutorial/jobs/2/test_set.parquet, size: 4278, db: Y\n",
      "[mlrun] 2020-04-19 10:57:47,059 log artifact model at /User/demos/getting-started-tutorial/jobs/2/models/model.pkl, size: 816, db: Y\n",
      "[mlrun] 2020-04-19 10:57:47,251 log artifact roc at /User/demos/getting-started-tutorial/jobs/2/plots/train/roc.html, size: 31106, db: Y\n",
      "[mlrun] 2020-04-19 10:57:47,421 log artifact confusion at /User/demos/getting-started-tutorial/jobs/2/plots/train/confusion.html, size: 20612, db: Y\n",
      "\n",
      "> --------------- Iteration: (3) ---------------\n",
      "[mlrun] 2020-04-19 10:57:47,522 log artifact test_set at /User/demos/getting-started-tutorial/jobs/3/test_set.parquet, size: 4278, db: Y\n",
      "[mlrun] 2020-04-19 10:57:47,636 log artifact model at /User/demos/getting-started-tutorial/jobs/3/models/model.pkl, size: 29487, db: Y\n",
      "[mlrun] 2020-04-19 10:57:47,839 log artifact roc at /User/demos/getting-started-tutorial/jobs/3/plots/train/roc.html, size: 31642, db: Y\n",
      "[mlrun] 2020-04-19 10:57:48,023 log artifact confusion at /User/demos/getting-started-tutorial/jobs/3/plots/train/confusion.html, size: 22160, db: Y\n",
      "\n",
      "[mlrun] 2020-04-19 10:57:48,111 log artifact iteration_results at /User/demos/getting-started-tutorial/jobs/iteration_results.csv, size: 489, db: Y\n",
      "[mlrun] 2020-04-19 10:57:48,140 run executed, status=completed\n",
      "final state: succeeded\n"
     ]
    },
    {
     "data": {
      "text/html": [
       "<style> \n",
       ".dictlist {\n",
       "  background-color: #b3edff; \n",
       "  text-align: center; \n",
       "  margin: 4px; \n",
       "  border-radius: 3px; padding: 0px 3px 1px 3px; display: inline-block;}\n",
       ".artifact {\n",
       "  cursor: pointer; \n",
       "  background-color: #ffe6cc; \n",
       "  text-align: left; \n",
       "  margin: 4px; border-radius: 3px; padding: 0px 3px 1px 3px; display: inline-block;\n",
       "}\n",
       "div.block.hidden {\n",
       "  display: none;\n",
       "}\n",
       ".clickable {\n",
       "  cursor: pointer;\n",
       "}\n",
       ".ellipsis {\n",
       "  display: inline-block;\n",
       "  max-width: 60px;\n",
       "  white-space: nowrap;\n",
       "  overflow: hidden;\n",
       "  text-overflow: ellipsis;\n",
       "}\n",
       ".master-wrapper {\n",
       "  display: flex;\n",
       "  flex-flow: row nowrap;\n",
       "  justify-content: flex-start;\n",
       "  align-items: stretch;\n",
       "}\n",
       ".master-tbl {\n",
       "  flex: 3\n",
       "}\n",
       ".master-wrapper > div {\n",
       "  margin: 4px;\n",
       "  padding: 10px;\n",
       "}\n",
       "iframe.fileview {\n",
       "  border: 0 none;\n",
       "  height: 100%;\n",
       "  width: 100%;\n",
       "  white-space: pre-wrap;\n",
       "}\n",
       ".pane-header-title {\n",
       "  width: 80%;\n",
       "  font-weight: 500;\n",
       "}\n",
       ".pane-header {\n",
       "  line-height: 1;\n",
       "  background-color: #ffe6cc;\n",
       "  padding: 3px;\n",
       "}\n",
       ".pane-header .close {\n",
       "  font-size: 20px;\n",
       "  font-weight: 700;\n",
       "  float: right;\n",
       "  margin-top: -5px;\n",
       "}\n",
       ".master-wrapper .right-pane {\n",
       "  border: 1px inset silver;\n",
       "  width: 40%;\n",
       "  min-height: 300px;\n",
       "  flex: 3\n",
       "  min-width: 500px;\n",
       "}\n",
       ".master-wrapper * {\n",
       "  box-sizing: border-box;\n",
       "}\n",
       "</style><script>\n",
       "function copyToClipboard(fld) {\n",
       "    if (document.queryCommandSupported && document.queryCommandSupported('copy')) {\n",
       "        var textarea = document.createElement('textarea');\n",
       "        textarea.textContent = fld.innerHTML;\n",
       "        textarea.style.position = 'fixed';\n",
       "        document.body.appendChild(textarea);\n",
       "        textarea.select();\n",
       "\n",
       "        try {\n",
       "            return document.execCommand('copy'); // Security exception may be thrown by some browsers.\n",
       "        } catch (ex) {\n",
       "\n",
       "        } finally {\n",
       "            document.body.removeChild(textarea);\n",
       "        }\n",
       "    }\n",
       "}\n",
       "function expandPanel(el) {\n",
       "  const panelName = \"#\" + el.getAttribute('paneName');\n",
       "  console.log(el.title);\n",
       "\n",
       "  document.querySelector(panelName + \"-title\").innerHTML = el.title\n",
       "  iframe = document.querySelector(panelName + \"-body\");\n",
       "  \n",
       "  const tblcss = `<style> body { font-family: Arial, Helvetica, sans-serif;}\n",
       "    #csv { margin-bottom: 15px; }\n",
       "    #csv table { border-collapse: collapse;}\n",
       "    #csv table td { padding: 4px 8px; border: 1px solid silver;} </style>`;\n",
       "\n",
       "  function csvToHtmlTable(str) {\n",
       "    return '<div id=\"csv\"><table><tr><td>' +  str.replace(/[\\n\\r]+$/g, '').replace(/[\\n\\r]+/g, '</td></tr><tr><td>')\n",
       "      .replace(/,/g, '</td><td>') + '</td></tr></table></div>';\n",
       "  }\n",
       "  \n",
       "  function reqListener () {\n",
       "    if (el.title.endsWith(\".csv\")) {\n",
       "      iframe.setAttribute(\"srcdoc\", tblcss + csvToHtmlTable(this.responseText));\n",
       "    } else {\n",
       "      iframe.setAttribute(\"srcdoc\", this.responseText);\n",
       "    }  \n",
       "    console.log(this.responseText);\n",
       "  }\n",
       "\n",
       "  const oReq = new XMLHttpRequest();\n",
       "  oReq.addEventListener(\"load\", reqListener);\n",
       "  oReq.open(\"GET\", el.title);\n",
       "  oReq.send();\n",
       "  \n",
       "  \n",
       "  //iframe.src = el.title;\n",
       "  const resultPane = document.querySelector(panelName + \"-pane\");\n",
       "  if (resultPane.classList.contains(\"hidden\")) {\n",
       "    resultPane.classList.remove(\"hidden\");\n",
       "  }\n",
       "}\n",
       "function closePanel(el) {\n",
       "  const panelName = \"#\" + el.getAttribute('paneName')\n",
       "  const resultPane = document.querySelector(panelName + \"-pane\");\n",
       "  if (!resultPane.classList.contains(\"hidden\")) {\n",
       "    resultPane.classList.add(\"hidden\");\n",
       "  }\n",
       "}\n",
       "\n",
       "</script>\n",
       "<div class=\"master-wrapper\">\n",
       "  <div class=\"block master-tbl\"><div>\n",
       "<style scoped>\n",
       "    .dataframe tbody tr th:only-of-type {\n",
       "        vertical-align: middle;\n",
       "    }\n",
       "\n",
       "    .dataframe tbody tr th {\n",
       "        vertical-align: top;\n",
       "    }\n",
       "\n",
       "    .dataframe thead th {\n",
       "        text-align: right;\n",
       "    }\n",
       "</style>\n",
       "<table border=\"1\" class=\"dataframe\">\n",
       "  <thead>\n",
       "    <tr style=\"text-align: right;\">\n",
       "      <th>uid</th>\n",
       "      <th>iter</th>\n",
       "      <th>start</th>\n",
       "      <th>state</th>\n",
       "      <th>name</th>\n",
       "      <th>labels</th>\n",
       "      <th>inputs</th>\n",
       "      <th>parameters</th>\n",
       "      <th>results</th>\n",
       "      <th>artifacts</th>\n",
       "    </tr>\n",
       "  </thead>\n",
       "  <tbody>\n",
       "    <tr>\n",
       "      <td><div title=\"ce41a791d6e241a798e1154df125f7ae\">...25f7ae</div></td>\n",
       "      <td>0</td>\n",
       "      <td>Apr 19 10:57:43</td>\n",
       "      <td>completed</td>\n",
       "      <td>train</td>\n",
       "      <td><div class=\"dictlist\">kind=job</div><div class=\"dictlist\">owner=admin</div><div class=\"dictlist\">v3io_user=adi</div></td>\n",
       "      <td><div class=\"artifact\" onclick=\"expandPanel(this)\" paneName=\"result4a7d0791\" title=\"/files/demos/getting-started-tutorial/jobs/data/iris_dataset.csv\">dataset</div></td>\n",
       "      <td><div class=\"dictlist\">label_column=label</div><div class=\"dictlist\">sample=-1</div><div class=\"dictlist\">test_size=0.1</div></td>\n",
       "      <td><div class=\"dictlist\">accuracy=0.9705882352941176</div><div class=\"dictlist\">best_iteration=2</div><div class=\"dictlist\">f1_score=0.9705882352941176</div><div class=\"dictlist\">rocauc=0.9945117845117846</div></td>\n",
       "      <td><div title=\"/User/demos/getting-started-tutorial/jobs/2/test_set.parquet\">test_set</div><div title=\"/User/demos/getting-started-tutorial/jobs/2/models/model.pkl\">model</div><div class=\"artifact\" onclick=\"expandPanel(this)\" paneName=\"result4a7d0791\" title=\"/files/demos/getting-started-tutorial/jobs/2/plots/train/roc.html\">roc</div><div class=\"artifact\" onclick=\"expandPanel(this)\" paneName=\"result4a7d0791\" title=\"/files/demos/getting-started-tutorial/jobs/2/plots/train/confusion.html\">confusion</div><div class=\"artifact\" onclick=\"expandPanel(this)\" paneName=\"result4a7d0791\" title=\"/files/demos/getting-started-tutorial/jobs/iteration_results.csv\">iteration_results</div></td>\n",
       "    </tr>\n",
       "  </tbody>\n",
       "</table>\n",
       "</div></div>\n",
       "  <div id=\"result4a7d0791-pane\" class=\"right-pane block hidden\">\n",
       "    <div class=\"pane-header\">\n",
       "      <span id=\"result4a7d0791-title\" class=\"pane-header-title\">Title</span>\n",
       "      <span onclick=\"closePanel(this)\" paneName=\"result4a7d0791\" class=\"close clickable\">&times;</span>\n",
       "    </div>\n",
       "    <iframe class=\"fileview\" id=\"result4a7d0791-body\"></iframe>\n",
       "  </div>\n",
       "</div>\n"
      ],
      "text/plain": [
       "<IPython.core.display.HTML object>"
      ]
     },
     "metadata": {},
     "output_type": "display_data"
    },
    {
     "name": "stdout",
     "output_type": "stream",
     "text": [
      "to track results use .show() or .logs() or in CLI: \n",
      "!mlrun get run ce41a791d6e241a798e1154df125f7ae --project getting-started-iris , !mlrun logs ce41a791d6e241a798e1154df125f7ae --project getting-started-iris\n",
      "[mlrun] 2020-04-19 10:57:52,283 run executed, status=completed\n"
     ]
    }
   ],
   "source": [
    "train_task = NewTask(name=\"train\",\n",
    "                     params={\"sample\"          : -1, \n",
    "                             \"label_column\"    : \"label\",\n",
    "                             \"test_size\"       : 0.10},\n",
    "                     inputs={\"dataset\": get_data_run.outputs['iris_dataset']})\n",
    "train_run = train.run(train_task.with_hyper_params({'model_pkg_class': models},\n",
    "                                                    selector='max.accuracy'),\n",
    "                      artifact_path=artifact_path)"
   ]
  },
  {
   "cell_type": "code",
   "execution_count": 24,
   "metadata": {},
   "outputs": [
    {
     "data": {
      "text/html": [
       "<b>Best model</b>: sklearn.ensemble.AdaBoostClassifier"
      ],
      "text/plain": [
       "<IPython.core.display.HTML object>"
      ]
     },
     "metadata": {},
     "output_type": "display_data"
    },
    {
     "data": {
      "text/html": [
       "<b>Accuracy</b>: 0.9705882352941176"
      ],
      "text/plain": [
       "<IPython.core.display.HTML object>"
      ]
     },
     "metadata": {},
     "output_type": "display_data"
    },
    {
     "data": {
      "text/html": [
       "<h3>Confusion Matrix:</h3>"
      ],
      "text/plain": [
       "<IPython.core.display.HTML object>"
      ]
     },
     "metadata": {},
     "output_type": "display_data"
    },
    {
     "data": {
      "text/html": [
       "<img title=\"confusion\" src=\"data:image/png;base64,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\">"
      ],
      "text/plain": [
       "<IPython.core.display.HTML object>"
      ]
     },
     "metadata": {},
     "output_type": "display_data"
    },
    {
     "data": {
      "text/html": [
       "<h3>ROC Curve:</h3>"
      ],
      "text/plain": [
       "<IPython.core.display.HTML object>"
      ]
     },
     "metadata": {},
     "output_type": "display_data"
    },
    {
     "data": {
      "text/html": [
       "<img title=\"roc\" src=\"data:image/png;base64,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\">"
      ],
      "text/plain": [
       "<IPython.core.display.HTML object>"
      ]
     },
     "metadata": {},
     "output_type": "display_data"
    }
   ],
   "source": [
    "display(HTML(f'<b>Best model</b>: {models[train_run.outputs[\"best_iteration\"]]}'))\n",
    "display(HTML(f'<b>Accuracy</b>: {train_run.outputs[\"accuracy\"]}'))\n",
    "display(HTML('<h3>Confusion Matrix:</h3>'), HTML(filename=train_run.outputs['confusion']))\n",
    "display(HTML('<h3>ROC Curve:</h3>'), HTML(filename=train_run.outputs['roc']))"
   ]
  },
  {
   "cell_type": "markdown",
   "metadata": {},
   "source": [
    "<a id=step5></a>\n",
    "# Step 5: Model testing"
   ]
  },
  {
   "cell_type": "markdown",
   "metadata": {},
   "source": [
    "Now that we have a trained model, let's test it with the test dataset. Run the code below to run the selected trained model against the test dataset."
   ]
  },
  {
   "cell_type": "code",
   "execution_count": 25,
   "metadata": {},
   "outputs": [],
   "source": [
    "project.set_function('hub://test_classifier', 'test')\n",
    "test = project.func('test').apply(mount_v3io())"
   ]
  },
  {
   "cell_type": "code",
   "execution_count": 26,
   "metadata": {},
   "outputs": [
    {
     "name": "stdout",
     "output_type": "stream",
     "text": [
      "[mlrun] 2020-04-19 10:57:52,932 starting run test uid=6ff47e80bbf94fb18d12990c38499227  -> http://10.194.195.75:8080\n",
      "[mlrun] 2020-04-19 10:57:53,054 Job is running in the background, pod: test-9xn6f\n",
      "No handles with labels found to put in legend.\n",
      "[mlrun] 2020-04-19 10:58:08,500 log artifact roc at /User/demos/getting-started-tutorial/jobs/plots/test/roc.html, size: 31022, db: Y\n",
      "[mlrun] 2020-04-19 10:58:08,677 log artifact confusion at /User/demos/getting-started-tutorial/jobs/plots/test/confusion.html, size: 19968, db: Y\n",
      "\n",
      "[mlrun] 2020-04-19 10:58:08,697 run executed, status=completed\n",
      "final state: succeeded\n"
     ]
    },
    {
     "data": {
      "text/html": [
       "<style> \n",
       ".dictlist {\n",
       "  background-color: #b3edff; \n",
       "  text-align: center; \n",
       "  margin: 4px; \n",
       "  border-radius: 3px; padding: 0px 3px 1px 3px; display: inline-block;}\n",
       ".artifact {\n",
       "  cursor: pointer; \n",
       "  background-color: #ffe6cc; \n",
       "  text-align: left; \n",
       "  margin: 4px; border-radius: 3px; padding: 0px 3px 1px 3px; display: inline-block;\n",
       "}\n",
       "div.block.hidden {\n",
       "  display: none;\n",
       "}\n",
       ".clickable {\n",
       "  cursor: pointer;\n",
       "}\n",
       ".ellipsis {\n",
       "  display: inline-block;\n",
       "  max-width: 60px;\n",
       "  white-space: nowrap;\n",
       "  overflow: hidden;\n",
       "  text-overflow: ellipsis;\n",
       "}\n",
       ".master-wrapper {\n",
       "  display: flex;\n",
       "  flex-flow: row nowrap;\n",
       "  justify-content: flex-start;\n",
       "  align-items: stretch;\n",
       "}\n",
       ".master-tbl {\n",
       "  flex: 3\n",
       "}\n",
       ".master-wrapper > div {\n",
       "  margin: 4px;\n",
       "  padding: 10px;\n",
       "}\n",
       "iframe.fileview {\n",
       "  border: 0 none;\n",
       "  height: 100%;\n",
       "  width: 100%;\n",
       "  white-space: pre-wrap;\n",
       "}\n",
       ".pane-header-title {\n",
       "  width: 80%;\n",
       "  font-weight: 500;\n",
       "}\n",
       ".pane-header {\n",
       "  line-height: 1;\n",
       "  background-color: #ffe6cc;\n",
       "  padding: 3px;\n",
       "}\n",
       ".pane-header .close {\n",
       "  font-size: 20px;\n",
       "  font-weight: 700;\n",
       "  float: right;\n",
       "  margin-top: -5px;\n",
       "}\n",
       ".master-wrapper .right-pane {\n",
       "  border: 1px inset silver;\n",
       "  width: 40%;\n",
       "  min-height: 300px;\n",
       "  flex: 3\n",
       "  min-width: 500px;\n",
       "}\n",
       ".master-wrapper * {\n",
       "  box-sizing: border-box;\n",
       "}\n",
       "</style><script>\n",
       "function copyToClipboard(fld) {\n",
       "    if (document.queryCommandSupported && document.queryCommandSupported('copy')) {\n",
       "        var textarea = document.createElement('textarea');\n",
       "        textarea.textContent = fld.innerHTML;\n",
       "        textarea.style.position = 'fixed';\n",
       "        document.body.appendChild(textarea);\n",
       "        textarea.select();\n",
       "\n",
       "        try {\n",
       "            return document.execCommand('copy'); // Security exception may be thrown by some browsers.\n",
       "        } catch (ex) {\n",
       "\n",
       "        } finally {\n",
       "            document.body.removeChild(textarea);\n",
       "        }\n",
       "    }\n",
       "}\n",
       "function expandPanel(el) {\n",
       "  const panelName = \"#\" + el.getAttribute('paneName');\n",
       "  console.log(el.title);\n",
       "\n",
       "  document.querySelector(panelName + \"-title\").innerHTML = el.title\n",
       "  iframe = document.querySelector(panelName + \"-body\");\n",
       "  \n",
       "  const tblcss = `<style> body { font-family: Arial, Helvetica, sans-serif;}\n",
       "    #csv { margin-bottom: 15px; }\n",
       "    #csv table { border-collapse: collapse;}\n",
       "    #csv table td { padding: 4px 8px; border: 1px solid silver;} </style>`;\n",
       "\n",
       "  function csvToHtmlTable(str) {\n",
       "    return '<div id=\"csv\"><table><tr><td>' +  str.replace(/[\\n\\r]+$/g, '').replace(/[\\n\\r]+/g, '</td></tr><tr><td>')\n",
       "      .replace(/,/g, '</td><td>') + '</td></tr></table></div>';\n",
       "  }\n",
       "  \n",
       "  function reqListener () {\n",
       "    if (el.title.endsWith(\".csv\")) {\n",
       "      iframe.setAttribute(\"srcdoc\", tblcss + csvToHtmlTable(this.responseText));\n",
       "    } else {\n",
       "      iframe.setAttribute(\"srcdoc\", this.responseText);\n",
       "    }  \n",
       "    console.log(this.responseText);\n",
       "  }\n",
       "\n",
       "  const oReq = new XMLHttpRequest();\n",
       "  oReq.addEventListener(\"load\", reqListener);\n",
       "  oReq.open(\"GET\", el.title);\n",
       "  oReq.send();\n",
       "  \n",
       "  \n",
       "  //iframe.src = el.title;\n",
       "  const resultPane = document.querySelector(panelName + \"-pane\");\n",
       "  if (resultPane.classList.contains(\"hidden\")) {\n",
       "    resultPane.classList.remove(\"hidden\");\n",
       "  }\n",
       "}\n",
       "function closePanel(el) {\n",
       "  const panelName = \"#\" + el.getAttribute('paneName')\n",
       "  const resultPane = document.querySelector(panelName + \"-pane\");\n",
       "  if (!resultPane.classList.contains(\"hidden\")) {\n",
       "    resultPane.classList.add(\"hidden\");\n",
       "  }\n",
       "}\n",
       "\n",
       "</script>\n",
       "<div class=\"master-wrapper\">\n",
       "  <div class=\"block master-tbl\"><div>\n",
       "<style scoped>\n",
       "    .dataframe tbody tr th:only-of-type {\n",
       "        vertical-align: middle;\n",
       "    }\n",
       "\n",
       "    .dataframe tbody tr th {\n",
       "        vertical-align: top;\n",
       "    }\n",
       "\n",
       "    .dataframe thead th {\n",
       "        text-align: right;\n",
       "    }\n",
       "</style>\n",
       "<table border=\"1\" class=\"dataframe\">\n",
       "  <thead>\n",
       "    <tr style=\"text-align: right;\">\n",
       "      <th>uid</th>\n",
       "      <th>iter</th>\n",
       "      <th>start</th>\n",
       "      <th>state</th>\n",
       "      <th>name</th>\n",
       "      <th>labels</th>\n",
       "      <th>inputs</th>\n",
       "      <th>parameters</th>\n",
       "      <th>results</th>\n",
       "      <th>artifacts</th>\n",
       "    </tr>\n",
       "  </thead>\n",
       "  <tbody>\n",
       "    <tr>\n",
       "      <td><div title=\"6ff47e80bbf94fb18d12990c38499227\">...499227</div></td>\n",
       "      <td>0</td>\n",
       "      <td>Apr 19 10:58:08</td>\n",
       "      <td>completed</td>\n",
       "      <td>test</td>\n",
       "      <td><div class=\"dictlist\">host=test-9xn6f</div><div class=\"dictlist\">kind=job</div><div class=\"dictlist\">owner=admin</div><div class=\"dictlist\">v3io_user=adi</div></td>\n",
       "      <td><div title=\"/User/demos/getting-started-tutorial/jobs/2/models/model.pkl\">models_path</div><div title=\"/User/demos/getting-started-tutorial/jobs/2/test_set.parquet\">test_set</div></td>\n",
       "      <td><div class=\"dictlist\">label_column=label</div><div class=\"dictlist\">plots_dest=plots/test</div></td>\n",
       "      <td><div class=\"dictlist\">accuracy=0.9333333333333333</div><div class=\"dictlist\">avg_precscore=0.3673982494785104</div><div class=\"dictlist\">f1_score=0.9333333333333333</div><div class=\"dictlist\">rocauc=0.3333333333333333</div></td>\n",
       "      <td><div class=\"artifact\" onclick=\"expandPanel(this)\" paneName=\"resultf0c1c790\" title=\"/files/demos/getting-started-tutorial/jobs/plots/test/roc.html\">roc</div><div class=\"artifact\" onclick=\"expandPanel(this)\" paneName=\"resultf0c1c790\" title=\"/files/demos/getting-started-tutorial/jobs/plots/test/confusion.html\">confusion</div></td>\n",
       "    </tr>\n",
       "  </tbody>\n",
       "</table>\n",
       "</div></div>\n",
       "  <div id=\"resultf0c1c790-pane\" class=\"right-pane block hidden\">\n",
       "    <div class=\"pane-header\">\n",
       "      <span id=\"resultf0c1c790-title\" class=\"pane-header-title\">Title</span>\n",
       "      <span onclick=\"closePanel(this)\" paneName=\"resultf0c1c790\" class=\"close clickable\">&times;</span>\n",
       "    </div>\n",
       "    <iframe class=\"fileview\" id=\"resultf0c1c790-body\"></iframe>\n",
       "  </div>\n",
       "</div>\n"
      ],
      "text/plain": [
       "<IPython.core.display.HTML object>"
      ]
     },
     "metadata": {},
     "output_type": "display_data"
    },
    {
     "name": "stdout",
     "output_type": "stream",
     "text": [
      "to track results use .show() or .logs() or in CLI: \n",
      "!mlrun get run 6ff47e80bbf94fb18d12990c38499227 --project getting-started-iris , !mlrun logs 6ff47e80bbf94fb18d12990c38499227 --project getting-started-iris\n",
      "[mlrun] 2020-04-19 10:58:12,321 run executed, status=completed\n"
     ]
    }
   ],
   "source": [
    "test_task = NewTask(name=\"test\",\n",
    "                    params={\"label_column\": \"label\",\n",
    "                            \"plots_dest\": path.join(\"plots\", \"test\")},\n",
    "                    inputs={\"models_path\" : train_run.outputs['model'],\n",
    "                            \"test_set\"    : train_run.outputs['test_set']}\n",
    "                   )\n",
    "test_run = test.run(test_task,\n",
    "                    artifact_path=artifact_path)"
   ]
  },
  {
   "cell_type": "code",
   "execution_count": 27,
   "metadata": {},
   "outputs": [
    {
     "data": {
      "text/html": [
       "<b>Test Accuracy</b>: 0.9333333333333333"
      ],
      "text/plain": [
       "<IPython.core.display.HTML object>"
      ]
     },
     "metadata": {},
     "output_type": "display_data"
    },
    {
     "data": {
      "text/html": [
       "<h3>Confusion matrix:</h3>"
      ],
      "text/plain": [
       "<IPython.core.display.HTML object>"
      ]
     },
     "metadata": {},
     "output_type": "display_data"
    },
    {
     "data": {
      "text/html": [
       "<img title=\"confusion\" src=\"data:image/png;base64,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\">"
      ],
      "text/plain": [
       "<IPython.core.display.HTML object>"
      ]
     },
     "metadata": {},
     "output_type": "display_data"
    },
    {
     "data": {
      "text/html": [
       "<h3>ROC Curve:</h3>"
      ],
      "text/plain": [
       "<IPython.core.display.HTML object>"
      ]
     },
     "metadata": {},
     "output_type": "display_data"
    },
    {
     "data": {
      "text/html": [
       "<img title=\"roc\" src=\"data:image/png;base64,iVBORw0KGgoAAAANSUhEUgAAAoAAAAHgCAYAAAA10dzkAAAABHNCSVQICAgIfAhkiAAAAAlwSFlzAAAPYQAAD2EBqD+naQAAADh0RVh0U29mdHdhcmUAbWF0cGxvdGxpYiB2ZXJzaW9uMy4xLjMsIGh0dHA6Ly9tYXRwbG90bGliLm9yZy+AADFEAAAgAElEQVR4nOzde3zO9eP/8ee12bEdHMYcmkNUJnJWRnwnhlCUjGVYyrlEEkk0aUWhSA45JOdKJemAnHKMGaFIyWiOw07YbNf1+6Of69MyItte23U97rfbdbvtel3v93U9r27Vnnu93geLzWazCQAAAE7DxXQAAAAA5C8KIAAAgJOhAAIAADgZCiAAAICToQACAAA4GQogAACAk6EAAgAAOBkKIAAAgJOhAAIAADgZCiAAAICToQACAAA4GQogAACAk6EAAgAAOBkKIAAAgJOhAAIAADgZCiAAAICToQACAAA4GQogAACAk6EAAgAAOBkKIAAAgJOhAAIAADgZCiAAAICToQACAAA4GQogAACAk6EAAgAAOBkKIAAAgJOhAAIAADgZCiAAAICToQACAAA4GQogAACAk6EAAgAAOBkKIAAAgJOhAAIAADgZCiAAAICToQACAAA4GQogAACAk6EAAgAAOBkKIAAAgJOhAAIokC5cuGA6Qq5xpO8CwDFQAAEYN3r0aFksFsXGxqpjx44qVqyYKleubH99+fLlatiwoby9veXr66sWLVpoy5YtV73PL7/8oi5duigwMFAeHh4qX768unXrpvT09Ot+fnp6uqKjoxUcHCxPT0+VKFFCoaGh2rx5syTpjz/+kMVi0dy5c6/a12KxaPTo0f/6XSZNmiSLxaJDhw5d9R4vvvii3N3ddebMGfvY6tWr9eCDD8rPz0/e3t5q1KiR1qxZ82//KAHghlAAARQYjz76qKpUqaKPP/5Y06ZNkyQtXLhQjzzyiPz8/LRo0SLNmjVL586d0//93//phx9+sO+7e/du1a9fX1u3blV0dLS+/vprxcTEKD09XRkZGdf8zMzMTLVu3VpjxoxR27Zt9dlnn2nu3LkKCQlRfHx8rn2Xrl27yt3d/aoSmZWVpfnz56tdu3YKCAiQJM2fP19hYWHy8/PThx9+qKVLl6p48eJq2bIlJRBA7rABgGGjRo2ySbK98sor2cazsrJsZcuWtdWoUcOWlZVlH09JSbGVKlXKFhISYh9r1qyZrWjRorZTp07d1GfPmzfPJsk2c+bMa25z+PBhmyTbnDlzrnpNkm3UqFH/+l1sNpvt0Ucftd1+++3ZvsvKlSttkmxffvmlzWaz2dLS0mzFixe3tWvXLtu+WVlZtpo1a9oaNGhwU98PAHLCDCCAAuOxxx7L9vzAgQNKSEhQZGSkXFz+978rHx8fPfbYY9q6dasuXLigCxcuaP369erUqZNKlix5U5/59ddfy9PTU08++WSufIcr/vldJCkqKkrHjh3T6tWr7WNz5sxR6dKl1bp1a0nS5s2bdfbsWXXv3l2ZmZn2h9VqVatWrfTjjz8qLS0tV7MCcD5FTAcAgCvKlCmT7XliYmKO45JUtmxZWa1WnTt3TtJfS6m33377TX/m6dOnVbZs2WwFMzfklLl169YqU6aM5syZo7CwMJ07d07Lly/XwIED5erqKkk6efKkJKljx47XfO+zZ8/qtttuy9W8AJwLBRBAgWGxWLI9L1GihCTp+PHjV22bkJAgFxcXFStWTBaLRa6urjp27NhNf2bJkiX1ww8/yGq1XrMEenp6StJVJ5NcKag5+ed3kSRXV1dFRkbq3Xff1fnz57Vw4UKlp6crKirKvs2V4wAnT56s+++/P8f3DgwMvP6XAoB/wRIwgALr7rvvVrly5bRw4ULZbDb7eFpamj799FP7mcFeXl5q2rSpPv7442xn0t6I1q1b69KlSzme4XtFYGCgPD09tWfPnmzjX3zxxU19lvTXMvClS5e0aNEizZ07Vw0bNlTVqlXtrzdq1EhFixbV/v37Va9evRwf7u7uN/25APB3zAACKLBcXFw0btw4PfHEE2rbtq169+6t9PR0jR8/XufPn9cbb7xh33bChAlq3Lix7rvvPg0bNkxVqlTRyZMntXz5ck2fPl2+vr45fkaXLl00Z84c9enTRwcOHFBoaKisVqu2bdum4OBgde7cWRaLRV27dtXs2bNVuXJl1axZU9u3b9fChQtv+jtVrVpVDRs2VExMjI4ePaoZM2Zke93Hx0eTJ09W9+7ddfbsWXXs2FGlSpXS6dOntXv3bp0+fVrvv//+TX8uAPwdBRBAgRYREaHbbrtNMTExCg8Pl6urq+6//36tXbtWISEh9u2ulLJRo0Zp+PDhSklJUenSpdWsWbPrzpgVKVJEK1euVExMjBYtWqRJkybJ19dXNWvWVKtWrezbvf3225KkcePGKTU1Vc2aNdOKFStUsWLFm/5OUVFR6tWrl7y8vBQeHn7V6127dlX58uU1btw49e7dWykpKSpVqpRq1aqlHj163PTnAcA/WWx/X1cBAACAw+MYQAAAACdDAQQAAHAyFEAAAAAnQwEEAABwMhRAAAAAJ0MBBAAAcDIUQAAAACfDhaBvgdVqVUJCgnx9fXO87ycAACh4bDabUlJSVLZs2WveA9zRUQBvQUJCgoKCgkzHAAAA/8HRo0d1++23m45hBAXwFly5t+jRo0fl5+dnOA0AALgRycnJCgoKuuY9wp0BBfAWXFn29fPzowACAFDIOPPhW8658A0AAODEKIAAAABOhgIIAADgZDgGEAAAFCo2m02ZmZnKysrK8XVXV1cVKVLEqY/x+zcUQAAAUGhkZGTo+PHjunDhwnW38/b2VpkyZeTu7p5PyQoXCiAAACgUrFarDh8+LFdXV5UtW1bu7u5XzfLZbDZlZGTo9OnTOnz4sO68806nvdjz9VAAAQBAoZCRkSGr1aqgoCB5e3tfczsvLy+5ubnpyJEjysjIkKenZz6mLByoxAAAoFC5kRk9Zv2uj386AAAATsZhCuCGDRvUrl07lS1bVhaLRZ9//vm/7rN+/XrVrVtXnp6euuOOOzRt2rR8SAoAAGCWwxTAtLQ01axZU1OmTLmh7Q8fPqyHHnpIDzzwgHbt2qWXXnpJzz77rD799NM8TgoAAGCWw5wE0rp1a7Vu3fqGt582bZrKly+vSZMmSZKCg4O1Y8cOvfXWW3rsscfyKuaNs9mky9c/xR0AAEdks9l08fJf1/jz8vaVheP5cp3DFMCbtWXLFoWFhWUba9mypWbNmqXLly/Lzc3tqn3S09OVnp5uf56cnJw34Ww2aXZL6ei2vHl/AAAKMIukK+f4XhgSL28f/2yv22y2f32PG9nGmTltpT5x4oQCAwOzjQUGBiozM1NnzpzJcZ+YmBj5+/vbH0FBQXkT7vIFyh8AAP9wZXLm3y4C/fdtcprQgRPPAErK8eKROY1fMXz4cA0ePNj+PDk5Oe9K4BVDDknu177WEQAAjiLx7FkNHjRIzw8drvAlf0iSdrr973egq6urihYtqlOnTkn6624fOf0uv3Dhgk6dOqWiRYvK1dU13/IXJk5bAEuXLq0TJ05kGzt16pSKFCmiEiVK5LiPh4eHPDw88iPe/7h7S+635e9nAgCQzzZv3qzOnTvr6NGj2n/4uC7+30t/vfCPgle6dGlJspfAaylatKh9W1zNaQtgw4YN9eWXX2Yb++6771SvXj2miwEAyCdWq1Xjx4/XiBEjlJWVpTvvvFOTp0xW50+O57i9xWJRmTJlVKpUKV2+fDnHbdzc3Jj5+xcOcwxgamqq4uLiFBcXJ+mvy7zExcUpPj5e0l/Lt926dbNv36dPHx05ckSDBw/Wzz//rNmzZ2vWrFkaMmSIkfwAADib06dPq02bNho2bJiysrIUERGhnTt36t577/3XfV1dXeXp6Znjg/L37xxmBnDHjh0KDQ21P79yrF737t01d+5cHT9+3F4GJalSpUpauXKlBg0apPfee09ly5bVu+++WzAuAQMAgIM7dOiQmjZtqoSEBHl6emrKlCl68sknZbFYdCEj03Q8h+cwBfD//u//rnvK99y5c68aa9q0qWJjY/MwFQAAyEnFihVVqVIl+fn56eOPP1b16tVNR3IqDlMAAQBAwXblzFx3d3cVKVJEn3zyiXx8fOTj42M6mtNxmGMAAQBAwbVmzRrde++9GjZsmH2sdOnSlD9DKIAAACDPZGVladSoUWrRooVOnjyp1atX39CFnJG3KIAAACBPJCQk6MEHH1R0dLRsNpueeuopbd26Vd7e3ODANI4BBAAAue7bb79VZGSkTp8+LR8fH02fPl0RERGmY+H/owACAIBcdf78eYWHhyspKUk1a9bU0qVLddddd5mOhb+hAAIAgFxVtGhRzZgxQ2vXrtXEiRPl6elpOhL+gQIIAABu2VdffSUvLy81a9ZMktSpUyd16tTJcCpcCyeBAACA/+zy5ct64YUX1LZtW0VEROjEiROmI+EGMAMIAAD+kyNHjig8PFzbtm2TJIWHh6tYsWKGU+FGUAABAMBN+/zzzxUVFaXz58+raNGimjNnjtq3b286Fm4QS8AAAOCGZWVl6bnnnlOHDh10/vx53Xfffdq1axflr5ChAAIAgBvm4uKixMRESdLzzz+vDRs2qGLFimZD4aaxBAwAAP7V5cuX5ebmJovFovfff19du3ZVy5YtTcfCf8QMIAAAuKZLly6pf//+euyxx2Sz2SRJPj4+lL9CjhlAAACQo19//VWdOnVSXFycJOmHH37QAw88YDgVcgMzgAAA4CqLFi1SnTp1FBcXp4CAAH399deUPwdCAQQAAHYXL15Ur169FBERodTUVDVp0kRxcXFq1aqV6WjIRRRAAABg17lzZ82cOVMWi0Uvv/yy1qxZo3LlypmOhVzGMYAAAMBuxIgRio2N1Zw5c9S8eXPTcZBHKIAAADixtLQ0bd++XaGhoZKkBg0a6NChQ/Lw8DCcDHmJJWAAAJzUvn371KBBA7Vu3Vq7d++2j1P+HB8FEAAAJ2Oz2TR79mzVr19f+/fvV4kSJZSWlmY6FvIRBRAAACeSkpKiyMhI9ezZUxcvXlTLli0VFxenkJAQ09GQjyiAAAA4id27d6tevXpasGCBXF1dFRMTo5UrV6pkyZKmoyGfcRIIAABOYsWKFTp48KBuv/12LV68WI0aNTIdCYZQAAEAcBLDhg3T5cuX9cwzz6hEiRKm48AgloABAHBQsbGxevTRR3Xx4kVJkqurq0aPHk35AwUQAABHY7PZNGXKFDVs2FCfffaZxowZYzoSChiWgAEAcCDnz59Xz549tWzZMklS+/bt9cILLxhOhYKGGUAAABzE9u3bVbt2bS1btkxubm565513tGzZMhUrVsx0NBQwzAACAOAAli5dqq5du+ry5cu64447tGTJEtWrV890LBRQFEAAABzA/fffLx8fHzVv3lwzZ86Uv7+/6UgowCiAAAAUUvHx8SpfvrwkqXz58oqNjVWFChVksVgMJ0NBxzGAAAAUMlarVW+++aYqV66sFStW2McrVqxI+cMNoQACAFCInD59Wm3bttWwYcOUmZmpr7/+2nQkFEIsAQMAUEhs2LBBXbp0UUJCgjw9PTV58mT17NnTdCwUQswAAgBQwGVlZem1115TaGioEhISVLVqVW3fvl1PPfUUS774TyiAAAAUcGvXrtXIkSNltVrVvXt37dixQzVq1DAdC4UYS8AAABRwzZs316BBg3TvvfeqR48epuPAAVAAAQAoYLKysvTWW2+pe/fuKl26tCRpwoQJhlPBkbAEDABAAXL8+HE1b95cw4YNU9euXWW1Wk1HggOiAAIAUEB89913qlmzptatW6fbbrtNUVFRcnHhVzVyH/9WAQBgWGZmpkaMGKFWrVrp9OnTqlmzpmJjY/XEE0+YjgYHxTGAAAAYdPLkST3++OPauHGjJKlPnz6aOHGiPD09DSeDI6MAAgBgkLe3t06ePClfX1998MEH6tSpk+lIcAIUQAAA8tnly5dVpEgRWSwW+fr6atmyZfL09FTlypVNR4OT4BhAAADy0ZEjR9SkSRNNmjTJPnbPPfdQ/pCvKIAAAOSTL774QrVr19bWrVsVExOj1NRU05HgpCiAAADksYyMDA0aNEjt27fXuXPn1KBBA23fvl0+Pj6mo8FJUQABAMhDhw8fVuPGje1Lvs8//7w2btyoihUrmg0Gp8ZJIAAA5JGUlBQ1aNBAZ86cUfHixTV37ly1a9fOdCyAGUAAAPKKr6+vhg0bppCQEO3atYvyhwKDAggAQC46dOiQ9u/fb38+ePBgrVu3TuXLlzeYCsiOAggAQC5ZvHix6tSpo0cffdR+hq/FYpGbm5vhZEB2FEAAAG7RxYsX1bt3b3Xp0kUpKSkKDAxUWlqa6VjANTlUAZw6daoqVaokT09P1a1b135fxWuZNGmS7r77bnl5eSkoKEiDBg3SpUuX8iktAMAR/PLLL7rvvvs0Y8YMWSwWvfzyy1qzZo0CAwNNRwOuyWHOAl6yZImee+45TZ06VY0aNdL06dPVunVr7d+/P8fjLhYsWKBhw4Zp9uzZCgkJ0cGDB9WjRw9J0sSJE/M5PQCgMProo4/Ut29fpaWlKTAwUPPnz1fz5s1NxwL+lcPMAE6YMEE9e/bUU089peDgYE2aNElBQUF6//33c9x+y5YtatSokSIiIlSxYkWFhYWpS5cu2rFjRz4nBwAURlarVXPnzlVaWpqaNWumuLg4yh8KDYcogBkZGdq5c6fCwsKyjYeFhWnz5s057tO4cWPt3LlT27dvlyT9/vvvWrlypdq0aZPneQEAhZ+Li4sWLFigN998U999951Kly5tOhJwwxxiCfjMmTPKysq66niLwMBAnThxIsd9OnfurNOnT6tx48ay2WzKzMxU3759NWzYsGt+Tnp6utLT0+3Pk5OTc+cLAAAKPJvNprlz52rv3r16++23JUmlS5fW0KFDDScDbp5DzABeYbFYsj232WxXjV2xbt06jR07VlOnTlVsbKyWLVumFStWaMyYMdd8/5iYGPn7+9sfQUFBuZofAFAwpaamqlu3bnryySc1YcIErVmzxnQk4JY4xAxgQECAXF1dr5rtO3Xq1DXPwho5cqQiIyP11FNPSZJq1KihtLQ09erVSyNGjJCLy9XdePjw4Ro8eLD9eXJyMiUQABzcnj171KlTJx04cECurq4aM2aMQkNDTccCbolDzAC6u7urbt26WrVqVbbxVatWKSQkJMd9Lly4cFXJc3V1lc1mk81my3EfDw8P+fn5ZXsAAByTzWbTjBkz1KBBAx04cEDlypXTunXrNHz48BwnCYDCxCFmAKW/brUTGRmpevXqqWHDhpoxY4bi4+PVp08fSVK3bt1Urlw5xcTESJLatWunCRMmqHbt2rrvvvt06NAhjRw5Ug8//LBcXV1NfhUAQAHQv39/+5Uk2rRpo7lz5yogIMBwKiB3OEwBDA8PV2JioqKjo3X8+HFVr15dK1euVIUKFSRJ8fHx2f5ie/nll+0X7Pzzzz9VsmRJtWvXTmPHjjX1FQAABUirVq30wQcf6PXXX9fgwYOZ9YNDsdiutd6Jf5WcnCx/f38lJSXl7nJwRpr0etm/fn4pQXK/LffeGwCQI5vNpiNHjqhixYr2sfj4+BxvJoC8dSEjU9Ve+VaStD+6pbzdc3e+Ks9+fxci/DkDAHB658+f1+OPP666devq6NGj9nHKHxwVBRAA4NR+/PFH1alTR59++qlSUlK0bds205GAPEcBBAA4JZvNpkmTJqlRo0Y6fPiwKlWqpE2bNqljx46mowF5zmFOAgEA4EadPXtWUVFRWr58uSSpY8eO+uCDD+Tv7284GZA/mAEEADidcePGafny5XJ3d9d7772npUuXUv7gVJgBBAA4nVGjRungwYMaOXKkateubToOkO+YAQQAOLwzZ85o9OjRslqtkiQvLy8tW7aM8genxQwgAMChbdy4UV26dNGff/4pd3d3vfTSS6YjAcYxAwgAcEhWq1Wvv/66QkND9eeff+ruu+9W27ZtTccCCgRmAAEADufUqVPq2rWrVq1aJUmKjIzU1KlT5ePjYzgZUDBQAAEADuXKtfxOnDghb29vvffee+rRo4fpWECBQgEEADiU2267TefOndM999yjpUuXqlq1aqYjAQUOBRAAUOilp6fLw8NDklSrVi19/fXXuu++++Tt7W04GVAwcRIIAKBQ++6771SlShX9+OOP9rHQ0FDKH3AdFEAAQKGUmZmpESNGqFWrVjp27JjGjh1rOhJQaLAEDAAodI4dO6aIiAht3LhRktSnTx9NmDDBcCqg8KAAAgAKlZUrV6pbt25KTEyUr6+vZs6cqfDwcNOxgEKFAggAKDQ2bNigNm3aSJLq1KmjJUuWqEqVKoZTAYUPBRAAUGg0btxYbdq00R133KHx48fbz/wFcHMogACAAu3bb79Vo0aN5OPjIxcXF3322Wdyc3MzHQso1DgLGABQIGVkZGjQoEFq1aqVBgwYYB+n/AG3jhlAAECBc/jwYYWHh9uv7VeiRAlZrVa5uDBvAeQGCiAAoEBZtmyZnnzySSUlJalYsWL68MMP1a5dO9OxAIfCn1IAgALh0qVLeuaZZ/TYY48pKSlJDRs2VFxcHOUPyAMUQABAgXD+/HktWbJEkjR06FCtX79e5cuXN5wKcEwsAQMACoTSpUtr0aJFSk9P10MPPWQ6DuDQmAEEABhx8eJF9e7dWx9//LF97MEHH6T8AfmAAggAyHcHDhzQ/fffrxkzZqhXr15KSkoyHQlwKhRAAEC+mj9/vurWras9e/aoVKlSWrp0qfz9/U3HApwKBRAAkC8uXLignj17KjIyUmlpaQoNDVVcXJxatGhhOhrgdDgJBACQ5y5cuKAGDRpo3759slgsGjVqlF5++WW5urqajgY4JQogACDPeXt7q3nz5kpMTNTChQsVGhpqOhLg1FgCBgDkidTUVJ04ccL+fNy4cdq9ezflDygAKIAAgFy3Z88e1atXT48//rgyMzMlSe7u7ipVqpThZAAkCiAAIBfZbDbNmDFDDRo00IEDB3T48GEdOXLEdCwA/2C8AGZmZmr16tWaPn26UlJSJEkJCQlKTU01nAwAcDOSk5MVERGh3r172+/mERcXp8qVK5uOBuAfjJ4EcuTIEbVq1Urx8fFKT09XixYt5Ovrq3HjxunSpUuaNm2ayXgAgBsUGxur8PBwHTp0SEWKFNHrr7+u559/Xi4uxucZAOTA6H+ZAwcOVL169XTu3Dl5eXnZxzt06KA1a9YYTAYAuFE2m029evXSoUOHVL58eW3YsEEvvPAC5Q8owIzOAP7www/atGmT3N3ds41XqFBBf/75p6FUAICbYbFY9NFHHyk6OlrvvfeeihcvbjoSgH9h9M8zq9WqrKysq8aPHTsmX19fA4kAADfixx9/1PTp0+3Pg4ODtWjRIsofUEgYLYAtWrTQpEmT7M8tFotSU1M1atQoPfTQQwaTAQByYrPZNGnSJDVq1Ej9+vXTpk2bTEcC8B8YXQKeOHGiQkNDVa1aNV26dEkRERH69ddfFRAQoEWLFpmMBgD4h7NnzyoqKkrLly+XJD366KO65557DKcC8F8YLYBly5ZVXFycFi9erJ07d8pqtapnz5564oknsp0UAgAwa8uWLercubPi4+Pl7u6uCRMmqF+/frJYLKajAfgPjBbADRs2KCQkRFFRUYqKirKPZ2ZmasOGDWrSpInBdAAASXrnnXc0ZMgQZWZmqkqVKlq6dKlq165tOhaAW2D0GMDQ0FCdPXv2qvGkpCTuFQkABYSbm5syMzPVuXNn7dy5k/IHOACjM4A2my3H5YPExETddtttBhIBACTp0qVL8vT0lCT17dtXlStXVlhYGEu+gIMwUgAfffRRSX+d9dujRw95eHjYX8vKytKePXsUEhJiIhoAODWr1aqYmBh9+OGH+vHHH+Xv7y+LxaKWLVuajgYgFxkpgP7+/pL+mgH09fXNdsKHu7u77r//fj399NMmogGA0zp58qQiIyO1atUqSdKCBQvUr18/w6kA5AUjBXDOnDmSpIoVK2rIkCEs9wKAYWvXrlVERIROnDghLy8vvffee+rRo4fpWADyiNGTQEaNGkX5AwCDsrKy9Oqrr6p58+Y6ceKEqlWrph9//FFRUVEc7wc4MKMngUjSJ598oqVLlyo+Pl4ZGRnZXouNjTWUCgCcw+jRo/Xaa69Jkp588klNnjxZ3t7ehlMByGtGZwDfffddRUVFqVSpUtq1a5caNGigEiVK6Pfff1fr1q1NRgMApzBw4EDdfffdmjdvnmbNmkX5A5yE0QI4depUzZgxQ1OmTJG7u7uGDh2qVatW6dlnn1VSUpLJaADgkDIzM/Xpp5/anwcEBGjv3r2KjIw0mApAfjNaAOPj4+2Xe/Hy8lJKSookKTIyknsBA0AuO3bsmJo1a6aOHTtq3rx59vEiRYwfDQQgnxktgKVLl1ZiYqIkqUKFCtq6dask6fDhw7LZbCajAYBDWblypWrVqqWNGzdedfktAM7HaAFs1qyZvvzyS0lSz549NWjQILVo0ULh4eHq0KGDyWgA4BAuX76soUOHqk2bNkpMTFTt2rUVGxurxx9/3HQ0AAYZLYAzZszQiBEjJEl9+vTR3LlzFRwcrFdffVXvv//+Tb/f1KlTValSJXl6eqpu3brauHHjdbc/f/68+vfvrzJlysjT01PBwcFauXLlf/ouAFDQxMfHq2nTpho/frwkacCAAdq8ebOqVKliOBkA04wd+JGZmamxY8fqySefVFBQkCSpU6dO6tSp0396vyVLlui5557T1KlT1ahRI02fPl2tW7fW/v37Vb58+au2z8jIUIsWLVSqVCl98sknuv3223X06FH5+vre0vcCgILil19+0ZYtW+Tv769Zs2bpscceMx0JQAFhsRk82M7Hx0d79+5VxYoVb/m97rvvPtWpUyfbzGFwcLDat2+vmJiYq7afNm2axo8fr19++UVubm7/6TOTk5Pl7++vpKQk+fn5/efsV8lIk14v+9fPLyVI7lwsG8B/M2PGDDVv3lx33HGH6SjADQtaR/QAACAASURBVLuQkalqr3wrSdof3VLe7rk7X5Vnv78LEaNLwM2bN9e6detu+X0yMjK0c+dOhYWFZRsPCwvT5s2bc9xn+fLlatiwofr376/AwEBVr15dr7/+urKysm45DwCYcPjwYYWFhen333+3j/Xq1YvyB+AqRs/9b926tYYPH669e/eqbt26V90W7uGHH76h9zlz5oyysrIUGBiYbTwwMFAnTpzIcZ/ff/9d33//vZ544gmtXLlSv/76q/r376/MzEy98sorOe6Tnp6u9PR0+/Pk5OQbygcAeW3ZsmV68sknlZSUpL59++rbb781HQlAAWa0APbt21eSNGHChKtes1gsNz0b98/7Vtpstmvey9JqtapUqVKaMWOGXF1dVbduXSUkJGj8+PHXLIAxMTF69dVXbyoTAOSl9PR0DRkyRFOmTJEk3X///ZoxY4bhVAAKOqNLwFar9ZqPmyl/AQEBcnV1vWq279SpU1fNCl5RpkwZ3XXXXXJ1dbWPBQcH68SJE1fdk/iK4cOHKykpyf44evToDWcEgNx26NAhhYSE2MvfCy+8oA0bNqhChQqGkwEo6IwWwNzi7u6uunXratWqVdnGV61aZb/TyD81atRIhw4dktVqtY8dPHhQZcqUkbu7e477eHh4yM/PL9sDAEzYuXOn6tSpo9jYWJUoUUIrVqzQuHHj/vNJbQCci0MUQEkaPHiwPvjgA82ePVs///yzBg0apPj4ePXp00eS1K1bNw0fPty+fd++fZWYmKiBAwfq4MGD+uqrr/T666+rf//+pr4CANyw6tWr66677lLjxo0VFxenNm3amI4EoBBxmBtAhoeHKzExUdHR0Tp+/LiqV6+ulStX2pdC4uPj5eLyv74bFBSk7777ToMGDdK9996rcuXKaeDAgXrxxRdNfQUAuK7ff/9d5cuXV5EiReTh4aGVK1eqePHi3MsXwE0zeh3Awo7rAALIL/Pnz1efPn00aNAgjRkzxnQcIE9xHcC85zBLwADgiC5cuKCePXsqMjJSaWlp2rJlizIzM03HAlDIGS+Av/32m15++WV16dJFp06dkiR988032rdvn+FkAGDW/v371aBBA82ePVsWi0WjRo3St99+y5IvgFtmtACuX79eNWrU0LZt27Rs2TKlpqZKkvbs2aNRo0aZjAYAxthsNs2ZM0f16tXTvn37VLp0aa1evVqjR4/OdukqAPivjBbAYcOG6bXXXtOqVauyXXolNDRUW7ZsMZgMAMxJSEjQgAEDdPHiRbVo0UJxcXFq1qyZ6VgAHIjRdYSffvpJCxcuvGq8ZMmSSkxMNJAIAMwrV66cpk6dqmPHjmn48OHZrmAAALnBaAEsWrSojh8/rkqVKmUb37Vrl8qVK2coFQDkL5vNpg8++EDBwcFq3LixJKl79+6GUwFwZEb/rIyIiNCLL76oEydOyGKxyGq1atOmTRoyZIi6detmMhoA5Ivk5GRFRESoV69e6tKli86dO2c6EgAnYLQAjh07VuXLl1e5cuWUmpqqatWqqUmTJgoJCdHLL79sMhoA5Lldu3apbt26Wrx4sVxdXfXMM8/I39/fdCwATsDoErCbm5sWLFig6Oho7dq1S1arVbVr19add95pMhYA5Cmbzab3339fgwYNUkZGhoKCgrR48eJr3rscAHKb0QK4fv16NW3aVJUrV1blypVNRgGAfHHp0iVFRkbqk08+kSQ9/PDDmjNnjooXL244GQBnYnQJuEWLFipfvryGDRumvXv3mowCAPnCw8NDVqtVbm5umjBhgj7//HPKH4B8Z7QAJiQkaOjQodq4caPuvfde3XvvvRo3bpyOHTtmMhYA5CqbzaZLly5JkiwWi2bNmqVNmzZp0KBBslgshtMBcEZGC2BAQIAGDBigTZs26bffflN4eLjmzZunihUrctFTAA7h7Nmz6tChg7p37y6bzSbpr0tg1a9f33AyAM6swNxQslKlSho2bJhq1qypkSNHav369aYjAcAt2bp1q8LDwxUfHy93d3ft379f99xzj+lYAGB2BvCKTZs2qV+/fipTpowiIiJ0zz33aMWKFaZjAcB/YrVaNX78eD3wwAOKj49X5cqVtWXLFsofgALD6AzgSy+9pEWLFikhIUHNmzfXpEmT1L59e3l7e5uMBQD/2ZkzZ9SjRw999dVXkqTw8HDNmDFDfn5+hpMBwP8YLYDr1q3TkCFDFB4eroCAAJNRAOCW2Ww2tW3bVtu2bZOHh4feeecd9erVixM9ABQ4Rgvg5s2bTX48AOQqi8WicePGqW/fvlq4cKFq1qxpOhIA5CjfC+Dy5cvVunVrubm5afny5dfd9uGHH86nVADw35w6dUq7d+9WixYtJElNmjTRnj175OrqajgZAFxbvhfA9u3b68SJEypVqpTat29/ze0sFouysrLyMRkA3Jx169YpIiJCycnJ2rFjh6pWrSpJlD8ABV6+nwVstVpVqlQp+8/XelD+ABRUWVlZio6O1oMPPqjjx4+rfPnyslqtpmMBwA0zehmYefPmKT09/arxjIwMzZs3z0AiALi+EydOKCwsTKNGjZLValVUVJR+/PFHVatWzXQ0ALhhRgtgVFSUkpKSrhpPSUlRVFSUgUQAcG2rV69WzZo19f3338vb21vz5s3T7Nmzddttt5mOBgA3xehZwDabLcfLIxw7dkz+/v4GEgHAtX3//fc6deqUatSooaVLl9qP+QOAwsZIAaxdu7YsFossFosefPBBFSnyvxhZWVk6fPiwWrVqZSIaAFxTdHS0ihYtqmeeeUZeXl6m4wDAf2akAF45+zcuLk4tW7aUj4+P/TV3d3dVrFhRjz32mIloAGD3zTffaMqUKVq2bJnc3d1VpEgRDR061HQsALhlRgrgqFGjJEkVK1ZUeHi4PD09TcQAgBxdvnxZI0eO1JtvvilJevfddzVkyBDDqQAg9xg9BrB79+4mPx4ArhIfH68uXbrY71TUv39/DRgwwHAqAMhd+V4AixcvroMHDyogIEDFihW77j0yz549m4/JADi7L7/8Uj169NDZs2fl5+enWbNmqWPHjqZjAUCuy/cCOHHiRPn6+tp/5ibpAAqCKVOm6JlnnpEk1atXT0uWLNEdd9xhOBUA5I18L4B/X/bt0aNHfn88AOSoVatW8vPz05NPPqk33nhDHh4epiMBQJ4xeiHo2NhY/fTTT/bnX3zxhdq3b6+XXnpJGRkZBpMBcAa//PKL/ecqVarowIEDmjhxIuUPgMMzWgB79+6tgwcPSpJ+//13hYeHy9vbWx9//DGXWgCQZ9LT0/Xss8/qnnvu0erVq+3jpUuXNpgKAPKP0QJ48OBB1apVS5L08ccfq2nTplq4cKHmzp2rTz/91GQ0AA7q0KFDCgkJ0eTJk2W1WvXjjz+ajgQA+c74reCsVqukv+6x2bZtW0lSUFCQzpw5YzIaAAe0dOlSPfXUU0pJSVGJEiX04Ycfqk2bNqZjAUC+MzoDWK9ePb322mv66KOPtH79evv/iA8fPqzAwECT0QA4kIsXL6pv374KDw9XSkqKGjdurLi4OMofAKdltABOmjRJsbGxGjBggEaMGKEqVapIkj755BOFhISYjAbAgaxYsULTpk2TJA0fPlxr167V7bffbjgVAJhjdAn43nvvzXYW8BXjx4+Xq6urgUQAHFHHjh01cOBAtW7dWi1btjQdBwCMM1oAr9i5c6d+/vlnWSwWBQcHq06dOqYjASjELly4oNGjR+vFF19UiRIlZLFYNGnSJNOxAKDAMFoAT506pfDwcK1fv15FixaVzWZTUlKSQkNDtXjxYpUsWdJkPACF0P79+9WpUyft27dPBw8e1Oeff246EgAUOEaPAXzmmWeUkpKiffv26ezZszp37pz27t2r5ORkPfvssyajASiE5s6dq/r162vfvn0KDAy039oNAJCd0RnAb775RqtXr1ZwcLB9rFq1anrvvfcUFhZmMBmAwiQ1NVX9+/fXvHnzJEnNmzfX/PnzuZoAAFyD0RlAq9UqNze3q8bd3Nzs1wcEgOs5dOiQ6tevr3nz5snFxUWvvfaavvnmG8ofAFyH0QLYrFkzDRw4UAkJCfaxP//8U4MGDdKDDz5oMBmAwiIgIECXLl1S2bJltXbtWo0YMYKrCADAvzC6BDxlyhQ98sgjqlixooKCgmSxWBQfH68aNWpo/vz5JqMBKMAuXLggLy8vWSwWFS1aVMuXL1fp0qU5cQwAbpDRAhgUFKTY2FitWrVKv/zyi2w2m6pVq6bmzZubjAWgAIuLi1OnTp00ZMgQ9erVS5JUo0YNw6kAoHApENcBbNGihVq0aGE6BoACzGazadq0aRo0aJDS09P19ttvKyoqKsfjiAEA12f0GEBJWrNmjdq2bavKlSurSpUqatu2rVavXm06FoACJCkpSeHh4erXr5/S09PVrl07bd68mfIHAP+R0QI4ZcoUtWrVSr6+vho4cKCeffZZ+fn56aGHHtKUKVNMRgNQQOzYsUN16tTRxx9/rCJFiujtt9/WF198oRIlSpiOBgCFltEl4JiYGE2cOFEDBgywjz377LNq1KiRxo4dm20cgPM5efKkmjRpoosXL6pChQpasmSJ7rvvPtOxAKDQMzoDmJycrFatWl01HhYWpuTkZAOJABQkgYGBGj58uDp06KBdu3ZR/gAglxgtgA8//LA+++yzq8a/+OILtWvXzkAiAKZt27ZNBw4csD8fMWKEPv30UxUrVsxgKgBwLEaXgIODgzV27FitW7dODRs2lCRt3bpVmzZt0vPPP693333Xvi33BgYcm9Vq1cSJEzVs2DBVq1ZNW7dulZeXl1xcjJ+rBgAOx2gBnDVrlooVK6b9+/dr//799vGiRYtq1qxZ9ucWi4UCCDiwxMREde/eXV999ZUk6e6771ZmZqbhVADguIwWwMOHD5v8eAAFwKZNm9S5c2cdO3ZMHh4emjRpknr37i2LxWI6GgA4LNZWABhhtVr1xhtvqGnTpjp27JjuvPNObd26VX369KH8AUAeowACMCIrK0tffvmlsrKyFBERoZ07d6pWrVqmYwGAU3CoAjh16lRVqlRJnp6eqlu3rjZu3HhD+y1evFgWi0Xt27fP44QArnBzc9OiRYs0e/ZszZ8/X76+vqYjAYDTcJgCuGTJEj333HMaMWKEdu3apQceeECtW7dWfHz8dfc7cuSIhgwZogceeCCfkgLOKSsrS2PGjNGLL75oHytfvryioqJY8gWAfOYwBXDChAnq2bOnnnrqKQUHB2vSpEkKCgrS+++/f819srKy9MQTT+jVV1/VHXfckY9pAedy4sQJtWzZUq+88orGjRunXbt2mY4EAE7NeAHcuHGjunbtqoYNG+rPP/+UJH300Uf64Ycfbvg9MjIytHPnToWFhWUbDwsL0+bNm6+5X3R0tEqWLKmePXve0Oekp6crOTk52wPA9a1Zs0a1atXSmjVr5O3trQ8//FC1a9c2HQsAnJrRAvjpp5+qZcuW8vLy0q5du5Seni5JSklJ0euvv37D73PmzBllZWUpMDAw23hgYKBOnDiR4z6bNm3SrFmzNHPmzBv+nJiYGPn7+9sfQUFBN7wv4GwyMzP1yiuvqEWLFjp58qSqV6+uHTt2qFu3bqajAYDTM1oAX3vtNU2bNk0zZ86Um5ubfTwkJESxsbE3/X7/PI7IZrPleGxRSkqKunbtqpkzZyogIOCG33/48OFKSkqyP44ePXrTGQFn8eijj2rMmDGy2Wx6+umntX37dgUHB5uOBQCQ4QtBHzhwQE2aNLlq3M/PT+fPn7/h9wkICJCrq+tVs32nTp26alZQkn777Tf98ccf2e43bLVaJUlFihTRgQMHVLly5av28/DwkIeHxw3nApxZRESE1q5dq+nTpysiIsJ0HADA3xidASxTpowOHTp01fgPP/xwUydluLu7q27dulq1alW28VWrVikkJOSq7atWraqffvpJcXFx9sfDDz+s0NBQxcXFsbQL/AeZmZk6ePCg/Xnnzp3122+/Uf4AoAAyOgPYu3dvDRw4ULNnz5bFYlFCQoK2bNmiIUOG6JVXXrmp9xo8eLAiIyNVr149NWzYUDNmzFB8fLz69OkjSerWrZvKlSunmJgYeXp6qnr16tn2L1q0qCRdNQ7g3x09elRdunTRoUOHtHv3bvvMe6lSpQwnAwDkxGgBHDp0qJKSkhQaGqpLly6pSZMm8vDw0JAhQzRgwICbeq/w8HAlJiYqOjpax48fV/Xq1bVy5UpVqFBBkhQfHy8XF+MnPQMOZ8WKFerevbvOnj0rPz8//fzzzzkeegEAKDgsNpvNZjrEhQsXtH//flmtVlWrVk0+Pj6mI92Q5ORk+fv7KykpSX5+frn3xhlp0utl//r5pQTJ/bbce28gl2RkZGj48OGaMGGCJKlu3bpasmRJjsfPAsDNuJCRqWqvfCtJ2h/dUt7uuTtflWe/vwsRozOAV3h7e6tevXqmYwC4QX/88Yc6d+6sbdu2SZIGDhyoN998k5OkAKCQMFoAQ0NDr3sLqO+//z4f0wC4UTExMdq2bZuKFi2qOXPmcB9tAChkjBbAWrVqZXt++fJlxcXFae/everevbuhVAD+zVtvvaXU1FSNHTtWFStWNB0HAHCTjBbAiRMn5jg+evRopaam5nMaANfy22+/aebMmYqJiZHFYpGvr68WLFhgOhYA4D8qkKfFdu3aVbNnzzYdA4Ckjz/+WHXq1NGbb76pKVOmmI4DAMgFBbIAbtmyRZ6enqZjAE7t0qVL6tevnzp16qTk5GQ1atSIY/0AwEEYXQJ+9NFHsz232Ww6fvy4duzYoZEjRxpKBeDgwYPq1KmTdu/eLUkaNmyYoqOjs92zGwBQeBktgP7+/tmeu7i46O6771Z0dLTCwsIMpQKc2+eff67IyEilpqYqICBAH330kVq1amU6FgAgFxkrgFlZWerRo4dq1Kih4sWLm4oB4B/KlCljvzPPwoULVa5cOdORAAC5zNgxgK6urmrZsqWSkpJMRQDw/6Wlpdl/vu+++7Ru3TqtWbOG8gcADsroSSA1atTQ77//bjIC4PQ+/PBDVahQQXv27LGPNWrUSEWKFIgbBQEA8oDRAjh27FgNGTJEK1as0PHjx5WcnJztASDvpKWlqUePHurRo4cSExM1depU05EAAPnE6J/4Vw4sf/jhh7PdEs5ms8lisSgrK8tUNMCh7d27V506ddLPP/8sFxcXjR49Wi+99JLpWACAfGK0AK5du9bkxwNOx2azadasWXrmmWd06dIllS1bVgsXLlTTpk1NRwMA5COjBbBSpUoKCgrKNvsn/fVL6ujRo4ZSAY5r2bJlevrppyVJLVu21EcffaSSJUsaTgUAyG/GC+Dx48dVqlSpbONnz55VpUqVWAIGcln79u0VFham0NBQDR06VC4uBfJmQACAPGa0AF451u+fUlNTuRUckAtsNpsWL16sDh06yNPTU66urvr6668pfgDg5IwUwMGDB0uSLBaLRo4cKW9vb/trWVlZ2rZtm2rVqmUiGuAwkpKS1KtXLy1dulR9+/a1n+VL+QMAGCmAu3btkvTX7MRPP/0kd3d3+2vu7u6qWbOmhgwZYiIa4BB27typTp066ffff1eRIkVUuXLla864AwCcj5ECeOXs36ioKL3zzjvy8/MzEQNwODabTVOmTNGQIUOUkZGhChUqaPHixbr//vtNRwMAFCBGjwGcM2eOyY8HHMq5c+fUs2dPffbZZ5L+OuFj9uzZKlasmOFkAICChoOBAAeRnJysdevWyc3NTe+8846WLVtG+QMA5IibfQKF2N+P66tQoYIWLVqkEiVKqF69eoaTAQAKMmYAgUIqMTFRjzzyiL766iv7WMuWLSl/AIB/xQwgUAht2rRJXbp00dGjRxUbG6vffvtNHh4epmMBAAoJZgCBQsRqteqNN95Q06ZNdfToUd15551asWIF5Q8AcFOYAQQKidOnT6tbt2765ptvJEkRERGaNm2afH19DScDABQ2FECgEDhz5oxq1aqlhIQEeXp6avLkyerZsycXdgYA/CcUQKAQCAgIUJs2bbRx40YtXbpUNWrUMB0JAFCIUQCBAurkyZOyWCwqVaqUJOmdd95RVlaWfHx8DCcDABR2nAQCFEBr1qxRzZo11bVrV1mtVkmSl5cX5Q8AkCsogEABkpWVpVGjRqlFixY6efKkEhISdPr0adOxAAAOhgIIFBAJCQlq3ry5oqOjZbPZ9NRTT2n79u0KDAw0HQ0A4GA4BhAoAL799ltFRkbq9OnT8vHx0fTp0xUREWE6FgDAQVEAAcMyMzM1cOBAnT59WjVr1tTSpUt11113mY4FAHBgLAEDhhUpUkSLFy/WgAEDtHXrVsofACDPUQABA7766ivNnDnT/rxWrVqaPHmyPD09DaYCADgLloCBfHT58mW99NJLeuutt+Tm5qb69eurVq1apmMBAJwMBRDIJ0eOHFF4eLi2bdsmSerbt6+Cg4MNpwIAOCMKIJAPPv/8c0VFRen8+fMqWrSoZs+erQ4dOpiOBQBwUhwDCOSxF154QR06dND58+fVoEED7dq1i/IHADCKAgjksSv38n3++ee1ceNGVaxY0WwgAIDTYwkYyAOpqan2+/Y+//zzatSokUJCQgynAgDgL8wAArno0qVL6t+/v+rXr6+0tDRJkouLC+UPAFCgUACBXPLrr7+qYcOGmjp1qn755Rd98803piMBAJAjCiCQCxYtWqQ6deooLi5OAQEB+uabb/TYY4+ZjgUAQI4ogMAtuHjxonr16qWIiAilpqaqSZMmiouLU8uWLU1HAwDgmiiAwC0YNGiQZs6cKYvFopdffllr1qxRuXLlTMcCAOC6OAsYuAWvvPKKNm/erAkTJqh58+am4wAAcEOYAQRuQlpamhYsWGB/XrZsWcXFxVH+AACFCjOAwA3at2+fOnXqpP3798vDw0MdO3aU9NdlXgAAKEz4zQX8C5vNplmzZql+/frav3+/ypQpo5IlS5qOBQDAf8YMIHAdKSkp6tu3r33Zt2XLlpo3b5799m4AABRGzAAC17B7927Vq1dPCxYskKurq2JiYrRy5UrKHwCg0GMGELiGw4cP6+DBg7r99tu1aNEiNW7c2HQkAAByBQUQ+BubzSaLxSJJat++vT744AM98sgjCggIMJwMAIDc41BLwFOnTlWlSpXk6empunXrauPGjdfcdubMmXrggQdUrFgxFStWTM2bN9f27dvzMS0KmtjYWIWEhOjYsWP2sZ49e1L+AAAOx2EK4JIlS/Tcc89pxIgR2rVrlx544AG1bt1a8fHxOW6/bt06denSRWvXrtWWLVtUvnx5hYWF6c8//8zn5DDNZrNpypQpatiwobZu3aqhQ4eajgQAQJ5ymAI4YcIE9ezZU0899ZSCg4M1adIkBQUF6f33389x+wULFqhfv36qVauWqlatqpkzZ8pqtWrNmjX5nBwmnT9/Xh07dtQzzzyjjIwMtW/fXu+9957pWAAA5CmHKIAZGRnauXOnwsLCso2HhYVp8+bNN/QeFy5c0OXLl1W8ePFrbpOenq7k5ORsDxRe27dvV+3atbVs2TK5ubnpnXfe0bJly1SsWDHT0QAAyFMOUQDPnDmjrKwsBQYGZhsPDAzUiRMnbug9hg0bpnLlyl33ll4xMTHy9/e3P4KCgm4pN8xZtWqVGjVqpD/++EOVKlXSpk2b9Oyzz9pPAAEAwJE5RAG84p+/vP9+Ruf1jBs3TosWLdKyZcvk6el5ze2GDx+upKQk++Po0aO3nBlmNGrUSFWrVlXHjh21a9cu1a9f33QkAADyjUNcBiYgIECurq5XzfadOnXqqlnBf3rrrbf0+uuva/Xq1br33nuvu62Hh4c8PDxuOS/M+Omnn3TPPffIxcVF3t7eWr9+vYoVK8asHwDA6TjEDKC7u7vq1q2rVatWZRtftWqVQkJCrrnf+PHjNWbMGH3zzTeqV69eXseEIVarVePGjVPt2rX15ptv2seLFy9O+QMAOCWHmAGUpMGDBysyMlL16tVTw4YNNWPGDMXHx6tPnz6SpG7duqlcuXKKiYmR9Ney78iRI7Vw4UJVrFjRPnvo4+MjHx8fY98Duev06dPq3r27vv76a0nSzz//fMOHBgAA4KgcpgCGh4crMTFR0dHROn78uKpXr66VK1eqQoUKkqT4+Hi5uPxvwnPq1KnKyMhQx44ds73PqFGjNHr06PyMjjyyYcMGdenSRQkJCfL09NTkyZPVs2dPyh8AwOk5TAGUpH79+qlfv345vrZu3bpsz//444+8DwQjrFarYmJi9Morr8hqtapq1apaunSpatSoYToaAAAFgkMcAwj83cGDBxUdHS2r1aru3btrx44dlD8AAP7GoWYAAUmqWrWqpkyZInd3d3Xv3t10HAAAChwKIAq9rKwsvfbaa2rTpo39bO6nn37acCoAAAouloBRqCUkJKh58+YaPXq0wsPDdfHiRdORAAAo8CiAKLS+++471apVS+vWrZOPj4/GjBkjLy8v07EAACjwKIAodDIzMzVixAi1atVKp0+fVs2aNbVz505FRESYjgYAQKHAMYAoVM6fP6927drphx9+kCT16dNHEydOvO49nAEAQHYUQBQqfn5+8vX1la+vrz744AN16tTJdCQAAAodCiAKvMuXLyszM1NeXl5ycXHRvHnzdP78eVWp8v/au/eoKOv8D+DvYeRmXAQRRERuKnJZV8EVEfC2Kmah5haghqK1icsmYuXaUcwwURcz9yIaapKXBDe8Eip4QVE0kaBcIRS5qUGmkZAYCHx/f7jMrwkQB2XGmXm/zuEc5zvfZ5738xkO8/G5TV9VRyMiIlJLPAeQnmllZWUYMWKE3De8WFhYsPkjIiJ6AmwA6Zl14MABDB48GOfPn8f+/ftx/fp1VUciIiLSCGwA6ZlTX1+PfWfikgAAGgVJREFUyMhITJkyBVVVVRg6dChyc3Nha2ur6mhEREQagQ0gPVOKi4vh4+OD9evXAwDeeustZGZmwt7eXrXBiIiINAgvAqFnRmNjIyZMmICrV6/C3NwcCQkJCAgIUHUsIiIijcM9gPTMkEql+Ne//gVfX1/k5eWx+SMiIuokbABJpYqKipCeni577O/vj9OnT/N8PyIiok7EBpBUJjExER4eHnjllVdQXFwsG5dIJCpMRUREpPnYAJLS3b9/H3PnzsW0adNQU1ODgQMHQl9fX9WxiIiItAYbQFKqb7/9Fl5eXoiPj4dEIsHSpUtx4sQJ2NjYqDoaERGR1uBVwKQ0O3fuRFhYGO7duwcrKyvs3LkTY8eOVXUsIiIircMGkJTmwoULuHfvHsaMGYNdu3ahZ8+eqo5ERESkldgAUqcSQsgu6oiNjYWbmxtef/11SKVSFScjIiLSXjwHkDqFEALbtm3DxIkT0dDQAADQ19fH3Llz2fwRERGpGBtAeup+/vlnzJw5E3PmzMGRI0ewY8cOVUciIiKiX+EhYHqqvvnmGwQGBqKwsBBSqRQrVqzArFmzVB2LiIiIfoUNID0VQgjEx8cjIiICdXV1sLGxQWJiInx9fVUdjYiIiH6Dh4DpqVi6dCnCwsJQV1eHF154AXl5eWz+iIiInlFsAOmpmD59OkxNTREbG4uDBw/CwsJC1ZGIiIioDTwETB0ihEBubi48PDwAAG5ubigpKYGZmZmKkxEREVF7uAeQFPbTTz/hlVdewdChQ3HmzBnZOJs/IiIi9cAGkBSSnZ0NDw8PJCcnQ0dHB1evXlV1JCIiIlIQG0B6LEIIrF+/Hj4+PigpKYGDgwPOnj2L2bNnqzoaERERKYjnAFK7fvzxR8yePRsHDx4EALz88svYsmULTE1NVZyMiIiIOoJ7AKlde/fuxcGDB6Gnp4cNGzZgz549bP6IiIjUGPcAUrtee+015OfnIyQkBIMHD1Z1HCIiInpC3ANILdy+fRthYWGorq4GAEgkEqxbt47NHxERkYbgHkCSk5mZiWnTpuHmzZuora3F9u3bVR2JiIiInjLuASQAQFNTE1auXIlRo0bh5s2bcHZ2xttvv63qWERERNQJuAeQ8P333yMkJATp6ekAgJCQEMTFxcHIyEjFyYiIiKgzsAHUcjk5OXjxxRdRWVkJQ0NDxMXFITQ0VNWxiIiIqBOxAdRyffr0gY6ODtzc3LBnzx64urqqOhIRERF1MjaAWuju3buy+/j16NEDaWlpcHBwQNeuXVWcjIiIiJSBF4FomfT0dPTv3x87d+6Ujbm5ubH5IyIi0iJsALVEQ0MDli5dCn9/f9y6dQubNm2CEELVsYiIiEgF2ABqgRs3bmDMmDFYuXIlhBAICwtDeno6JBKJqqMRERGRCvAcQA2XmpqKmTNn4s6dOzA2NsaWLVsQGBio6lhERESkQmwANdjVq1cREBCApqYmeHh4ICkpCX379lV1LCIiIlIxNoAarF+/fli0aBHu3buH2NhY6OvrqzoSERERPQPYAGqYQ4cOwd3dHQ4ODgCAmJgYnutHREREcngRiIaor6/HwoULMWnSJAQHB6O+vh4A2PwRERFRC9wDqAFKSkoQFBSE7OxsAICPj4+KExEREdGzjA2gmtu7dy/mzJmDu3fvwszMDAkJCZg0aZKqYxEREdEzjIeA1VRdXR3efPNN/OlPf8Ldu3fh7e2NvLw8Nn9ERETULjaAakoIgaysLADAokWLcOrUKfTp00fFqYiIiEgd8BCwmhFCQCKRwMDAAHv27EFhYSEmTpyo6lhERESkRtgAqon79+9jwYIFsLKyQnR0NADAyckJTk5OKk5GRERE6kajDgHHxcXBwcEBBgYG8PT0RGZm5iPnJycnw9XVFfr6+nB1dcW+ffuUlFQxhYWFGDZsGOLj4xETE4OSkhJVRyIiIiI1pjENYFJSEhYsWIAlS5YgNzcXfn5+eP7551FeXt7q/HPnziEoKAghISH4+uuvERISgsDAQHz55ZdKTv5ouxMT4enpiW+++QaWlpY4fPiw7CbPRERERB0hEUIIVYd4Gry8vODh4YGNGzfKxlxcXDBlyhSsWrWqxfygoCBUV1fj8OHDsrEJEybAzMwMu3fvfqx1VldXw9TUFHfv3oWJicmTb8T/iLqfIVllAwAwiq1D7QNgxIgR+OSTT9CzZ8+nth4iIqJnUW19I4Z8cAwAkB/tj656T/eMtc76/FYnGnEOYH19PXJycrB48WK58fHjx8uulP2tc+fOITIyUm7M398f69evb3M9dXV1qKurkz2urq5+gtRtu1f3AEb/+7ftm7twHwYoBTAm7msAX3fKOomIiEh7aMQh4Nu3b6OxsRFWVlZy41ZWVqisrGx1mcrKSoXmA8CqVatgamoq+7G1tX3y8K3Q0dGIt4WIiOiJDLEzg6GuVNUxNJJG7AFs9tvvvW2+ZcrTmv/uu+9i4cKFssfV1dWd0gQadjXGvbfKUFPzM3K6WwH8Pl8iItJChrpSfqd9J9GIBtDCwgJSqbTF3rtbt2612MvXrGfPngrNBwB9fX3o6+s/eeB2SHR08JxxNzxn3K3T10VERETaRyOONerp6cHT0xPp6ely4+np6Rg+fHiry3h7e7eYn5aW1uZ8IiIiIk2hEXsAAWDhwoUICQnBkCFD4O3tjfj4eJSXlyMsLAwAMHPmTNjY2MiuCI6IiMCIESOwZs0aTJ48GQcOHMCxY8dw5swZVW4GERERUafTmAYwKCgId+7cQXR0NCoqKuDu7o7U1FTY2dkBAMrLy+Uurhg+fDgSExOxdOlSREVFwcnJCUlJSfDy8lLVJhAREREphcbcB1AVeB8hIiIi9cPPbw05B5CIiIiIHh8bQCIiIiItwwaQiIiISMuwASQiIiLSMmwAiYiIiLQMG0AiIiIiLcMGkIiIiEjLsAEkIiIi0jJsAImIiIi0jMZ8FZwqNH+JSnV1tYqTEBER0eNq/tzW5i9DYwP4BGpqagAAtra2Kk5CREREiqqpqYGpqamqY6gEvwv4CTQ1NeG7776DsbExJBLJU33t6upq2Nra4vr161r7PYXKwDorB+usHKyzcrDOytGZdRZCoKamBr169YKOjnaeDcc9gE9AR0cHvXv37tR1mJiY8A+MErDOysE6KwfrrByss3J0Vp21dc9fM+1se4mIiIi0GBtAIiIiIi0jXb58+XJVh6DWSaVSjBo1Cl268Eh9Z2KdlYN1Vg7WWTlYZ+VgnTsPLwIhIiIi0jI8BExERESkZdgAEhEREWkZNoBEREREWoYNIBEREZGWYQOoInFxcXBwcICBgQE8PT2RmZn5yPnJyclwdXWFvr4+XF1dsW/fPiUlVX+K1Hrz5s3w8/ODmZkZzMzMMHbsWFy4cEGJadWXor/TzRITEyGRSDBlypROTqgZFK3zTz/9hPDwcFhbW8PAwAAuLi5ITU1VUlr1pWid169fD2dnZxgaGsLW1haRkZH45ZdflJRWPZ0+fRoBAQHo1asXJBIJ9u/f3+4yp06dgqenJwwMDODo6IhNmzYpIamGEqR0iYmJQldXV2zevFnk5+eLiIgI8dxzz4mysrJW52dlZQmpVCpiYmJEQUGBiImJEV26dBHnz59XcnL1o2itp0+fLjZs2CByc3NFQUGBmD17tjA1NRU3btxQcnL1omidm5WWlgobGxvh5+cnJk+erKS06kvROtfV1YkhQ4aIiRMnijNnzojS0lKRmZkp8vLylJxcvSha5507dwp9fX2xa9cuUVJSIo4ePSqsra3FggULlJxcvaSmpoolS5aI5ORkAUDs27fvkfOLi4tF165dRUREhMjPzxebN28Wurq64vPPP1dSYs3CBlAFhg4dKsLCwuTGBgwYIBYvXtzq/MDAQDFhwgS5MX9/fxEcHNxpGTWForX+rYaGBmFsbCw+/fTTzoinMTpS54aGBuHj4yO2bNkiZs2axQbwMSha540bNwpHR0dRX1+vjHgaQ9E6h4eHizFjxsiNLVy4UPj6+nZaRk3zOA3gokWLxIABA+TG5s6dK4YNG9aZ0TQWDwErWX19PXJycjB+/Hi58fHjxyMrK6vVZc6dO9divr+/f5vz6aGO1Pq3amtr8eDBA5ibm3dGRI3Q0TpHR0ejR48eeO211zo7okboSJ0PHjwIb29vhIeHw8rKCu7u7oiJiUFjY6MyIquljtTZ19cXOTk5stNFiouLkZqaihdeeKHT82qTtj4LL168iAcPHqgolfrirbWV7Pbt22hsbISVlZXcuJWVFSorK1tdprKyUqH59FBHav1bixcvho2NDcaOHdsZETVCR+p89uxZbN26FXl5ecqIqBE6Uufi4mKcOHECM2bMQGpqKq5evYrw8HA0NDRg2bJlyoitdjpS5+DgYPzwww/w9fWFEAINDQ2YN28eFi9erIzIWqOtz8KGhgbcvn0b1tbWKkqmntgAqohEIpF7LIRoMfYk8+n/dbR2f//737F7925kZGTAwMCgs+JpjMetc01NDV599VVs3rwZFhYWyoqnMRT5fW5qaoKlpSXi4+MhlUrh6emJ7777DrGxsWwA26FInTMyMrBy5UrExcXBy8sLRUVFiIiIgLW1NaKiopQRV2u09r60Nk7tYwOoZBYWFpBKpS3+J3nr1q0W/7Np1rNnT4Xm00MdqXWztWvXIiYmBseOHcPAgQM7M6baU7TO165dQ2lpKQICAmRjTU1NAIAuXbqgsLAQTk5OnRtaDXXk99na2hq6urqQSqWyMRcXF1RWVqK+vh56enqdmlkddaTOUVFRCAkJweuvvw4A+N3vfod79+7hjTfewJIlS6Cjw7Otnoa2Pgu7dOmC7t27qyiV+uJvpZLp6enB09MT6enpcuPp6ekYPnx4q8t4e3u3mJ+WltbmfHqoI7UGgNjYWKxYsQJHjhzBkCFDOjum2lO0zgMGDMClS5eQl5cn+5k0aRJGjx6NvLw82NraKiu6WunI77OPjw+KiopkDTYAXLlyBdbW1mz+2tCROtfW1rZo8qRSKcTDCy07Lau2aeuzcMiQIdDV1VVRKjWmqqtPtFnzLQa2bt0q8vPzxYIFC8Rzzz0nSktLhRBChISEyF1tdvbsWSGVSsXq1atFQUGBWL16NW8D85gUrfWaNWuEnp6e+Pzzz0VFRYXsp6amRlWboBYUrfNv8Srgx6NoncvLy4WRkZH461//KgoLC0VKSoqwtLQUH3zwgao2QS0oWuf33ntPGBsbi927d4vi4mKRlpYmnJycRGBgoKo2QS3U1NSI3NxckZubKwCIdevWidzcXNntdhYvXixCQkJk85tvAxMZGSny8/PF1q1beRuYJ8AGUEU2bNgg7OzshJ6envDw8BCnTp2SPTdy5Egxa9Ysufn/+c9/hLOzs9DV1RUDBgwQycnJSk6svhSptZ2dnQDQ4ue9995TfnA1o+jv9K+xAXx8itY5KytLeHl5CX19feHo6ChWrlwpGhoalJxa/ShS5wcPHojly5cLJycnYWBgIGxtbcVf/vIXUVVVpYLk6uPkyZOt/r1tru2sWbPEyJEj5ZbJyMgQgwcPFnp6esLe3l5s3LhR+cE1hEQI7p8mIiIi0iY8B5CIiIhIy7ABJCIiItIybACJiIiItAwbQCIiIiItwwaQiIiISMuwASQiIiLSMmwAiYiIiLQMG0AieixCCLzxxhswNzeHRCJBXl5eu8uUlpY+9txn1ahRo7BgwYJHzklISEC3bt2UlIiI6MmxASSix3LkyBEkJCQgJSUFFRUVcHd3V3Ukpdi7dy9WrFghe2xvb4/169fLzQkKCsKVK1eUHe2xSSQS7N+/X9UxiOgZ0kXVAYhIPVy7dg3W1tYYPny4qqMolbm5ebtzDA0NYWhoqIQ0/6+xsRESiQQ6Ovx/PBEpjn85iKhdoaGhePPNN1FeXg6JRAJ7e3sAD/cK+vr6olu3bujevTtefPFFXLt2rc3XqaqqwowZM9CjRw8YGhqiX79+2LZtm+z5mzdvIigoCGZmZujevTsmT56M0tLSNl8vIyMDEokEX3zxBX7/+9/DwMAAXl5euHTpkty85ORkuLm5QV9fH/b29vjwww/lno+Li0O/fv1gYGAAKysrvPzyy7Lnfn0IeNSoUSgrK0NkZCQkEgkkEgkA+UPAhYWFkEgk+Pbbb+XWsW7dOtjb26P52zfz8/MxceJEGBkZwcrKCiEhIbh9+3ab29q8jpSUFLi6ukJfXx9lZWXIzs7GuHHjYGFhAVNTU4wcORJfffWVbLnm9+qll16Se+8A4NChQ/D09ISBgQEcHR3x/vvvo6Ghoc0MRKQ52AASUbv+8Y9/IDo6Gr1790ZFRQWys7MBAPfu3cPChQuRnZ2N48ePQ0dHBy+99BKamppafZ2oqCjk5+fj8OHDKCgowMaNG2FhYQEAqK2txejRo2FkZITTp0/jzJkzMDIywoQJE1BfX//IfO+88w7Wrl2L7OxsWFpaYtKkSXjw4AEAICcnB4GBgQgODsalS5ewfPlyREVFISEhAQBw8eJFzJ8/H9HR0SgsLMSRI0cwYsSIVtezd+9e9O7dG9HR0aioqEBFRUWLOc7OzvD09MSuXbvkxj/77DNMnz4dEokEFRUVGDlyJAYNGoSLFy/iyJEj+P777xEYGPjI7aytrcWqVauwZcsWXL58GZaWlqipqcGsWbOQmZmJ8+fPo1+/fpg4cSJqamoAQPZebdu2Te69O3r0KF599VXMnz8f+fn5+Pjjj5GQkICVK1c+MgMRaQhBRPQYPvroI2FnZ/fIObdu3RIAxKVLl4QQQpSUlAgAIjc3VwghREBAgJg9e3ary27dulU4OzuLpqYm2VhdXZ0wNDQUR48ebXWZkydPCgAiMTFRNnbnzh1haGgokpKShBBCTJ8+XYwbN05uuXfeeUe4uroKIYRITk4WJiYmorq6utV1jBw5UkRERMge29nZiY8++khuzrZt24Spqans8bp164Sjo6PscWFhoQAgLl++LIQQIioqSowfP17uNa5fvy4AiMLCwlZzbNu2TQAQeXl5rT7frKGhQRgbG4tDhw7JxgCIffv2yc3z8/MTMTExcmM7duwQ1tbWj3x9ItIM3ANIRB127do1TJ8+HY6OjjAxMYGDgwMAoLy8vNX58+bNQ2JiIgYNGoRFixYhKytL9lxOTg6KiopgbGwMIyMjGBkZwdzcHL/88ssjDysDgLe3t+zf5ubmcHZ2RkFBAQCgoKAAPj4+cvN9fHxw9epVNDY2Yty4cbCzs4OjoyNCQkKwa9cu1NbWdqgezYKDg1FWVobz588DAHbt2oVBgwbB1dVVtq0nT56UbaeRkREGDBgAAI/cVj09PQwcOFBu7NatWwgLC0P//v1hamoKU1NT/Pzzz22+B81ycnIQHR0tl+HPf/4zKioqnnj7iejZx4tAiKjDAgICYGtri82bN6NXr15oamqCu7t7m4dsn3/+eZSVleGLL77AsWPH8Mc//hHh4eFYu3YtmpqaWj10CgA9evRQOFvz+XlCCNm/m4n/nYcHAMbGxvjqq6+QkZGBtLQ0LFu2DMuXL0d2dnaHb+1ibW2N0aNH47PPPsOwYcOwe/duzJ07V/Z8U1MTAgICsGbNmlaXbYuhoWGLbQkNDcUPP/yA9evXw87ODvr6+vD29m73sHlTUxPef/99TJ06tcVzBgYG7W0iEak5NoBE1CF37txBQUEBPv74Y/j5+QEAzpw50+5yPXr0QGhoKEJDQ+Hn5yc7f8/DwwNJSUmwtLSEiYmJQlnOnz+PPn36AHh4ocmVK1dke9RcXV1b5MrKykL//v0hlUoBAF26dMHYsWMxduxYvPfee+jWrRtOnDjRanOkp6eHxsbGdjPNmDEDf/vb3zBt2jRcu3YNwcHBsuc8PDyQnJwMe3t7dOnyZH+GMzMzERcXh4kTJwIArl+/3uJiEl1d3RaZPTw8UFhYiL59+z7R+olIPfEQMBF1SPOVuvHx8SgqKsKJEyewcOHCRy6zbNkyHDhwAEVFRbh8+TJSUlLg4uIC4GHDZGFhgcmTJyMzMxMlJSU4deoUIiIicOPGjUe+bnR0NI4fP47//ve/CA0NhYWFBaZMmQIAeOutt3D8+HGsWLECV65cwaeffop///vfePvttwEAKSkp+Oc//4m8vDyUlZVh+/btaGpqgrOzc6vrsre3x+nTp3Hz5s1HXrU7depUVFdXY968eRg9ejRsbGxkz4WHh+PHH3/EtGnTcOHCBRQXFyMtLQ1z5sx5rOby1/r27YsdO3agoKAAX375JWbMmNHiljT29vY4fvw4KisrUVVVBeDhe7F9+3YsX74cly9fRkFBAZKSkrB06VKF1k9E6okNIBF1iI6ODhITE5GTkwN3d3dERkYiNjb2kcvo6enh3XffxcCBAzFixAhIpVIkJiYCALp27YrTp0+jT58+mDp1KlxcXDBnzhzcv3+/3T2Cq1evRkREBDw9PVFRUYGDBw9CT08PwMM9XXv27EFiYiLc3d2xbNkyREdHIzQ0FADQrVs37N27F2PGjIGLiws2bdqE3bt3w83NrdV1RUdHo7S0FE5OTo88NG1iYoKAgAB8/fXXmDFjhtxzvXr1wtmzZ9HY2Ah/f3+4u7sjIiICpqamCt/X75NPPkFVVRUGDx6MkJAQzJ8/H5aWlnJzPvzwQ6Snp8PW1haDBw8GAPj7+yMlJQXp6en4wx/+gGHDhmHdunWws7NTaP1EpJ4k4tcnwxARqZGMjAyMHj0aVVVV/Co2IiIFcA8gERERkZZhA0hERESkZXgImIiIiEjLcA8gERERkZZhA0hERESkZdgAEhEREWkZNoBEREREWoYNIBEREZGWYQNIREREpGXYABIRERFpGTaARERERFqGDSARERGRlvk/Zof5QpFRIwAAAAAASUVORK5CYII=\">"
      ],
      "text/plain": [
       "<IPython.core.display.HTML object>"
      ]
     },
     "metadata": {},
     "output_type": "display_data"
    }
   ],
   "source": [
    "display(HTML(f'<b>Test Accuracy</b>: {test_run.outputs[\"accuracy\"]}'))\n",
    "display(HTML(\"<h3>Confusion matrix:</h3>\"), HTML(filename=test_run.outputs['confusion']))\n",
    "display(HTML(\"<h3>ROC Curve:</h3>\"), HTML(filename=test_run.outputs['roc']))"
   ]
  },
  {
   "cell_type": "markdown",
   "metadata": {},
   "source": [
    "<a id=step6></a>\n",
    "# Step 6: Create a Fully Automated ML Pipeline\n",
    "\n",
    "We are now ready to create a full pipeline. In order to do that are using a framework called Kubeflow Pipelines which is embedded in the Iguazio platform. Kubeflow pipeline is a framework for building and deploying portable, scalable machine learning (ML) workflows based on Docker containers. MLRun leverages this framework to take your existing code and deploy it as steps within the pipeline.\n",
    "\n",
    "## Add serving functions from the marketplace\n",
    "\n",
    "Add real-time model server and a model REST API Tester to our functions:"
   ]
  },
  {
   "cell_type": "code",
   "execution_count": 28,
   "metadata": {},
   "outputs": [
    {
     "data": {
      "text/plain": [
       "<mlrun.projects.project.MlrunProject at 0x7fc6860a71d0>"
      ]
     },
     "execution_count": 28,
     "metadata": {},
     "output_type": "execute_result"
    }
   ],
   "source": [
    "project.set_function('hub://model_server', 'serving')\n",
    "project.set_function('hub://model_server_tester', 'serving-tester')"
   ]
  },
  {
   "cell_type": "markdown",
   "metadata": {},
   "source": [
    "#### Define and save a pipeline \n",
    "\n",
    "The following workflow definition will be written into a file, it describes a Kubeflow execution graph (DAG)<br>\n",
    "and how functions and data are connected  as part of an end to end pipeline. \n",
    "\n",
    "* Ingest the iris data\n",
    "* Analyze the dataset (describe)\n",
    "* Train and test the model\n",
    "* Deploy the model as a real-time serverless function\n",
    "* Test the serverless function REST API with test dataset\n",
    "\n",
    "Check the code below to see how functions objects are initialized and used (by name) inside the workflow.<br>\n",
    "The `workflow.py` file has two parts, initialize the function objects and define pipeline dsl (connect the function inputs and outputs).\n",
    "\n",
    "> **Note**: the pipeline can include CI steps like building container images and deploying models."
   ]
  },
  {
   "cell_type": "code",
   "execution_count": 29,
   "metadata": {},
   "outputs": [
    {
     "name": "stdout",
     "output_type": "stream",
     "text": [
      "Writing /User/demos/getting-started-tutorial/conf/workflow.py\n"
     ]
    }
   ],
   "source": [
    "%%writefile {path.join(project_path, 'workflow.py')}\n",
    "from kfp import dsl\n",
    "from mlrun import mount_v3io\n",
    "\n",
    "funcs = {}\n",
    "DATASET = 'iris_dataset'\n",
    "LABELS  = \"label\"\n",
    "MODELS = [\"sklearn.ensemble.RandomForestClassifier\", \n",
    "          \"sklearn.linear_model.LogisticRegression\",\n",
    "          \"sklearn.ensemble.AdaBoostClassifier\"]\n",
    "\n",
    "# init functions is used to configure function resources and local settings\n",
    "def init_functions(functions: dict, project=None, secrets=None):\n",
    "    for f in functions.values():\n",
    "        f.apply(mount_v3io())\n",
    "        \n",
    "    functions['serving'].metadata.name = 'getting-started-serving'\n",
    "\n",
    "    \n",
    "@dsl.pipeline(\n",
    "    name=\"Getting started tutorial\",\n",
    "    description=\"This tutorial is designed to provide an overview of Iguazio's Data Science platform capabilities.\\n\" + \\\n",
    "                \"For this example we will use the Iris flower data set.\"\n",
    ")\n",
    "def kfpipeline(source_url = 'http://iguazio-sample-data.s3.amazonaws.com/iris_dataset.csv'):\n",
    "    \n",
    "    # run the ingestion function\n",
    "    ingest = funcs['get-data'].as_step(\n",
    "        name=\"get-data\",\n",
    "        handler='get_data',\n",
    "        inputs={'source_url': source_url},\n",
    "        params={'format': 'pq'},\n",
    "        outputs=[DATASET])\n",
    "\n",
    "    # analyze our dataset\n",
    "    describe = funcs[\"describe\"].as_step(\n",
    "        name=\"summary\",\n",
    "        params={\"label_column\": LABELS},\n",
    "        inputs={\"table\": ingest.outputs[DATASET]})\n",
    "    \n",
    "    # train with hyper-paremeters \n",
    "    train = funcs[\"train\"].as_step(\n",
    "        name=\"train\",\n",
    "        params={\"sample\"          : -1, \n",
    "                \"label_column\"    : LABELS,\n",
    "                \"test_size\"       : 0.10},\n",
    "        hyperparams={'model_pkg_class': MODELS},\n",
    "        selector='max.accuracy',\n",
    "        inputs={\"dataset\"         : ingest.outputs[DATASET]},\n",
    "        outputs=['model', 'test_set'])\n",
    "\n",
    "    # test and visualize our model\n",
    "    test = funcs[\"test\"].as_step(\n",
    "        name=\"test\",\n",
    "        params={\"label_column\": LABELS},\n",
    "        inputs={\"models_path\" : train.outputs['model'],\n",
    "                \"test_set\"    : train.outputs['test_set']})\n",
    "\n",
    "    # deploy our model as a serverless function\n",
    "    deploy = funcs[\"serving\"].deploy_step(models={f\"{DATASET}_v1\": train.outputs['model']})\n",
    "    \n",
    "    # test out new model server (via REST API calls)\n",
    "    tester = funcs[\"serving-tester\"].as_step(name='serving-tester',\n",
    "        params={'addr': deploy.outputs['endpoint'], 'model': f\"{DATASET}_v1\"},\n",
    "        inputs={'table': train.outputs['test_set']})"
   ]
  },
  {
   "cell_type": "code",
   "execution_count": 30,
   "metadata": {},
   "outputs": [],
   "source": [
    "# register the workflow file as \"main\"\n",
    "project.set_workflow('main', 'workflow.py')"
   ]
  },
  {
   "cell_type": "markdown",
   "metadata": {},
   "source": [
    "Save the project definitions to a file (project.yaml), it is recommended to commit all changes to a Git repo."
   ]
  },
  {
   "cell_type": "code",
   "execution_count": 31,
   "metadata": {},
   "outputs": [],
   "source": [
    "project.save()"
   ]
  },
  {
   "cell_type": "markdown",
   "metadata": {},
   "source": [
    "<a id='run-pipeline'></a>\n",
    "## Run a pipeline workflow\n",
    "Use the `run` method to execute a workflow, you can provide alternative arguments and specify the default target for workflow artifacts.<br>\n",
    "The workflow ID is returned and can be used to track the progress or you can use the hyperlinks\n",
    "\n",
    "> **Note**: The same command can be issued through CLI commands:<br>\n",
    "    `mlrun project getting-started-iris -r main -p \"v3io:///users/admin/demos/getting-started-tutorial/pipeline/{{workflow.uid}}/\"`\n",
    "\n",
    "The dirty flag allows us to run a project with uncommitted changes (when the notebook is in the same git dir it will always be dirty)"
   ]
  },
  {
   "cell_type": "code",
   "execution_count": 32,
   "metadata": {},
   "outputs": [
    {
     "data": {
      "text/html": [
       "Experiment link <a href=\"https://dashboard.default-tenant.app.dev34.lab.iguazeng.com/pipelines/#/experiments/details/3b1fa122-fa85-4b1d-9292-ea2fe4d55ac9\" target=\"_blank\" >here</a>"
      ],
      "text/plain": [
       "<IPython.core.display.HTML object>"
      ]
     },
     "metadata": {},
     "output_type": "display_data"
    },
    {
     "data": {
      "text/html": [
       "Run link <a href=\"https://dashboard.default-tenant.app.dev34.lab.iguazeng.com/pipelines/#/runs/details/e2fc8d6b-79c6-4b52-a221-e30deb2c4be2\" target=\"_blank\" >here</a>"
      ],
      "text/plain": [
       "<IPython.core.display.HTML object>"
      ]
     },
     "metadata": {},
     "output_type": "display_data"
    },
    {
     "name": "stdout",
     "output_type": "stream",
     "text": [
      "[mlrun] 2020-04-19 10:58:13,694 Pipeline run id=e2fc8d6b-79c6-4b52-a221-e30deb2c4be2, check UI or DB for progress\n"
     ]
    }
   ],
   "source": [
    "run_id = project.run(\n",
    "    'main',\n",
    "    arguments={}, \n",
    "    artifact_path=path.abspath(path.join('pipeline','{{workflow.uid}}')), \n",
    "    dirty=True)"
   ]
  },
  {
   "cell_type": "markdown",
   "metadata": {},
   "source": [
    "Click on the **Experiments link** above to view experiment information.\n",
    "![getting_started-pipeline](./assets/getting_started-pipeline-experiment.png)\n",
    "\n",
    "Click on the **Run link** above to view the pipeline execution. When the run completes it should be as follows:\n",
    "![getting_started-pipeline](./assets/getting_started-pipeline.png)"
   ]
  },
  {
   "cell_type": "markdown",
   "metadata": {},
   "source": [
    "#### Track pipeline results"
   ]
  },
  {
   "cell_type": "code",
   "execution_count": 33,
   "metadata": {},
   "outputs": [
    {
     "data": {
      "text/html": [
       "<style> \n",
       ".dictlist {\n",
       "  background-color: #b3edff; \n",
       "  text-align: center; \n",
       "  margin: 4px; \n",
       "  border-radius: 3px; padding: 0px 3px 1px 3px; display: inline-block;}\n",
       ".artifact {\n",
       "  cursor: pointer; \n",
       "  background-color: #ffe6cc; \n",
       "  text-align: left; \n",
       "  margin: 4px; border-radius: 3px; padding: 0px 3px 1px 3px; display: inline-block;\n",
       "}\n",
       "div.block.hidden {\n",
       "  display: none;\n",
       "}\n",
       ".clickable {\n",
       "  cursor: pointer;\n",
       "}\n",
       ".ellipsis {\n",
       "  display: inline-block;\n",
       "  max-width: 60px;\n",
       "  white-space: nowrap;\n",
       "  overflow: hidden;\n",
       "  text-overflow: ellipsis;\n",
       "}\n",
       ".master-wrapper {\n",
       "  display: flex;\n",
       "  flex-flow: row nowrap;\n",
       "  justify-content: flex-start;\n",
       "  align-items: stretch;\n",
       "}\n",
       ".master-tbl {\n",
       "  flex: 3\n",
       "}\n",
       ".master-wrapper > div {\n",
       "  margin: 4px;\n",
       "  padding: 10px;\n",
       "}\n",
       "iframe.fileview {\n",
       "  border: 0 none;\n",
       "  height: 100%;\n",
       "  width: 100%;\n",
       "  white-space: pre-wrap;\n",
       "}\n",
       ".pane-header-title {\n",
       "  width: 80%;\n",
       "  font-weight: 500;\n",
       "}\n",
       ".pane-header {\n",
       "  line-height: 1;\n",
       "  background-color: #ffe6cc;\n",
       "  padding: 3px;\n",
       "}\n",
       ".pane-header .close {\n",
       "  font-size: 20px;\n",
       "  font-weight: 700;\n",
       "  float: right;\n",
       "  margin-top: -5px;\n",
       "}\n",
       ".master-wrapper .right-pane {\n",
       "  border: 1px inset silver;\n",
       "  width: 40%;\n",
       "  min-height: 300px;\n",
       "  flex: 3\n",
       "  min-width: 500px;\n",
       "}\n",
       ".master-wrapper * {\n",
       "  box-sizing: border-box;\n",
       "}\n",
       "</style><script>\n",
       "function copyToClipboard(fld) {\n",
       "    if (document.queryCommandSupported && document.queryCommandSupported('copy')) {\n",
       "        var textarea = document.createElement('textarea');\n",
       "        textarea.textContent = fld.innerHTML;\n",
       "        textarea.style.position = 'fixed';\n",
       "        document.body.appendChild(textarea);\n",
       "        textarea.select();\n",
       "\n",
       "        try {\n",
       "            return document.execCommand('copy'); // Security exception may be thrown by some browsers.\n",
       "        } catch (ex) {\n",
       "\n",
       "        } finally {\n",
       "            document.body.removeChild(textarea);\n",
       "        }\n",
       "    }\n",
       "}\n",
       "function expandPanel(el) {\n",
       "  const panelName = \"#\" + el.getAttribute('paneName');\n",
       "  console.log(el.title);\n",
       "\n",
       "  document.querySelector(panelName + \"-title\").innerHTML = el.title\n",
       "  iframe = document.querySelector(panelName + \"-body\");\n",
       "  \n",
       "  const tblcss = `<style> body { font-family: Arial, Helvetica, sans-serif;}\n",
       "    #csv { margin-bottom: 15px; }\n",
       "    #csv table { border-collapse: collapse;}\n",
       "    #csv table td { padding: 4px 8px; border: 1px solid silver;} </style>`;\n",
       "\n",
       "  function csvToHtmlTable(str) {\n",
       "    return '<div id=\"csv\"><table><tr><td>' +  str.replace(/[\\n\\r]+$/g, '').replace(/[\\n\\r]+/g, '</td></tr><tr><td>')\n",
       "      .replace(/,/g, '</td><td>') + '</td></tr></table></div>';\n",
       "  }\n",
       "  \n",
       "  function reqListener () {\n",
       "    if (el.title.endsWith(\".csv\")) {\n",
       "      iframe.setAttribute(\"srcdoc\", tblcss + csvToHtmlTable(this.responseText));\n",
       "    } else {\n",
       "      iframe.setAttribute(\"srcdoc\", this.responseText);\n",
       "    }  \n",
       "    console.log(this.responseText);\n",
       "  }\n",
       "\n",
       "  const oReq = new XMLHttpRequest();\n",
       "  oReq.addEventListener(\"load\", reqListener);\n",
       "  oReq.open(\"GET\", el.title);\n",
       "  oReq.send();\n",
       "  \n",
       "  \n",
       "  //iframe.src = el.title;\n",
       "  const resultPane = document.querySelector(panelName + \"-pane\");\n",
       "  if (resultPane.classList.contains(\"hidden\")) {\n",
       "    resultPane.classList.remove(\"hidden\");\n",
       "  }\n",
       "}\n",
       "function closePanel(el) {\n",
       "  const panelName = \"#\" + el.getAttribute('paneName')\n",
       "  const resultPane = document.querySelector(panelName + \"-pane\");\n",
       "  if (!resultPane.classList.contains(\"hidden\")) {\n",
       "    resultPane.classList.add(\"hidden\");\n",
       "  }\n",
       "}\n",
       "\n",
       "</script>\n",
       "<div class=\"master-wrapper\">\n",
       "  <div class=\"block master-tbl\"><div>\n",
       "<style scoped>\n",
       "    .dataframe tbody tr th:only-of-type {\n",
       "        vertical-align: middle;\n",
       "    }\n",
       "\n",
       "    .dataframe tbody tr th {\n",
       "        vertical-align: top;\n",
       "    }\n",
       "\n",
       "    .dataframe thead th {\n",
       "        text-align: right;\n",
       "    }\n",
       "</style>\n",
       "<table border=\"1\" class=\"dataframe\">\n",
       "  <thead>\n",
       "    <tr style=\"text-align: right;\">\n",
       "      <th>uid</th>\n",
       "      <th>iter</th>\n",
       "      <th>start</th>\n",
       "      <th>state</th>\n",
       "      <th>name</th>\n",
       "      <th>labels</th>\n",
       "      <th>inputs</th>\n",
       "      <th>parameters</th>\n",
       "      <th>results</th>\n",
       "      <th>artifacts</th>\n",
       "    </tr>\n",
       "  </thead>\n",
       "  <tbody>\n",
       "    <tr>\n",
       "      <td><div title=\"ca63d9ba409f4469ac5fef51c2309712\">...309712</div></td>\n",
       "      <td>0</td>\n",
       "      <td>Apr 19 10:59:29</td>\n",
       "      <td>completed</td>\n",
       "      <td>serving-tester</td>\n",
       "      <td><div class=\"dictlist\">host=serving-tester-x45zq</div><div class=\"dictlist\">kind=job</div><div class=\"dictlist\">owner=root</div><div class=\"dictlist\">v3io_user=admin</div><div class=\"dictlist\">workflow=e2fc8d6b-79c6-4b52-a221-e30deb2c4be2</div></td>\n",
       "      <td><div title=\"/User/demos/getting-started-tutorial/pipeline/e2fc8d6b-79c6-4b52-a221-e30deb2c4be2/1/test_set.parquet\">table</div></td>\n",
       "      <td><div class=\"dictlist\">addr=http://192.168.224.70:31314</div><div class=\"dictlist\">model=iris_dataset_v1</div></td>\n",
       "      <td><div class=\"dictlist\">avg_latency=385252</div><div class=\"dictlist\">errors=0</div><div class=\"dictlist\">match=4</div><div class=\"dictlist\">total_tests=10</div></td>\n",
       "      <td></td>\n",
       "    </tr>\n",
       "    <tr>\n",
       "      <td><div title=\"c9567558bd304c749ffb349a2f9ed309\">...9ed309</div></td>\n",
       "      <td>0</td>\n",
       "      <td>Apr 19 10:59:20</td>\n",
       "      <td>completed</td>\n",
       "      <td>test</td>\n",
       "      <td><div class=\"dictlist\">host=test-jflcq</div><div class=\"dictlist\">kind=job</div><div class=\"dictlist\">owner=root</div><div class=\"dictlist\">v3io_user=admin</div><div class=\"dictlist\">workflow=e2fc8d6b-79c6-4b52-a221-e30deb2c4be2</div></td>\n",
       "      <td><div title=\"/User/demos/getting-started-tutorial/pipeline/e2fc8d6b-79c6-4b52-a221-e30deb2c4be2/1/models/model.pkl\">models_path</div><div title=\"/User/demos/getting-started-tutorial/pipeline/e2fc8d6b-79c6-4b52-a221-e30deb2c4be2/1/test_set.parquet\">test_set</div></td>\n",
       "      <td><div class=\"dictlist\">label_column=label</div></td>\n",
       "      <td><div class=\"dictlist\">accuracy=0.9333333333333333</div><div class=\"dictlist\">avg_precscore=0.36663558663558665</div><div class=\"dictlist\">f1_score=0.9333333333333333</div><div class=\"dictlist\">rocauc=0.4343866010532677</div></td>\n",
       "      <td><div class=\"artifact\" onclick=\"expandPanel(this)\" paneName=\"resulta2b41f6d\" title=\"/files/demos/getting-started-tutorial/pipeline/e2fc8d6b-79c6-4b52-a221-e30deb2c4be2/roc.html\">roc</div><div class=\"artifact\" onclick=\"expandPanel(this)\" paneName=\"resulta2b41f6d\" title=\"/files/demos/getting-started-tutorial/pipeline/e2fc8d6b-79c6-4b52-a221-e30deb2c4be2/confusion.html\">confusion</div><div class=\"artifact\" onclick=\"expandPanel(this)\" paneName=\"resulta2b41f6d\" title=\"/files/demos/getting-started-tutorial/pipeline/e2fc8d6b-79c6-4b52-a221-e30deb2c4be2/plots/featimp.html\">featimp</div><div class=\"artifact\" onclick=\"expandPanel(this)\" paneName=\"resulta2b41f6d\" title=\"/files/demos/getting-started-tutorial/pipeline/e2fc8d6b-79c6-4b52-a221-e30deb2c4be2/featimp-tbl.csv\">featimp-tbl</div></td>\n",
       "    </tr>\n",
       "    <tr>\n",
       "      <td><div title=\"7e56d4b17c5c4fb49ac211d988afc0d8\">...afc0d8</div></td>\n",
       "      <td>0</td>\n",
       "      <td>Apr 19 10:58:53</td>\n",
       "      <td>completed</td>\n",
       "      <td>summary</td>\n",
       "      <td><div class=\"dictlist\">host=summary-7m9jx</div><div class=\"dictlist\">kind=job</div><div class=\"dictlist\">owner=root</div><div class=\"dictlist\">v3io_user=admin</div><div class=\"dictlist\">workflow=e2fc8d6b-79c6-4b52-a221-e30deb2c4be2</div></td>\n",
       "      <td><div title=\"/User/demos/getting-started-tutorial/pipeline/e2fc8d6b-79c6-4b52-a221-e30deb2c4be2/data/iris_dataset.parquet\">table</div></td>\n",
       "      <td><div class=\"dictlist\">label_column=label</div></td>\n",
       "      <td><div class=\"dictlist\">scale_pos_weight=1.00</div></td>\n",
       "      <td><div class=\"artifact\" onclick=\"expandPanel(this)\" paneName=\"resulta2b41f6d\" title=\"/files/demos/getting-started-tutorial/pipeline/e2fc8d6b-79c6-4b52-a221-e30deb2c4be2/plots/hist.html\">histograms</div><div class=\"artifact\" onclick=\"expandPanel(this)\" paneName=\"resulta2b41f6d\" title=\"/files/demos/getting-started-tutorial/pipeline/e2fc8d6b-79c6-4b52-a221-e30deb2c4be2/plots/imbalance.html\">imbalance</div><div class=\"artifact\" onclick=\"expandPanel(this)\" paneName=\"resulta2b41f6d\" title=\"/files/demos/getting-started-tutorial/pipeline/e2fc8d6b-79c6-4b52-a221-e30deb2c4be2/plots/corr.html\">correlation</div></td>\n",
       "    </tr>\n",
       "    <tr>\n",
       "      <td><div title=\"ec29697a0b2d42cd9dfdb1ba3238222e\">...38222e</div></td>\n",
       "      <td>0</td>\n",
       "      <td>Apr 19 10:58:48</td>\n",
       "      <td>completed</td>\n",
       "      <td>train</td>\n",
       "      <td><div class=\"dictlist\">kind=job</div><div class=\"dictlist\">owner=root</div><div class=\"dictlist\">v3io_user=admin</div><div class=\"dictlist\">workflow=e2fc8d6b-79c6-4b52-a221-e30deb2c4be2</div></td>\n",
       "      <td><div title=\"/User/demos/getting-started-tutorial/pipeline/e2fc8d6b-79c6-4b52-a221-e30deb2c4be2/data/iris_dataset.parquet\">dataset</div></td>\n",
       "      <td><div class=\"dictlist\">label_column=label</div><div class=\"dictlist\">sample=-1</div><div class=\"dictlist\">test_size=0.1</div></td>\n",
       "      <td><div class=\"dictlist\">accuracy=0.9705882352941176</div><div class=\"dictlist\">best_iteration=1</div><div class=\"dictlist\">f1_score=0.9705882352941176</div><div class=\"dictlist\">rocauc=0.9945117845117846</div></td>\n",
       "      <td><div title=\"/User/demos/getting-started-tutorial/pipeline/e2fc8d6b-79c6-4b52-a221-e30deb2c4be2/1/test_set.parquet\">test_set</div><div title=\"/User/demos/getting-started-tutorial/pipeline/e2fc8d6b-79c6-4b52-a221-e30deb2c4be2/1/models/model.pkl\">model</div><div class=\"artifact\" onclick=\"expandPanel(this)\" paneName=\"resulta2b41f6d\" title=\"/files/demos/getting-started-tutorial/pipeline/e2fc8d6b-79c6-4b52-a221-e30deb2c4be2/1/plots/train/roc.html\">roc</div><div class=\"artifact\" onclick=\"expandPanel(this)\" paneName=\"resulta2b41f6d\" title=\"/files/demos/getting-started-tutorial/pipeline/e2fc8d6b-79c6-4b52-a221-e30deb2c4be2/1/plots/train/confusion.html\">confusion</div><div class=\"artifact\" onclick=\"expandPanel(this)\" paneName=\"resulta2b41f6d\" title=\"/files/demos/getting-started-tutorial/pipeline/e2fc8d6b-79c6-4b52-a221-e30deb2c4be2/iteration_results.csv\">iteration_results</div></td>\n",
       "    </tr>\n",
       "    <tr>\n",
       "      <td><div title=\"5fea17615f974a7ebd863b7a580e2712\">...0e2712</div></td>\n",
       "      <td>0</td>\n",
       "      <td>Apr 19 10:58:29</td>\n",
       "      <td>completed</td>\n",
       "      <td>get-data</td>\n",
       "      <td><div class=\"dictlist\">host=get-data-27xmf</div><div class=\"dictlist\">kind=job</div><div class=\"dictlist\">owner=root</div><div class=\"dictlist\">v3io_user=admin</div><div class=\"dictlist\">workflow=e2fc8d6b-79c6-4b52-a221-e30deb2c4be2</div></td>\n",
       "      <td><div title=\"http://iguazio-sample-data.s3.amazonaws.com/iris_dataset.csv\">source_url</div></td>\n",
       "      <td><div class=\"dictlist\">format=pq</div></td>\n",
       "      <td></td>\n",
       "      <td><div title=\"/User/demos/getting-started-tutorial/pipeline/e2fc8d6b-79c6-4b52-a221-e30deb2c4be2/data/iris_dataset.parquet\">iris_dataset</div></td>\n",
       "    </tr>\n",
       "  </tbody>\n",
       "</table>\n",
       "</div></div>\n",
       "  <div id=\"resulta2b41f6d-pane\" class=\"right-pane block hidden\">\n",
       "    <div class=\"pane-header\">\n",
       "      <span id=\"resulta2b41f6d-title\" class=\"pane-header-title\">Title</span>\n",
       "      <span onclick=\"closePanel(this)\" paneName=\"resulta2b41f6d\" class=\"close clickable\">&times;</span>\n",
       "    </div>\n",
       "    <iframe class=\"fileview\" id=\"resulta2b41f6d-body\"></iframe>\n",
       "  </div>\n",
       "</div>\n"
      ],
      "text/plain": [
       "<IPython.core.display.HTML object>"
      ]
     },
     "metadata": {},
     "output_type": "display_data"
    }
   ],
   "source": [
    "from mlrun import get_run_db\n",
    "db = get_run_db().connect()\n",
    "db.list_runs(project=project.name, labels=f'workflow={run_id}').show()"
   ]
  },
  {
   "cell_type": "markdown",
   "metadata": {},
   "source": [
    "You can now run the `getting-started-serving` function from the project screen. Add to the URL suffix `iris_dataset_v1/predict`, change the body type to `JSON` and add the following text to the request body:\n",
    "```JSON\n",
    "{\"instances\": [[5.1, 3.5, 1.4, 0.2]]}\n",
    "```\n",
    "\n",
    "The UI flow and expected output is displayed below:\n",
    "\n",
    "![getting_started-pipeline](./assets/getting_started-model_serving_test.gif)"
   ]
  },
  {
   "cell_type": "markdown",
   "metadata": {},
   "source": [
    "# Done"
   ]
  },
  {
   "cell_type": "markdown",
   "metadata": {},
   "source": [
    "Congratulation!! You've completed your first tutorial on Iguazio platform !!!. <br>\n",
    "To learn more go to the demos folder in your Jupyter home and check out our end to end demos."
   ]
  },
  {
   "cell_type": "markdown",
   "metadata": {},
   "source": [
    "**[back to top](#top)**"
   ]
  }
 ],
 "metadata": {
  "kernelspec": {
   "display_name": "Python 3",
   "language": "python",
   "name": "python3"
  },
  "language_info": {
   "codemirror_mode": {
    "name": "ipython",
    "version": 3
   },
   "file_extension": ".py",
   "mimetype": "text/x-python",
   "name": "python",
   "nbconvert_exporter": "python",
   "pygments_lexer": "ipython3",
   "version": "3.6.8"
  }
 },
 "nbformat": 4,
 "nbformat_minor": 4
}