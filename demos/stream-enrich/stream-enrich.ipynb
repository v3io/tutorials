{
 "cells": [
  {
   "cell_type": "markdown",
   "metadata": {},
   "source": [
    "# Stream Enrichment\n",
    "\n",
    "This example demonstrates how to enrich stream data, in real time, with additional features that are stored in the NoSQL data store of the Iguazio Data Science Platform (**\"the platform\"**).<br>\n",
    "In this notebook you'll learn how to create and deploy a Nuclio function which is triggered by incoming event-messages to a V3IO-Stream. <br>\n",
    "The function enriches the original event-message with data from V3IO-NoSQL table and writes the enriched message to an output V3IO-Stream.\n",
    "In this notebook we'll create two streams: Stream 1 for input and Stream 2 for output and in addition we'll create a NoSQL table with additional info for enrichment <br>\n",
    "The demo demonstrates sending an event to Iguazio stream with client name, car ID and email. Then the event will be enriched by joining the stream with the relevant record in the Cars table based on the CarID with additional information such as the car's color, manufacture year, vendor and state and then stored in another stream (called Stream2).\n",
    "\n",
    "The streams and the table are stored in a **&lt;running user&gt;/examples/stream_enrich** directory in the \"users\" data container."
   ]
  },
  {
   "cell_type": "code",
   "execution_count": 1,
   "metadata": {},
   "outputs": [],
   "source": [
    "import nuclio\n",
    "import os\n",
    "import requests"
   ]
  },
  {
   "cell_type": "markdown",
   "metadata": {},
   "source": [
    "### Setting Parameters"
   ]
  },
  {
   "cell_type": "code",
   "execution_count": 2,
   "metadata": {},
   "outputs": [],
   "source": [
    "\n",
    "NUCLIO_PROJ_NAME = 'examples'\n",
    "NUCLIO_FUNC_NAME = 'enrich-stream'\n",
    "\n",
    "CONTAINER_NAME = 'users'\n",
    "TABLE_NAME = 'cars'\n",
    "OUTPUT_STREAM_NAME = 'stream2'\n",
    "V3IO_API = os.getenv('V3IO_API')\n",
    "V3IO_ACCESS_KEY = os.environ['V3IO_ACCESS_KEY']\n",
    "V3IO_USERNAME = os.getenv('V3IO_USERNAME')\n",
    "\n",
    "##################################################################################################################\n",
    "## Fill in the V3IO password. This is used for creating the trigger. The password to be set is for the logged in user\n",
    "V3IO_PASSWORD = '123456'\n",
    "#####################################################################################################################\n",
    "\n",
    "INPUT_STREAM_NAME = 'stream1'\n",
    "INPUT_STREAM_SEARCH_KEY = 'CarID'\n",
    "INPUT_STREAM_URL = f'http://{V3IO_API}/{CONTAINER_NAME}/{V3IO_USERNAME}/examples/stream-enrich/{INPUT_STREAM_NAME}/'\n",
    "INPUT_STREAM_PARTITIONS = [0, 1, 2]\n",
    "INPUT_STREAM_SEEK_TO = 'earliest'\n"
   ]
  },
  {
   "cell_type": "markdown",
   "metadata": {},
   "source": [
    "### Create input and output streams"
   ]
  },
  {
   "cell_type": "code",
   "execution_count": 3,
   "metadata": {},
   "outputs": [
    {
     "name": "stdout",
     "output_type": "stream",
     "text": [
      "<Response [204]>\n",
      "<Response [204]>\n"
     ]
    }
   ],
   "source": [
    "payload = f'{{\"ShardCount\": {len(INPUT_STREAM_PARTITIONS)}, \"RetentionPeriodHours\": 1 }}'\n",
    "headers = {\n",
    "    'Content-Type': \"application/json\",\n",
    "    'X-v3io-function': \"CreateStream\",\n",
    "    'x-v3io-session-key': V3IO_ACCESS_KEY,\n",
    "    'cache-control': \"no-cache\",\n",
    "}\n",
    "\n",
    "for stream in [INPUT_STREAM_NAME, OUTPUT_STREAM_NAME]:\n",
    "    url = f'http://{V3IO_API}/{CONTAINER_NAME}/{V3IO_USERNAME}/examples/stream-enrich/{stream}/'\n",
    "\n",
    "    response = requests.request(\"PUT\", url, data=payload, headers=headers)\n",
    "\n",
    "    print(response)"
   ]
  },
  {
   "cell_type": "markdown",
   "metadata": {},
   "source": [
    "### Create a KV table with enrichment data"
   ]
  },
  {
   "cell_type": "markdown",
   "metadata": {},
   "source": [
    "Creating a table called \"cars\" <br>\n",
    "We'll insert two sample rows with the following columns: CarID (key) , color, vendor, manufacture year and state <br>\n",
    "Those fields will be used for enriching the stream in real time"
   ]
  },
  {
   "cell_type": "code",
   "execution_count": 4,
   "metadata": {},
   "outputs": [
    {
     "name": "stdout",
     "output_type": "stream",
     "text": [
      "<Response [200]>\n",
      "<Response [200]>\n"
     ]
    }
   ],
   "source": [
    "url = f'http://{V3IO_API}/{CONTAINER_NAME}/{V3IO_USERNAME}/examples/stream-enrich/{TABLE_NAME}/'\n",
    "\n",
    "payloads = [{\n",
    "    \"Key\" : {\n",
    "        \"CarID\" : {\"N\" : \"0\"}\n",
    "    },\n",
    "    \"Item\" : {\n",
    "        \"Color\":  {\"S\": \"Gray\"},\n",
    "        \"Vendor\": {\"S\" : \"Mitsubishi\"},\n",
    "        \"Mfg_Year\": {\"N\" : \"2017\"},\n",
    "        \"State\": {\"S\" : \"MI\"}\n",
    "    }\n",
    "},\n",
    "{\n",
    "    \"Key\" : {\n",
    "        \"CarID\" : {\"N\" : \"1\"}\n",
    "    },\n",
    "    \"Item\" : {\n",
    "        \"Color\":  {\"S\": \"Red\"},\n",
    "        \"Vendor\": {\"S\" : \"Ford\"},\n",
    "        \"Mfg_Year\": {\"N\" : \"2019\"},\n",
    "        \"State\": {\"S\" : \"NY\"}\n",
    "    }\n",
    "}]\n",
    "\n",
    "headers = {\n",
    "    'Content-Type': \"application/json\",\n",
    "    'X-v3io-function': \"PutItem\",\n",
    "    'x-v3io-session-key': V3IO_ACCESS_KEY,\n",
    "    'cache-control': \"no-cache\",\n",
    "}\n",
    "for payload in payloads:\n",
    "    response = requests.request(\"POST\", url, json=payload, headers=headers)\n",
    "    print(response)"
   ]
  },
  {
   "cell_type": "markdown",
   "metadata": {},
   "source": [
    "### Define a list of environment variable to be set for our Nuclio-function"
   ]
  },
  {
   "cell_type": "code",
   "execution_count": 5,
   "metadata": {},
   "outputs": [],
   "source": [
    "NUCLIO_ENV = {\n",
    "   'V3IO_API':V3IO_API,\n",
    "   'V3IO_USERNAME':V3IO_USERNAME,    \n",
    "   'CONTAINER_NAME':CONTAINER_NAME,\n",
    "   'TABLE_NAME':TABLE_NAME,\n",
    "   'INPUT_STREAM_SEARCH_KEY':INPUT_STREAM_SEARCH_KEY,\n",
    "   'OUTPUT_STREAM_NAME':OUTPUT_STREAM_NAME,\n",
    "   'V3IO_ACCESS_KEY':V3IO_ACCESS_KEY\n",
    "}"
   ]
  },
  {
   "cell_type": "markdown",
   "metadata": {},
   "source": [
    "### Define trigger configuration for our Nuclio-function"
   ]
  },
  {
   "cell_type": "code",
   "execution_count": 6,
   "metadata": {},
   "outputs": [],
   "source": [
    "NUCLIO_TRIGGER_CONF = {\n",
    "    'spec.triggers':{\n",
    "        INPUT_STREAM_NAME: {\n",
    "            'kind': 'v3ioStream',\n",
    "            'url': INPUT_STREAM_URL,\n",
    "            'username': V3IO_USERNAME,\n",
    "            'password': V3IO_PASSWORD,\n",
    "            'attributes': {\n",
    "                'partitions': INPUT_STREAM_PARTITIONS,\n",
    "                'seekTo': INPUT_STREAM_SEEK_TO,\n",
    "                }\n",
    "            }\n",
    "    }\n",
    "}"
   ]
  },
  {
   "cell_type": "markdown",
   "metadata": {},
   "source": [
    "### Define build commands for our Nuclio-function"
   ]
  },
  {
   "cell_type": "code",
   "execution_count": 7,
   "metadata": {},
   "outputs": [],
   "source": [
    "NUCLIO_CMD = ['pip install requests']"
   ]
  },
  {
   "cell_type": "markdown",
   "metadata": {},
   "source": [
    "### Define the Nuclio-function code"
   ]
  },
  {
   "cell_type": "code",
   "execution_count": 8,
   "metadata": {},
   "outputs": [],
   "source": [
    "NUCLIO_CODE = '''\n",
    "import requests\n",
    "import json\n",
    "import base64\n",
    "import os\n",
    "\n",
    "\n",
    "def init_context(context):\n",
    "    # env -> config\n",
    "    setattr(context.user_data, 'config', {\n",
    "        'v3io_api': os.environ['V3IO_API'],\n",
    "        'v3io_username': os.environ['V3IO_USERNAME'],\n",
    "        'container_name': os.environ['CONTAINER_NAME'],\n",
    "        'table_name': os.environ['TABLE_NAME'],\n",
    "        'input_stream_search_key': os.environ['INPUT_STREAM_SEARCH_KEY'],\n",
    "        'output_stream_name': os.environ['OUTPUT_STREAM_NAME'],\n",
    "        'v3io_access_key': os.environ['V3IO_ACCESS_KEY'],\n",
    "    })\n",
    "\n",
    "\n",
    "def handler(context, event):\n",
    "    config = context.user_data.config\n",
    "    msg = json.loads(event.body)\n",
    "    context.logger.info(f'Incoming message: {msg}')\n",
    "    enrichment_data = _search_kv(msg, config)\n",
    "    context.logger.info(f'Enrichment data: {enrichment_data}')\n",
    "    msg['enrichment'] = enrichment_data\n",
    "    _put_records([msg], config)\n",
    "    context.logger.debug(f'Output message: {msg}')\n",
    "\n",
    "\n",
    "def _get_url(v3io_api, container_name, collection_path):\n",
    "    return f'http://{v3io_api}/{container_name}/{collection_path}'\n",
    "\n",
    "\n",
    "def _get_headers(v3io_function, v3io_access_key):\n",
    "    return {\n",
    "        'Content-Type': \"application/json\",\n",
    "        'X-v3io-function': v3io_function,\n",
    "        'cache-control': \"no-cache\",\n",
    "        'x-v3io-session-key': v3io_access_key\n",
    "    }\n",
    "\n",
    "\n",
    "def _search_kv(msg, config):\n",
    "    v3io_api = config['v3io_api']\n",
    "    v3io_username = config['v3io_username']\n",
    "    container_name = config['container_name']\n",
    "    search_value = msg[config['input_stream_search_key']]\n",
    "    table_path_and_key = f\"{v3io_username}/examples/stream-enrich/{config['table_name']}/{search_value}\"\n",
    "    v3io_access_key = config['v3io_access_key']\n",
    "\n",
    "    url = _get_url(v3io_api, container_name, table_path_and_key)\n",
    "    headers = _get_headers(\"GetItem\", v3io_access_key)\n",
    "    resp = requests.request(\"POST\", url, json={}, headers=headers)\n",
    "\n",
    "    json_response = json.loads(resp.text)\n",
    "\n",
    "    response = {}\n",
    "    if 'Item' in json_response:\n",
    "        response = json_response['Item']\n",
    "\n",
    "    return response\n",
    "\n",
    "\n",
    "def _put_records(items, config):\n",
    "    v3io_api = config['v3io_api']\n",
    "    v3io_username = config['v3io_username']\n",
    "    container_name = config['container_name']\n",
    "    output_stream_path = f\"{v3io_username}/examples/stream-enrich/{config['output_stream_name']}/\"\n",
    "    v3io_access_key = config['v3io_access_key']\n",
    "\n",
    "    records = _items_to_records(items)\n",
    "    url = _get_url(v3io_api, container_name, output_stream_path)\n",
    "    headers = _get_headers(\"PutRecords\", v3io_access_key)\n",
    "\n",
    "    return requests.request(\"PUT\", url, json=records, headers=headers)\n",
    "\n",
    "\n",
    "def _item_to_b64(item):\n",
    "    item_string = json.dumps(item)\n",
    "    return base64.b64encode(item_string.encode('utf-8')).decode('utf-8')\n",
    "\n",
    "\n",
    "def _items_to_records(items):\n",
    "    return {'Records': [{'Data': _item_to_b64(item)} for item in items]}\n",
    "'''"
   ]
  },
  {
   "cell_type": "markdown",
   "metadata": {},
   "source": [
    "### Deploy the code"
   ]
  },
  {
   "cell_type": "code",
   "execution_count": null,
   "metadata": {},
   "outputs": [],
   "source": [
    "NUCLIO_SPEC = nuclio.ConfigSpec(env=NUCLIO_ENV, config=NUCLIO_TRIGGER_CONF, cmd=NUCLIO_CMD)\n",
    "addr = nuclio.deploy_code(code=NUCLIO_CODE,name=NUCLIO_FUNC_NAME,project=NUCLIO_PROJ_NAME,verbose=True, spec=NUCLIO_SPEC)\n",
    "#print(addr)"
   ]
  },
  {
   "cell_type": "markdown",
   "metadata": {},
   "source": [
    "### Invoke the function by sending event-message to the input stream"
   ]
  },
  {
   "cell_type": "markdown",
   "metadata": {},
   "source": [
    "In the example below we are sending an event with the client name, email and the car ID <br>\n",
    "Then, the event will be enriched with the data that resides in the Cars table and eventually will be written to Stream 2 along with the enriched data"
   ]
  },
  {
   "cell_type": "code",
   "execution_count": 10,
   "metadata": {},
   "outputs": [
    {
     "name": "stdout",
     "output_type": "stream",
     "text": [
      "<Response [200]>\n"
     ]
    }
   ],
   "source": [
    "import base64\n",
    "\n",
    "url = f'http://{V3IO_API}/{CONTAINER_NAME}/{V3IO_USERNAME}/examples/stream-enrich/{INPUT_STREAM_NAME}/'\n",
    "\n",
    "msg = '{\"ClientName\": \"John Smith\", \"Email\": \"john.smith@myemailprovider.com\", \"CarID\": \"0\"}'\n",
    "msg_b64 = base64.b64encode(msg.encode('utf-8')).decode('utf-8')\n",
    "\n",
    "payload = f'{{\"Records\": [{{\"Data\": \"{msg_b64}\"}}]}}'\n",
    "\n",
    "headers = {\n",
    "    'Content-Type': \"application/json\",\n",
    "    'X-v3io-function': \"PutRecords\",\n",
    "    'x-v3io-session-key': V3IO_ACCESS_KEY,\n",
    "    'cache-control': \"no-cache\",\n",
    "}\n",
    "\n",
    "response = requests.request(\"PUT\", url, data=payload, headers=headers)\n",
    "\n",
    "print(response)"
   ]
  },
  {
   "cell_type": "markdown",
   "metadata": {},
   "source": [
    "### Check the enriched data in the output stream"
   ]
  },
  {
   "cell_type": "markdown",
   "metadata": {},
   "source": [
    "Read from Stream2 <br>\n",
    "Expected result is the enriched stream with all the rest of the data coming from the the cars table"
   ]
  },
  {
   "cell_type": "code",
   "execution_count": 11,
   "metadata": {},
   "outputs": [
    {
     "name": "stdout",
     "output_type": "stream",
     "text": [
      "{\"ClientName\": \"John Smith\", \"Email\": \"john.smith@myemailprovider.com\", \"CarID\": \"0\", \"enrichment\": {\"CarID\": {\"N\": \"0\"}, \"Color\": {\"S\": \"Gray\"}, \"Vendor\": {\"S\": \"Mitsubishi\"}, \"Mfg_Year\": {\"N\": \"2017\"}, \"State\": {\"S\": \"MI\"}}}\n"
     ]
    }
   ],
   "source": [
    "import json\n",
    "\n",
    "payload = '{\"Location\": \"AQAAAAAAAAAAAAAAAAAAAA==\", \"Limit\": 10}'\n",
    "headers = {\n",
    "    'Content-Type': \"application/json\",\n",
    "    'X-v3io-function': \"GetRecords\",\n",
    "    'x-v3io-session-key': V3IO_ACCESS_KEY,\n",
    "    'cache-control': \"no-cache\",\n",
    "}\n",
    "\n",
    "for shard_id in INPUT_STREAM_PARTITIONS:\n",
    "    url = f'http://{V3IO_API}/{CONTAINER_NAME}/{V3IO_USERNAME}/examples/stream-enrich/{OUTPUT_STREAM_NAME}/{shard_id}'\n",
    "    response = requests.request(\"PUT\", url, data=payload, headers=headers)\n",
    "\n",
    "    if response.status_code == 200:\n",
    "        data = json.loads(response.text)[\"Records\"][0][\"Data\"]\n",
    "        print(base64.b64decode(data).decode())"
   ]
  },
  {
   "cell_type": "markdown",
   "metadata": {},
   "source": [
    "### Delete the created data"
   ]
  },
  {
   "cell_type": "code",
   "execution_count": 12,
   "metadata": {},
   "outputs": [],
   "source": [
    "!rm -r /v3io/$V3IO_HOME/examples/stream-enrich"
   ]
  }
 ],
 "metadata": {
  "kernelspec": {
   "display_name": "Python 3",
   "language": "python",
   "name": "python3"
  },
  "language_info": {
   "codemirror_mode": {
    "name": "ipython",
    "version": 3
   },
   "file_extension": ".py",
   "mimetype": "text/x-python",
   "name": "python",
   "nbconvert_exporter": "python",
   "pygments_lexer": "ipython3",
   "version": "3.6.8"
  }
 },
 "nbformat": 4,
 "nbformat_minor": 2
}
