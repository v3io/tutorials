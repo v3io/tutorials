{
 "cells": [
  {
   "cell_type": "markdown",
   "metadata": {},
   "source": [
    "# Creating A Pipeline Using MLRUN"
   ]
  },
  {
   "cell_type": "markdown",
   "metadata": {},
   "source": [
    "Pipeline is being used to autoamte data science workflow. users can define the various steps in the pipeline including <br>\n",
    "as well as the relationship between those steps. a typical pipeline comprises of data collection, training / hyperparameter training, selecting the best fit model, deploy in a test env, run tests and then deploy in a production system <br>\n",
    "In this notebook we'll deomonstrate how to create a simple pipeline that comprises of two steps: \"training\" and \"validation\" <br> once the pipeline has been created users can go to the main iguazio dashboard and look for \"Pipeline\" at the top left menu items. In the pipeline view you should be able to see the new pipeline called \"mlrun demo 1\" along with historical experiments should they exist\n"
   ]
  },
  {
   "cell_type": "code",
   "execution_count": 1,
   "metadata": {},
   "outputs": [
    {
     "name": "stdout",
     "output_type": "stream",
     "text": [
      "env: MLRUN_PACKAGE_PATH=git+https://github.com/mlrun/mlrun.git\n",
      "env: MLRUN_META_DBPATH=/User/experiment-tracking\n"
     ]
    }
   ],
   "source": [
    "%env MLRUN_PACKAGE_PATH=git+https://github.com/mlrun/mlrun.git\n",
    "%env MLRUN_META_DBPATH=/User/experiment-tracking\n",
    "import kfp\n",
    "from kfp import dsl\n",
    "from mlrun.platforms import mount_v3io\n",
    "from mlrun.builder import build_image\n",
    "from mlrun import mlrun_op, get_run_db"
   ]
  },
  {
   "cell_type": "markdown",
   "metadata": {},
   "source": [
    "<b> Test/Debug the code locally, verify its working <b>"
   ]
  },
  {
   "cell_type": "code",
   "execution_count": 2,
   "metadata": {},
   "outputs": [
    {
     "name": "stdout",
     "output_type": "stream",
     "text": [
      "[mlrun] 2019-09-11 21:13:16,104 starting run None uid=c2dc5fe6d4904729a9f662c64959cbd2\n",
      "Run: train (uid=c2dc5fe6d4904729a9f662c64959cbd2)\n",
      "Params: p1=5, p2=a-string\n",
      "accesskey = 456\n",
      "file\n",
      "b\"i'm a local input file\"\n",
      "\n",
      "\n",
      "[mlrun] 2019-09-11 21:13:29,923 run executed, status=created\n"
     ]
    }
   ],
   "source": [
    "!python -m mlrun run -p p1=5 -s file=secrets.txt --out-path /User/mlrun/ training.py"
   ]
  },
  {
   "cell_type": "markdown",
   "metadata": {},
   "source": [
    "## Build & Run a KubeFlow Pipeline \n",
    "\n",
    "This example is using iguazio shared FS (v3io), the `/User` dir is the \"Home\" for the user and the Jupyter notebook<br>\n",
    "the code is mounted into the pipeline containers (no need to rebuild containers when the code changes and the runtime have access to the user local files)\n",
    "\n",
    "MLRUN has a DB specified in the `db_path` argument (this example is using files to store runs and artifacts)<br>\n",
    "the result artifacts are versioned and stored under the specified location, each workflow have a unique artifacts directory (`/<path>/{{workflow.uid}}/`)\n",
    "\n",
    "Artifact and DB paths can use file paths or URLs for supported datastores (prefixed with s3://, v3io://, ..), <br>\n",
    "Notes: file store artifacts cannot be viewed by KFP (use object URLs), URL based stores may requieres secrets passing "
   ]
  },
  {
   "cell_type": "code",
   "execution_count": 3,
   "metadata": {},
   "outputs": [],
   "source": [
    "this_path = '/User/experiment-tracking'\n",
    "db_path = this_path\n",
    "#artifacts_path = this_path + '/data/{{workflow.uid}}/'\n",
    "artifacts_path = 'v3io:///bigdata/mlrun/{{workflow.uid}}/'\n",
    "image_name = 'mlrun/mypipe:latest'"
   ]
  },
  {
   "cell_type": "code",
   "execution_count": 4,
   "metadata": {},
   "outputs": [
    {
     "data": {
      "text/plain": [
       "'docker-registry.default-tenant.app.vpxomsanigin.iguazio-cd2.com:80/mlrun/mypipe:latest'"
      ]
     },
     "execution_count": 4,
     "metadata": {},
     "output_type": "execute_result"
    }
   ],
   "source": [
    "# set the docker registry to the local registry\n",
    "from os import environ\n",
    "img = 'docker-registry.{}:80/{}'.format(environ.get('IGZ_NAMESPACE_DOMAIN'), image_name)\n",
    "img"
   ]
  },
  {
   "cell_type": "markdown",
   "metadata": {},
   "source": [
    "# Build a container image"
   ]
  },
  {
   "cell_type": "markdown",
   "metadata": {},
   "source": [
    "Before running a pipeline job we need to either create an image with the relevant code and libraries we are using or use an existing one. Here is an example of creating an image using MLrun. We would use this image as a base image where we can run the code on top of it"
   ]
  },
  {
   "cell_type": "code",
   "execution_count": 5,
   "metadata": {},
   "outputs": [
    {
     "name": "stdout",
     "output_type": "stream",
     "text": [
      "FROM python:3.6\n",
      "WORKDIR /run\n",
      "RUN pip install git+https://github.com/mlrun/mlrun.git\n",
      "ENV PYTHONPATH /run\n",
      "[mlrun] 2019-09-11 21:13:37,533 using in-cluster config.\n",
      "[mlrun] 2019-09-11 21:13:37,551 Pod mlrun-build-tjghq created\n",
      "..\n",
      "\u001b[36mINFO\u001b[0m[0000] Downloading base image python:3.6            \n",
      "2019/09/11 21:13:39 No matching credentials were found, falling back on anonymous\n",
      "\u001b[36mINFO\u001b[0m[0000] Unpacking rootfs as cmd RUN pip install git+https://github.com/mlrun/mlrun.git requires it. \n",
      "\u001b[36mINFO\u001b[0m[0013] Taking snapshot of full filesystem...        \n",
      "\u001b[36mINFO\u001b[0m[0017] Skipping paths under /kaniko, as it is a whitelisted directory \n",
      "\u001b[36mINFO\u001b[0m[0017] Skipping paths under /empty, as it is a whitelisted directory \n",
      "\u001b[36mINFO\u001b[0m[0017] Skipping paths under /var/run, as it is a whitelisted directory \n",
      "\u001b[36mINFO\u001b[0m[0017] Skipping paths under /proc, as it is a whitelisted directory \n",
      "\u001b[36mINFO\u001b[0m[0017] Skipping paths under /sys, as it is a whitelisted directory \n",
      "\u001b[36mINFO\u001b[0m[0017] Skipping paths under /dev, as it is a whitelisted directory \n",
      "\u001b[36mINFO\u001b[0m[0022] WORKDIR /run                                 \n",
      "\u001b[36mINFO\u001b[0m[0022] cmd: workdir                                 \n",
      "\u001b[36mINFO\u001b[0m[0022] Changed working directory to /run            \n",
      "\u001b[36mINFO\u001b[0m[0022] Taking snapshot of full filesystem...        \n",
      "\u001b[36mINFO\u001b[0m[0025] Skipping paths under /kaniko, as it is a whitelisted directory \n",
      "\u001b[36mINFO\u001b[0m[0025] Skipping paths under /empty, as it is a whitelisted directory \n",
      "\u001b[36mINFO\u001b[0m[0025] Skipping paths under /var/run, as it is a whitelisted directory \n",
      "\u001b[36mINFO\u001b[0m[0025] Skipping paths under /proc, as it is a whitelisted directory \n",
      "\u001b[36mINFO\u001b[0m[0025] Skipping paths under /sys, as it is a whitelisted directory \n",
      "\u001b[36mINFO\u001b[0m[0025] Skipping paths under /dev, as it is a whitelisted directory \n",
      "\u001b[36mINFO\u001b[0m[0028] No files were changed, appending empty layer to config. No layer added to image. \n",
      "\u001b[36mINFO\u001b[0m[0028] RUN pip install git+https://github.com/mlrun/mlrun.git \n",
      "\u001b[36mINFO\u001b[0m[0028] cmd: /bin/sh                                 \n",
      "\u001b[36mINFO\u001b[0m[0028] args: [-c pip install git+https://github.com/mlrun/mlrun.git] \n",
      "Collecting git+https://github.com/mlrun/mlrun.git\n",
      "  Cloning https://github.com/mlrun/mlrun.git to /tmp/pip-req-build-4n6svc4s\n",
      "  Running command git clone -q https://github.com/mlrun/mlrun.git /tmp/pip-req-build-4n6svc4s\n",
      "Collecting requests>=2.20.1 (from mlrun==0.2.0)\n",
      "  Downloading https://files.pythonhosted.org/packages/51/bd/23c926cd341ea6b7dd0b2a00aba99ae0f828be89d72b2190f27c11d4b7fb/requests-2.22.0-py2.py3-none-any.whl (57kB)\n",
      "Collecting boto3>=1.9 (from mlrun==0.2.0)\n",
      "  Downloading https://files.pythonhosted.org/packages/47/fc/acaea05658fa525c7df3380ae9c31c40157b30b5ad06f55249f02261f129/boto3-1.9.227-py2.py3-none-any.whl (128kB)\n",
      "Collecting pyyaml>=5.1.0 (from mlrun==0.2.0)\n",
      "  Downloading https://files.pythonhosted.org/packages/e3/e8/b3212641ee2718d556df0f23f78de8303f068fe29cdaa7a91018849582fe/PyYAML-5.1.2.tar.gz (265kB)\n",
      "Collecting click>=7.0 (from mlrun==0.2.0)\n",
      "  Downloading https://files.pythonhosted.org/packages/fa/37/45185cb5abbc30d7257104c434fe0b07e5a195a6847506c074527aa599ec/Click-7.0-py2.py3-none-any.whl (81kB)\n",
      "Collecting pandas>=0.23.0 (from mlrun==0.2.0)\n",
      "  Downloading https://files.pythonhosted.org/packages/73/9b/52e228545d14f14bb2a1622e225f38463c8726645165e1cb7dde95bfe6d4/pandas-0.25.1-cp36-cp36m-manylinux1_x86_64.whl (10.5MB)\n",
      "Collecting kubernetes>=9.0.0 (from mlrun==0.2.0)\n",
      "  Downloading https://files.pythonhosted.org/packages/6e/fc/2cab119f679648b348b8940de0dd744a1f0ee99c690aa2ef6072f050816c/kubernetes-10.0.1-py2.py3-none-any.whl (1.5MB)\n",
      "Collecting aiohttp>=3.5.0 (from mlrun==0.2.0)\n",
      "  Downloading https://files.pythonhosted.org/packages/20/3e/bde50b8d1f5e7de24ea9119fab9ef33ea333a72bfcdd00345f6ba7c5cea6/aiohttp-3.6.0-cp36-cp36m-manylinux1_x86_64.whl (1.2MB)\n",
      "Collecting nest-asyncio>=1.0.0 (from mlrun==0.2.0)\n",
      "  Downloading https://files.pythonhosted.org/packages/81/f3/e59eb5fa5c41c7e6ae9741ed18534dbfae15ad29040a3927396678934b28/nest_asyncio-1.2.0-py3-none-any.whl\n",
      "Collecting GitPython>=2.1.0 (from mlrun==0.2.0)\n",
      "  Downloading https://files.pythonhosted.org/packages/8e/c7/70bd352e8a561a9b6d1cde9aa313b9d7c871b0c94c3821f44c01f3187e1d/GitPython-3.0.2-py3-none-any.whl (453kB)\n",
      "Collecting nuclio-sdk>=0.0.3 (from mlrun==0.2.0)\n",
      "  Downloading https://files.pythonhosted.org/packages/82/23/ce0d7bba26365c7e94cae1ccfa41323d43490c622fa8f1207aabfc4e5a3d/nuclio_sdk-0.0.5-py2.py3-none-any.whl\n",
      "Collecting urllib3!=1.25.0,!=1.25.1,<1.26,>=1.21.1 (from requests>=2.20.1->mlrun==0.2.0)\n",
      "  Downloading https://files.pythonhosted.org/packages/e6/60/247f23a7121ae632d62811ba7f273d0e58972d75e58a94d329d51550a47d/urllib3-1.25.3-py2.py3-none-any.whl (150kB)\n",
      "Collecting idna<2.9,>=2.5 (from requests>=2.20.1->mlrun==0.2.0)\n",
      "  Downloading https://files.pythonhosted.org/packages/14/2c/cd551d81dbe15200be1cf41cd03869a46fe7226e7450af7a6545bfc474c9/idna-2.8-py2.py3-none-any.whl (58kB)\n",
      "Collecting certifi>=2017.4.17 (from requests>=2.20.1->mlrun==0.2.0)\n",
      "  Downloading https://files.pythonhosted.org/packages/18/b0/8146a4f8dd402f60744fa380bc73ca47303cccf8b9190fd16a827281eac2/certifi-2019.9.11-py2.py3-none-any.whl (154kB)\n",
      "Collecting chardet<3.1.0,>=3.0.2 (from requests>=2.20.1->mlrun==0.2.0)\n",
      "  Downloading https://files.pythonhosted.org/packages/bc/a9/01ffebfb562e4274b6487b4bb1ddec7ca55ec7510b22e4c51f14098443b8/chardet-3.0.4-py2.py3-none-any.whl (133kB)\n",
      "Collecting botocore<1.13.0,>=1.12.227 (from boto3>=1.9->mlrun==0.2.0)\n",
      "  Downloading https://files.pythonhosted.org/packages/1f/d0/6648ae9564c9be39dd0a8177668ab843fc7fd640e2288d14cf58a8e23759/botocore-1.12.227-py2.py3-none-any.whl (5.7MB)\n",
      "Collecting s3transfer<0.3.0,>=0.2.0 (from boto3>=1.9->mlrun==0.2.0)\n",
      "  Downloading https://files.pythonhosted.org/packages/16/8a/1fc3dba0c4923c2a76e1ff0d52b305c44606da63f718d14d3231e21c51b0/s3transfer-0.2.1-py2.py3-none-any.whl (70kB)\n",
      "Collecting jmespath<1.0.0,>=0.7.1 (from boto3>=1.9->mlrun==0.2.0)\n",
      "  Downloading https://files.pythonhosted.org/packages/83/94/7179c3832a6d45b266ddb2aac329e101367fbdb11f425f13771d27f225bb/jmespath-0.9.4-py2.py3-none-any.whl\n",
      "Collecting python-dateutil>=2.6.1 (from pandas>=0.23.0->mlrun==0.2.0)\n",
      "  Downloading https://files.pythonhosted.org/packages/41/17/c62faccbfbd163c7f57f3844689e3a78bae1f403648a6afb1d0866d87fbb/python_dateutil-2.8.0-py2.py3-none-any.whl (226kB)\n",
      "Collecting numpy>=1.13.3 (from pandas>=0.23.0->mlrun==0.2.0)\n",
      "  Downloading https://files.pythonhosted.org/packages/e5/e6/c3fdc53aed9fa19d6ff3abf97dfad768ae3afce1b7431f7500000816bda5/numpy-1.17.2-cp36-cp36m-manylinux1_x86_64.whl (20.4MB)\n",
      "Collecting pytz>=2017.2 (from pandas>=0.23.0->mlrun==0.2.0)\n",
      "  Downloading https://files.pythonhosted.org/packages/87/76/46d697698a143e05f77bec5a526bf4e56a0be61d63425b68f4ba553b51f2/pytz-2019.2-py2.py3-none-any.whl (508kB)\n",
      "Collecting six>=1.9.0 (from kubernetes>=9.0.0->mlrun==0.2.0)\n",
      "  Downloading https://files.pythonhosted.org/packages/73/fb/00a976f728d0d1fecfe898238ce23f502a721c0ac0ecfedb80e0d88c64e9/six-1.12.0-py2.py3-none-any.whl\n",
      "Requirement already satisfied: setuptools>=21.0.0 in /usr/local/lib/python3.6/site-packages (from kubernetes>=9.0.0->mlrun==0.2.0) (41.2.0)\n",
      "Collecting requests-oauthlib (from kubernetes>=9.0.0->mlrun==0.2.0)\n",
      "  Downloading https://files.pythonhosted.org/packages/c2/e2/9fd03d55ffb70fe51f587f20bcf407a6927eb121de86928b34d162f0b1ac/requests_oauthlib-1.2.0-py2.py3-none-any.whl\n",
      "Collecting google-auth>=1.0.1 (from kubernetes>=9.0.0->mlrun==0.2.0)\n",
      "  Downloading https://files.pythonhosted.org/packages/c5/9b/ed0516cc1f7609fb0217e3057ff4f0f9f3e3ce79a369c6af4a6c5ca25664/google_auth-1.6.3-py2.py3-none-any.whl (73kB)\n",
      "Collecting websocket-client!=0.40.0,!=0.41.*,!=0.42.*,>=0.32.0 (from kubernetes>=9.0.0->mlrun==0.2.0)\n",
      "  Downloading https://files.pythonhosted.org/packages/29/19/44753eab1fdb50770ac69605527e8859468f3c0fd7dc5a76dd9c4dbd7906/websocket_client-0.56.0-py2.py3-none-any.whl (200kB)\n",
      "Collecting idna-ssl>=1.0; python_version < \"3.7\" (from aiohttp>=3.5.0->mlrun==0.2.0)\n",
      "  Downloading https://files.pythonhosted.org/packages/46/03/07c4894aae38b0de52b52586b24bf189bb83e4ddabfe2e2c8f2419eec6f4/idna-ssl-1.1.0.tar.gz\n",
      "Collecting multidict<5.0,>=4.0 (from aiohttp>=3.5.0->mlrun==0.2.0)\n",
      "  Downloading https://files.pythonhosted.org/packages/71/cc/ceb5b8c76e7a23212b9e0353053cc35a9d86c763d852a76d9b941fe81fbc/multidict-4.5.2-cp36-cp36m-manylinux1_x86_64.whl (309kB)\n",
      "Collecting async-timeout<4.0,>=3.0 (from aiohttp>=3.5.0->mlrun==0.2.0)\n",
      "  Downloading https://files.pythonhosted.org/packages/e1/1e/5a4441be21b0726c4464f3f23c8b19628372f606755a9d2e46c187e65ec4/async_timeout-3.0.1-py3-none-any.whl\n",
      "Collecting yarl<2.0,>=1.0 (from aiohttp>=3.5.0->mlrun==0.2.0)\n",
      "  Downloading https://files.pythonhosted.org/packages/fa/c0/9a73968a9f4e4dac8dffb0ba35f932dd7798fe97901f4942c2d38667862c/yarl-1.3.0-cp36-cp36m-manylinux1_x86_64.whl (251kB)\n",
      "Collecting typing-extensions>=3.6.5; python_version < \"3.7\" (from aiohttp>=3.5.0->mlrun==0.2.0)\n",
      "  Downloading https://files.pythonhosted.org/packages/27/aa/bd1442cfb0224da1b671ab334d3b0a4302e4161ea916e28904ff9618d471/typing_extensions-3.7.4-py3-none-any.whl\n",
      "Collecting attrs>=17.3.0 (from aiohttp>=3.5.0->mlrun==0.2.0)\n",
      "  Downloading https://files.pythonhosted.org/packages/23/96/d828354fa2dbdf216eaa7b7de0db692f12c234f7ef888cc14980ef40d1d2/attrs-19.1.0-py2.py3-none-any.whl\n",
      "Collecting gitdb2>=2.0.0 (from GitPython>=2.1.0->mlrun==0.2.0)\n",
      "  Downloading https://files.pythonhosted.org/packages/da/30/a407568aa8d8f25db817cf50121a958722f3fc5f87e3a6fba1f40c0633e3/gitdb2-2.0.5-py2.py3-none-any.whl (62kB)\n",
      "Collecting docutils<0.16,>=0.10 (from botocore<1.13.0,>=1.12.227->boto3>=1.9->mlrun==0.2.0)\n",
      "  Downloading https://files.pythonhosted.org/packages/22/cd/a6aa959dca619918ccb55023b4cb151949c64d4d5d55b3f4ffd7eee0c6e8/docutils-0.15.2-py3-none-any.whl (547kB)\n",
      "Collecting oauthlib>=3.0.0 (from requests-oauthlib->kubernetes>=9.0.0->mlrun==0.2.0)\n",
      "  Downloading https://files.pythonhosted.org/packages/05/57/ce2e7a8fa7c0afb54a0581b14a65b56e62b5759dbc98e80627142b8a3704/oauthlib-3.1.0-py2.py3-none-any.whl (147kB)\n",
      "Collecting cachetools>=2.0.0 (from google-auth>=1.0.1->kubernetes>=9.0.0->mlrun==0.2.0)\n",
      "  Downloading https://files.pythonhosted.org/packages/2f/a6/30b0a0bef12283e83e58c1d6e7b5aabc7acfc4110df81a4471655d33e704/cachetools-3.1.1-py2.py3-none-any.whl\n",
      "Collecting rsa>=3.1.4 (from google-auth>=1.0.1->kubernetes>=9.0.0->mlrun==0.2.0)\n",
      "  Downloading https://files.pythonhosted.org/packages/02/e5/38518af393f7c214357079ce67a317307936896e961e35450b70fad2a9cf/rsa-4.0-py2.py3-none-any.whl\n",
      "Collecting pyasn1-modules>=0.2.1 (from google-auth>=1.0.1->kubernetes>=9.0.0->mlrun==0.2.0)\n",
      "  Downloading https://files.pythonhosted.org/packages/be/70/e5ea8afd6d08a4b99ebfc77bd1845248d56cfcf43d11f9dc324b9580a35c/pyasn1_modules-0.2.6-py2.py3-none-any.whl (95kB)\n",
      "Collecting smmap2>=2.0.0 (from gitdb2>=2.0.0->GitPython>=2.1.0->mlrun==0.2.0)\n",
      "  Downloading https://files.pythonhosted.org/packages/55/d2/866d45e3a121ee15a1dc013824d58072fd5c7799c9c34d01378eb262ca8f/smmap2-2.0.5-py2.py3-none-any.whl\n",
      "Collecting pyasn1>=0.1.3 (from rsa>=3.1.4->google-auth>=1.0.1->kubernetes>=9.0.0->mlrun==0.2.0)\n",
      "  Downloading https://files.pythonhosted.org/packages/a1/71/8f0d444e3a74e5640a3d5d967c1c6b015da9c655f35b2d308a55d907a517/pyasn1-0.4.7-py2.py3-none-any.whl (76kB)\n",
      "Building wheels for collected packages: mlrun, pyyaml, idna-ssl\n",
      "  Building wheel for mlrun (setup.py): started\n",
      "  Building wheel for mlrun (setup.py): finished with status 'done'\n",
      "  Created wheel for mlrun: filename=mlrun-0.2.0-cp36-none-any.whl size=67177 sha256=2120491da1f61922650330ef1b6c8def757a88a2afa57c024137bd6eb330926b\n",
      "  Stored in directory: /tmp/pip-ephem-wheel-cache-15gkgvnd/wheels/05/17/d5/1b1c5e0d1edc2705aa1b5f6bfa48ce5de2b401cd99e8f98056\n",
      "  Building wheel for pyyaml (setup.py): started\n",
      "  Building wheel for pyyaml (setup.py): finished with status 'done'\n",
      "  Created wheel for pyyaml: filename=PyYAML-5.1.2-cp36-cp36m-linux_x86_64.whl size=477655 sha256=cd4ce0651e56e9937ef0dabead3a9304e057222a6057876bb00473594ba1b753\n",
      "  Stored in directory: /root/.cache/pip/wheels/d9/45/dd/65f0b38450c47cf7e5312883deb97d065e030c5cca0a365030\n",
      "  Building wheel for idna-ssl (setup.py): started\n",
      "  Building wheel for idna-ssl (setup.py): finished with status 'done'\n",
      "  Created wheel for idna-ssl: filename=idna_ssl-1.1.0-cp36-none-any.whl size=3163 sha256=da1be15cf18b94b4df4e1283f50c0004c5a39ac53ca47cb14d474d3c709abfc9\n",
      "  Stored in directory: /root/.cache/pip/wheels/d3/00/b3/32d613e19e08a739751dd6bf998cfed277728f8b2127ad4eb7\n",
      "Successfully built mlrun pyyaml idna-ssl\n",
      "Installing collected packages: urllib3, idna, certifi, chardet, requests, jmespath, six, python-dateutil, docutils, botocore, s3transfer, boto3, pyyaml, click, numpy, pytz, pandas, oauthlib, requests-oauthlib, cachetools, pyasn1, rsa, pyasn1-modules, google-auth, websocket-client, kubernetes, idna-ssl, multidict, async-timeout, yarl, typing-extensions, attrs, aiohttp, nest-asyncio, smmap2, gitdb2, GitPython, nuclio-sdk, mlrun\n",
      "Successfully installed GitPython-3.0.2 aiohttp-3.6.0 async-timeout-3.0.1 attrs-19.1.0 boto3-1.9.227 botocore-1.12.227 cachetools-3.1.1 certifi-2019.9.11 chardet-3.0.4 click-7.0 docutils-0.15.2 gitdb2-2.0.5 google-auth-1.6.3 idna-2.8 idna-ssl-1.1.0 jmespath-0.9.4 kubernetes-10.0.1 mlrun-0.2.0 multidict-4.5.2 nest-asyncio-1.2.0 nuclio-sdk-0.0.5 numpy-1.17.2 oauthlib-3.1.0 pandas-0.25.1 pyasn1-0.4.7 pyasn1-modules-0.2.6 python-dateutil-2.8.0 pytz-2019.2 pyyaml-5.1.2 requests-2.22.0 requests-oauthlib-1.2.0 rsa-4.0 s3transfer-0.2.1 six-1.12.0 smmap2-2.0.5 typing-extensions-3.7.4 urllib3-1.25.3 websocket-client-0.56.0 yarl-1.3.0\n",
      "\u001b[36mINFO\u001b[0m[0050] Taking snapshot of full filesystem...        \n",
      "\u001b[36mINFO\u001b[0m[0051] Skipping paths under /kaniko, as it is a whitelisted directory \n",
      "\u001b[36mINFO\u001b[0m[0051] Skipping paths under /empty, as it is a whitelisted directory \n",
      "\u001b[36mINFO\u001b[0m[0051] Skipping paths under /var/run, as it is a whitelisted directory \n",
      "\u001b[36mINFO\u001b[0m[0051] Skipping paths under /proc, as it is a whitelisted directory \n",
      "\u001b[36mINFO\u001b[0m[0051] Skipping paths under /sys, as it is a whitelisted directory \n",
      "\u001b[36mINFO\u001b[0m[0051] Skipping paths under /dev, as it is a whitelisted directory \n",
      "\u001b[36mINFO\u001b[0m[0061] ENV PYTHONPATH /run                          \n",
      "2019/09/11 21:14:40 existing blob: sha256:b3fbd02886dc55afe0ba03ffa3fa9cf8d898763899dce9c80056d9873b9a9aa9\n",
      "2019/09/11 21:14:40 existing blob: sha256:ee6f0cf7f102c81935a2f545bf4f5e3625e346233f02f85f2b7029580285dd2c\n",
      "2019/09/11 21:14:40 existing blob: sha256:2ea1f7804402db2da64e84a26bd591f41667ad69cd7f2a2c6106d9bb04dde260\n",
      "2019/09/11 21:14:40 existing blob: sha256:4ae16bd4778367b46064f39554128dd2fda2803a5747fddeff74059f353391c9\n",
      "2019/09/11 21:14:40 existing blob: sha256:96465440c20877524189ae75d361dd29e5d0df330a8dac9427f972b429fe0159\n",
      "2019/09/11 21:14:40 existing blob: sha256:720584ff5531e87381a14bac5f9f17e2a3d64c585e16255555c6abd7d8695322\n",
      "2019/09/11 21:14:40 existing blob: sha256:bba8b8764dd601ef50f7b02148105fbe7611e0cd9ed2134cf5daaab9216466a8\n",
      "2019/09/11 21:14:40 existing blob: sha256:842d1eca47a0d1a122d681d49cc75e842312d77b1fbb6cce898372259f2efba1\n",
      "2019/09/11 21:14:40 existing blob: sha256:bbab4ec87ac4f89eaabdf68dddbd1dd930e3ad43bded38d761b89abf9389a893\n",
      "2019/09/11 21:14:41 pushed blob sha256:72ee34ee9dc556a4d0c3ad6085bdd3d1cb037f78fd394528a90a41f9778ff7dc\n",
      "2019/09/11 21:14:48 pushed blob sha256:5e01e3e15f58921ac76e04d2e7c386b6daa83fd919c4bbc7b57570a2017167bf\n",
      "2019/09/11 21:14:48 10.233.20.64:5000/mlrun/mypipe:latest: digest: sha256:88a8219c345a9cbec951e360f2895761310cb6d7bc34c5804a4170c927061fa6 size: 1907\n"
     ]
    }
   ],
   "source": [
    "# build an image with MLRUN (dev branch vs master), can add other packages to it \n",
    "# since registry secret was not specified it will push to the local cluster registry \n",
    "x = build_image(image_name, \n",
    "                  base_image='python:3.6')"
   ]
  },
  {
   "cell_type": "code",
   "execution_count": 6,
   "metadata": {},
   "outputs": [
    {
     "data": {
      "text/plain": [
       "'succeeded'"
      ]
     },
     "execution_count": 6,
     "metadata": {},
     "output_type": "execute_result"
    }
   ],
   "source": [
    "x"
   ]
  },
  {
   "cell_type": "markdown",
   "metadata": {},
   "source": [
    "## Creating two steps workflow (training, validation)\n",
    "\n",
    "* 1st step: Execute training job with parameters <b>p1</b> and <b>p2</b>, log results and various artifacts including model (see [training.py](training.py))\n",
    "* 2nd step: take the <b>modelfile</b> from the 1st step and run validation on it (see [validation.py](validation.py))\n",
    "\n",
    "### Building a Pipeline with Hyperparams and Parallel Execution\n",
    "We may want to run the same training job with multiple parameter options, we can lavarage MLRUN paralelism<br>\n",
    ", instead or running each run in a seperate container with extra start and stop times we can use a pool of serverless functions<br>\n",
    "or containers which will run the workload in parallel.\n",
    "\n",
    "We extend our pipeline to use hyper parameters, the training Job will accept a list per parameter and will run all the parameter<br>\n",
    "combinations (GridSearch), involving the fixes parameters `params` and the expended parameters (from `hyperparams`)<br>\n",
    "we can apply a `selector` which will return the best result based on the criteria e.g. `max.accuracy`.\n",
    "\n",
    "Parameter combinations can also be provided using the `param_file` option which reads the parameter values per iteration<br>\n",
    "from a CSV file (where the first row hold the parameter names and following rows hold param values).<br>\n",
    "the use of `hyperparams` and `param_file` can be extended to many tasks including data and ETL tasks<br>\n",
    "e.g. create a list of text or image file paths in a CSV file and run a step which process all those files in paralell. "
   ]
  },
  {
   "cell_type": "code",
   "execution_count": 7,
   "metadata": {},
   "outputs": [],
   "source": [
    "# run training using params p1 and p2, generate 2 registered outputs (model, dataset) to be listed in the pipeline UI\n",
    "# user can specify the target path per output e.g. 'model.txt':'<some-path>', or leave blank to use the default out_path\n",
    "def mlrun_train(p1, p2):\n",
    "    return mlrun_op('training', \n",
    "                    image = img,\n",
    "                    command = this_path + '/training.py', \n",
    "                    params = {'p2':p2},\n",
    "                    hyperparams = {'p1': p1},\n",
    "                    selector = 'max.accuracy',\n",
    "                    in_path='/User/experiment-tracking',\n",
    "                    outputs = {'model.txt':'', 'dataset.csv':''},\n",
    "                    out_path = artifacts_path)\n",
    "                    \n",
    "# use data (model) from the first step as an input\n",
    "def mlrun_validate(modelfile):\n",
    "    return mlrun_op('validation', \n",
    "                    image = img,\n",
    "                    command = this_path + '/validation.py', \n",
    "                    inputs = {'model.txt':modelfile},\n",
    "                    in_path='/User/experiment-tracking',\n",
    "                    out_path = artifacts_path)"
   ]
  },
  {
   "cell_type": "markdown",
   "metadata": {},
   "source": [
    "<b> Create a Kubeflow Pipelines DSL (execution graph/DAG)</b>"
   ]
  },
  {
   "cell_type": "code",
   "execution_count": 8,
   "metadata": {},
   "outputs": [],
   "source": [
    "@dsl.pipeline(\n",
    "    name='My MLRUN pipeline',\n",
    "    description='Shows how to use mlrun.'\n",
    ")\n",
    "def mlrun_pipeline(\n",
    "   p1 = [5, 6, 2] , p2 = '\"text\"'\n",
    "):\n",
    "    # create a train step, apply v3io mount to it (will add the /User mount to the container)\n",
    "    train = mlrun_train(p1, p2).apply(mount_v3io())\n",
    "    \n",
    "    # feed 1st step results into the secound step\n",
    "    # Note: the '.' in model.txt must be substituted with '-'\n",
    "    validate = mlrun_validate(train.outputs['model-txt']).apply(mount_v3io())"
   ]
  },
  {
   "cell_type": "markdown",
   "metadata": {},
   "source": [
    "<b> Create a KFP client, Experiment and run the pipeline with custom parameter </b>"
   ]
  },
  {
   "cell_type": "code",
   "execution_count": 9,
   "metadata": {},
   "outputs": [
    {
     "data": {
      "text/html": [
       "Experiment link <a href=\"/pipeline/#/experiments/details/4434099f-5976-4eb4-bef5-749630076013\" target=\"_blank\" >here</a>"
      ],
      "text/plain": [
       "<IPython.core.display.HTML object>"
      ]
     },
     "metadata": {},
     "output_type": "display_data"
    },
    {
     "data": {
      "text/html": [
       "Run link <a href=\"/pipeline/#/runs/details/d45e4d70-0e8c-4be1-8426-16a486e77f5d\" target=\"_blank\" >here</a>"
      ],
      "text/plain": [
       "<IPython.core.display.HTML object>"
      ]
     },
     "metadata": {},
     "output_type": "display_data"
    }
   ],
   "source": [
    "client = kfp.Client(namespace='default-tenant')\n",
    "arguments = {'p1': [5, 7, 3]}\n",
    "run_result = client.create_run_from_pipeline_func(mlrun_pipeline, arguments, run_name='mlrun demo 1', experiment_name='mlrun demo')\n",
    "\n",
    "# for debug you can see the pipeline as a yaml file, use\n",
    "# kfp.compiler.Compiler().compile(mlrun_pipeline, 'mlrunpipe.yaml')"
   ]
  },
  {
   "cell_type": "markdown",
   "metadata": {},
   "source": [
    "<b> See the run status and results in the run database </b>"
   ]
  },
  {
   "cell_type": "code",
   "execution_count": 10,
   "metadata": {},
   "outputs": [],
   "source": [
    "# connect to the run db \n",
    "db = get_run_db(db_path).connect()"
   ]
  },
  {
   "cell_type": "code",
   "execution_count": 12,
   "metadata": {},
   "outputs": [
    {
     "data": {
      "text/html": [
       "<style> \n",
       ".dictlist {\n",
       "  background-color: #b3edff; \n",
       "  text-align: center; \n",
       "  margin: 4px; \n",
       "  border-radius: 3px; padding: 0px 3px 1px 3px; display: inline-block;}\n",
       ".artifact {\n",
       "  cursor: pointer; \n",
       "  background-color: #ffe6cc; \n",
       "  text-align: left; \n",
       "  margin: 4px; border-radius: 3px; padding: 0px 3px 1px 3px; display: inline-block;\n",
       "}\n",
       "div.block.hidden {\n",
       "  display: none;\n",
       "}\n",
       ".clickable {\n",
       "  cursor: pointer;\n",
       "}\n",
       ".ellipsis {\n",
       "  display: inline-block;\n",
       "  max-width: 60px;\n",
       "  white-space: nowrap;\n",
       "  overflow: hidden;\n",
       "  text-overflow: ellipsis;\n",
       "}\n",
       ".master-wrapper {\n",
       "  display: flex;\n",
       "  flex-flow: row nowrap;\n",
       "  justify-content: flex-start;\n",
       "  align-items: stretch;\n",
       "}\n",
       ".master-tbl {\n",
       "  flex: 3\n",
       "}\n",
       ".master-wrapper > div {\n",
       "  margin: 4px;\n",
       "  padding: 10px;\n",
       "}\n",
       "iframe.fileview {\n",
       "  border: 0 none;\n",
       "  height: 100%;\n",
       "  width: 100%;\n",
       "  white-space: pre-wrap;\n",
       "}\n",
       ".pane-header-title {\n",
       "  width: 80%;\n",
       "  font-weight: 500;\n",
       "}\n",
       ".pane-header {\n",
       "  line-height: 1;\n",
       "  background-color: #ffe6cc;\n",
       "  padding: 3px;\n",
       "}\n",
       ".pane-header .close {\n",
       "  font-size: 20px;\n",
       "  font-weight: 700;\n",
       "  float: right;\n",
       "  margin-top: -5px;\n",
       "}\n",
       ".master-wrapper .right-pane {\n",
       "  border: 1px inset silver;\n",
       "  width: 40%;\n",
       "  min-height: 300px;\n",
       "  flex: 3\n",
       "  min-width: 500px;\n",
       "}\n",
       ".master-wrapper * {\n",
       "  box-sizing: border-box;\n",
       "}\n",
       "</style><script>\n",
       "function copyToClipboard(fld) {\n",
       "    if (document.queryCommandSupported && document.queryCommandSupported('copy')) {\n",
       "        var textarea = document.createElement('textarea');\n",
       "        textarea.textContent = fld.innerHTML;\n",
       "        textarea.style.position = 'fixed';\n",
       "        document.body.appendChild(textarea);\n",
       "        textarea.select();\n",
       "\n",
       "        try {\n",
       "            return document.execCommand('copy'); // Security exception may be thrown by some browsers.\n",
       "        } catch (ex) {\n",
       "\n",
       "        } finally {\n",
       "            document.body.removeChild(textarea);\n",
       "        }\n",
       "    }\n",
       "}\n",
       "function expandPanel(el) {\n",
       "  const panelName = \"#\" + el.getAttribute('paneName');\n",
       "  console.log(el.title);\n",
       "\n",
       "  document.querySelector(panelName + \"-title\").innerHTML = el.title\n",
       "  iframe = document.querySelector(panelName + \"-body\");\n",
       "  \n",
       "  const tblcss = `<style> body { font-family: Arial, Helvetica, sans-serif;}\n",
       "    #csv { margin-bottom: 15px; }\n",
       "    #csv table { border-collapse: collapse;}\n",
       "    #csv table td { padding: 4px 8px; border: 1px solid silver;} </style>`;\n",
       "\n",
       "  function csvToHtmlTable(str) {\n",
       "    return '<div id=\"csv\"><table><tr><td>' +  str.replace(/[\\n\\r]+$/g, '').replace(/[\\n\\r]+/g, '</td></tr><tr><td>')\n",
       "      .replace(/,/g, '</td><td>') + '</td></tr></table></div>';\n",
       "  }\n",
       "  \n",
       "  function reqListener () {\n",
       "    if (el.title.endsWith(\".csv\")) {\n",
       "      iframe.setAttribute(\"srcdoc\", tblcss + csvToHtmlTable(this.responseText));\n",
       "    } else {\n",
       "      iframe.setAttribute(\"srcdoc\", this.responseText);\n",
       "    }  \n",
       "    console.log(this.responseText);\n",
       "  }\n",
       "\n",
       "  const oReq = new XMLHttpRequest();\n",
       "  oReq.addEventListener(\"load\", reqListener);\n",
       "  oReq.open(\"GET\", el.title);\n",
       "  oReq.send();\n",
       "  \n",
       "  \n",
       "  //iframe.src = el.title;\n",
       "  const resultPane = document.querySelector(panelName + \"-pane\");\n",
       "  if (resultPane.classList.contains(\"hidden\")) {\n",
       "    resultPane.classList.remove(\"hidden\");\n",
       "  }\n",
       "}\n",
       "function closePanel(el) {\n",
       "  const panelName = \"#\" + el.getAttribute('paneName')\n",
       "  const resultPane = document.querySelector(panelName + \"-pane\");\n",
       "  if (!resultPane.classList.contains(\"hidden\")) {\n",
       "    resultPane.classList.add(\"hidden\");\n",
       "  }\n",
       "}\n",
       "\n",
       "</script>\n",
       "<div class=\"master-wrapper\">\n",
       "  <div class=\"block master-tbl\"><div>\n",
       "<style scoped>\n",
       "    .dataframe tbody tr th:only-of-type {\n",
       "        vertical-align: middle;\n",
       "    }\n",
       "\n",
       "    .dataframe tbody tr th {\n",
       "        vertical-align: top;\n",
       "    }\n",
       "\n",
       "    .dataframe thead th {\n",
       "        text-align: right;\n",
       "    }\n",
       "</style>\n",
       "<table border=\"1\" class=\"dataframe\">\n",
       "  <thead>\n",
       "    <tr style=\"text-align: right;\">\n",
       "      <th>uid</th>\n",
       "      <th>iter</th>\n",
       "      <th>start</th>\n",
       "      <th>state</th>\n",
       "      <th>name</th>\n",
       "      <th>labels</th>\n",
       "      <th>inputs</th>\n",
       "      <th>parameters</th>\n",
       "      <th>results</th>\n",
       "      <th>artifacts</th>\n",
       "    </tr>\n",
       "  </thead>\n",
       "  <tbody>\n",
       "    <tr>\n",
       "      <td><div title=\"fe84747565bc49bf988378c6146758d1\">...6758d1</div></td>\n",
       "      <td>3</td>\n",
       "      <td>Sep 11 21:15:36</td>\n",
       "      <td>completed</td>\n",
       "      <td>training</td>\n",
       "      <td><div class=\"dictlist\">workflow=d45e4d70-0e8c-4be1-8426-16a486e77f5d</div><div class=\"dictlist\">kind=local</div><div class=\"dictlist\">owner=root</div><div class=\"dictlist\">host=my-mlrun-pipeline-mw5cd-1328661568</div><div class=\"dictlist\">framework=sklearn</div></td>\n",
       "      <td><div class=\"artifact\" onclick=\"expandPanel(this)\" paneName=\"result9c091124\" title=\"/files/experiment-tracking/infile.txt\">infile.txt</div></td>\n",
       "      <td><div class=\"dictlist\">p2=text</div><div class=\"dictlist\">p1=3</div></td>\n",
       "      <td><div class=\"dictlist\">accuracy=6</div><div class=\"dictlist\">loss=9</div></td>\n",
       "      <td><div class=\"artifact\" onclick=\"expandPanel(this)\" paneName=\"result9c091124\" title=\"files/v3io/bigdata/mlrun/d45e4d70-0e8c-4be1-8426-16a486e77f5d/3/model.txt\">model.txt</div><div class=\"artifact\" onclick=\"expandPanel(this)\" paneName=\"result9c091124\" title=\"files/v3io/bigdata/mlrun/d45e4d70-0e8c-4be1-8426-16a486e77f5d/3/results.html\">results.html</div><div class=\"artifact\" onclick=\"expandPanel(this)\" paneName=\"result9c091124\" title=\"files/v3io/bigdata/mlrun/d45e4d70-0e8c-4be1-8426-16a486e77f5d/3/dataset.csv\">dataset.csv</div><div class=\"artifact\" onclick=\"expandPanel(this)\" paneName=\"result9c091124\" title=\"files/v3io/bigdata/mlrun/d45e4d70-0e8c-4be1-8426-16a486e77f5d/3/chart.html\">chart.html</div></td>\n",
       "    </tr>\n",
       "    <tr>\n",
       "      <td><div title=\"fe84747565bc49bf988378c6146758d1\">...6758d1</div></td>\n",
       "      <td>2</td>\n",
       "      <td>Sep 11 21:15:35</td>\n",
       "      <td>completed</td>\n",
       "      <td>training</td>\n",
       "      <td><div class=\"dictlist\">workflow=d45e4d70-0e8c-4be1-8426-16a486e77f5d</div><div class=\"dictlist\">kind=local</div><div class=\"dictlist\">owner=root</div><div class=\"dictlist\">host=my-mlrun-pipeline-mw5cd-1328661568</div><div class=\"dictlist\">framework=sklearn</div></td>\n",
       "      <td><div class=\"artifact\" onclick=\"expandPanel(this)\" paneName=\"result9c091124\" title=\"/files/experiment-tracking/infile.txt\">infile.txt</div></td>\n",
       "      <td><div class=\"dictlist\">p2=text</div><div class=\"dictlist\">p1=7</div></td>\n",
       "      <td><div class=\"dictlist\">accuracy=14</div><div class=\"dictlist\">loss=21</div></td>\n",
       "      <td><div class=\"artifact\" onclick=\"expandPanel(this)\" paneName=\"result9c091124\" title=\"files/v3io/bigdata/mlrun/d45e4d70-0e8c-4be1-8426-16a486e77f5d/2/model.txt\">model.txt</div><div class=\"artifact\" onclick=\"expandPanel(this)\" paneName=\"result9c091124\" title=\"files/v3io/bigdata/mlrun/d45e4d70-0e8c-4be1-8426-16a486e77f5d/2/results.html\">results.html</div><div class=\"artifact\" onclick=\"expandPanel(this)\" paneName=\"result9c091124\" title=\"files/v3io/bigdata/mlrun/d45e4d70-0e8c-4be1-8426-16a486e77f5d/2/dataset.csv\">dataset.csv</div><div class=\"artifact\" onclick=\"expandPanel(this)\" paneName=\"result9c091124\" title=\"files/v3io/bigdata/mlrun/d45e4d70-0e8c-4be1-8426-16a486e77f5d/2/chart.html\">chart.html</div></td>\n",
       "    </tr>\n",
       "    <tr>\n",
       "      <td><div title=\"fe84747565bc49bf988378c6146758d1\">...6758d1</div></td>\n",
       "      <td>1</td>\n",
       "      <td>Sep 11 21:15:33</td>\n",
       "      <td>completed</td>\n",
       "      <td>training</td>\n",
       "      <td><div class=\"dictlist\">workflow=d45e4d70-0e8c-4be1-8426-16a486e77f5d</div><div class=\"dictlist\">kind=local</div><div class=\"dictlist\">owner=root</div><div class=\"dictlist\">host=my-mlrun-pipeline-mw5cd-1328661568</div><div class=\"dictlist\">framework=sklearn</div></td>\n",
       "      <td><div class=\"artifact\" onclick=\"expandPanel(this)\" paneName=\"result9c091124\" title=\"/files/experiment-tracking/infile.txt\">infile.txt</div></td>\n",
       "      <td><div class=\"dictlist\">p2=text</div><div class=\"dictlist\">p1=5</div></td>\n",
       "      <td><div class=\"dictlist\">accuracy=10</div><div class=\"dictlist\">loss=15</div></td>\n",
       "      <td><div class=\"artifact\" onclick=\"expandPanel(this)\" paneName=\"result9c091124\" title=\"files/v3io/bigdata/mlrun/d45e4d70-0e8c-4be1-8426-16a486e77f5d/1/model.txt\">model.txt</div><div class=\"artifact\" onclick=\"expandPanel(this)\" paneName=\"result9c091124\" title=\"files/v3io/bigdata/mlrun/d45e4d70-0e8c-4be1-8426-16a486e77f5d/1/results.html\">results.html</div><div class=\"artifact\" onclick=\"expandPanel(this)\" paneName=\"result9c091124\" title=\"files/v3io/bigdata/mlrun/d45e4d70-0e8c-4be1-8426-16a486e77f5d/1/dataset.csv\">dataset.csv</div><div class=\"artifact\" onclick=\"expandPanel(this)\" paneName=\"result9c091124\" title=\"files/v3io/bigdata/mlrun/d45e4d70-0e8c-4be1-8426-16a486e77f5d/1/chart.html\">chart.html</div></td>\n",
       "    </tr>\n",
       "    <tr>\n",
       "      <td><div title=\"fe84747565bc49bf988378c6146758d1\">...6758d1</div></td>\n",
       "      <td>0</td>\n",
       "      <td>Sep 11 21:15:32</td>\n",
       "      <td>completed</td>\n",
       "      <td>training</td>\n",
       "      <td><div class=\"dictlist\">workflow=d45e4d70-0e8c-4be1-8426-16a486e77f5d</div><div class=\"dictlist\">kind=local</div><div class=\"dictlist\">owner=root</div></td>\n",
       "      <td></td>\n",
       "      <td><div class=\"dictlist\">p2=text</div></td>\n",
       "      <td><div class=\"dictlist\">best_iteration=2</div><div class=\"dictlist\">accuracy=14</div><div class=\"dictlist\">loss=21</div></td>\n",
       "      <td><div class=\"artifact\" onclick=\"expandPanel(this)\" paneName=\"result9c091124\" title=\"files/v3io/bigdata/mlrun/d45e4d70-0e8c-4be1-8426-16a486e77f5d/2/model.txt\">model.txt</div><div class=\"artifact\" onclick=\"expandPanel(this)\" paneName=\"result9c091124\" title=\"files/v3io/bigdata/mlrun/d45e4d70-0e8c-4be1-8426-16a486e77f5d/2/results.html\">results.html</div><div class=\"artifact\" onclick=\"expandPanel(this)\" paneName=\"result9c091124\" title=\"files/v3io/bigdata/mlrun/d45e4d70-0e8c-4be1-8426-16a486e77f5d/2/dataset.csv\">dataset.csv</div><div class=\"artifact\" onclick=\"expandPanel(this)\" paneName=\"result9c091124\" title=\"files/v3io/bigdata/mlrun/d45e4d70-0e8c-4be1-8426-16a486e77f5d/2/chart.html\">chart.html</div><div class=\"artifact\" onclick=\"expandPanel(this)\" paneName=\"result9c091124\" title=\"files/v3io/bigdata/mlrun/d45e4d70-0e8c-4be1-8426-16a486e77f5d/iteration_results.csv\">iteration_results.csv</div></td>\n",
       "    </tr>\n",
       "  </tbody>\n",
       "</table>\n",
       "</div></div>\n",
       "  <div id=\"result9c091124-pane\" class=\"right-pane block hidden\">\n",
       "    <div class=\"pane-header\">\n",
       "      <span id=\"result9c091124-title\" class=\"pane-header-title\">Title</span>\n",
       "      <span onclick=\"closePanel(this)\" paneName=\"result9c091124\" class=\"close clickable\">&times;</span>\n",
       "    </div>\n",
       "    <iframe class=\"fileview\" id=\"result9c091124-body\"></iframe>\n",
       "  </div>\n",
       "</div>\n"
      ],
      "text/plain": [
       "<IPython.core.display.HTML object>"
      ]
     },
     "metadata": {},
     "output_type": "display_data"
    }
   ],
   "source": [
    "# query the DB with filter on workflow ID (only show this workflow) \n",
    "db.list_runs('', labels=f'workflow={run_result.run_id}').show()"
   ]
  },
  {
   "cell_type": "code",
   "execution_count": null,
   "metadata": {},
   "outputs": [],
   "source": []
  }
 ],
 "metadata": {
  "kernelspec": {
   "display_name": "Python 3",
   "language": "python",
   "name": "python3"
  },
  "language_info": {
   "codemirror_mode": {
    "name": "ipython",
    "version": 3
   },
   "file_extension": ".py",
   "mimetype": "text/x-python",
   "name": "python",
   "nbconvert_exporter": "python",
   "pygments_lexer": "ipython3",
   "version": "3.6.8"
  }
 },
 "nbformat": 4,
 "nbformat_minor": 4
}
